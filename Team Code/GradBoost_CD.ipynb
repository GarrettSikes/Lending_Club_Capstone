{
 "cells": [
  {
   "cell_type": "code",
   "execution_count": 10,
   "metadata": {},
   "outputs": [],
   "source": [
    "import numpy as np\n",
    "import matplotlib.pyplot as plt\n",
    "\n",
    "from sklearn.model_selection import train_test_split, GridSearchCV\n",
    "from sklearn.ensemble import GradientBoostingClassifier\n",
    "from sklearn.preprocessing import LabelEncoder\n",
    "from sklearn.metrics import confusion_matrix\n",
    "\n",
    "import pandas as pd \n",
    "pd.set_option('display.max_columns', None)"
   ]
  },
  {
   "cell_type": "code",
   "execution_count": 21,
   "metadata": {},
   "outputs": [],
   "source": [
    "df = pd.read_csv('../../cleaned_accepted_2007_to_2015Q4.csv.gz')\n",
    "df.drop(columns='Unnamed: 0', inplace=True)"
   ]
  },
  {
   "cell_type": "code",
   "execution_count": 22,
   "metadata": {},
   "outputs": [],
   "source": [
    "df = df[df['issue_year'] < 2016]\n",
    "\n",
    "#df = df[df['term'] != ' 60 months']\n",
    "\n",
    "df = df[df['grade'].isin(['1','2'])]"
   ]
  },
  {
   "cell_type": "code",
   "execution_count": 23,
   "metadata": {},
   "outputs": [
    {
     "data": {
      "text/plain": [
       "(355041, 33)"
      ]
     },
     "execution_count": 23,
     "metadata": {},
     "output_type": "execute_result"
    }
   ],
   "source": [
    "df.shape"
   ]
  },
  {
   "cell_type": "code",
   "execution_count": 24,
   "metadata": {},
   "outputs": [],
   "source": [
    "X = df[['grade', 'purpose', 'annual_inc', 'dti', 'term',\n",
    "       'emp_length', 'funded_amnt', 'inq_fi', 'inq_last_12m', 'installment',\n",
    "       'int_rate', 'loan_amnt', 'open_acc', 'percent_bc_gt_75',\n",
    "       'pub_rec', 'pub_rec_bankruptcies', 'tax_liens', 'total_acc',\n",
    "       'delinq_amnt', 'delinq_2yrs', 'mths_since_last_delinq',\n",
    "       'mths_since_last_major_derog', 'cr_yeargap', 'avg_fico_score',\n",
    "       'home_ownership_cat', 'application_type_cat', 'purpose_cat',\n",
    "       'sub_grade_cat', 'home_ownership', 'annual_inc']].copy()\n",
    "    \n",
    "y = df['loan_status']\n",
    "    \n",
    "X_train, X_test, y_train, y_test = train_test_split(X, y, test_size=0.2, random_state=27, shuffle=True)"
   ]
  },
  {
   "cell_type": "code",
   "execution_count": 25,
   "metadata": {},
   "outputs": [
    {
     "data": {
      "text/plain": [
       "GradientBoostingClassifier(ccp_alpha=0.0, criterion='friedman_mse', init=None,\n",
       "                           learning_rate=0.1, loss='deviance', max_depth=3,\n",
       "                           max_features=None, max_leaf_nodes=None,\n",
       "                           min_impurity_decrease=0.0, min_impurity_split=None,\n",
       "                           min_samples_leaf=1, min_samples_split=2,\n",
       "                           min_weight_fraction_leaf=0.0, n_estimators=100,\n",
       "                           n_iter_no_change=None, presort='deprecated',\n",
       "                           random_state=None, subsample=1.0, tol=0.0001,\n",
       "                           validation_fraction=0.1, verbose=0,\n",
       "                           warm_start=False)"
      ]
     },
     "execution_count": 25,
     "metadata": {},
     "output_type": "execute_result"
    }
   ],
   "source": [
    "gbm_cd = GradientBoostingClassifier()\n",
    "gbm_cd.fit(X_train, y_train)"
   ]
  },
  {
   "cell_type": "code",
   "execution_count": 26,
   "metadata": {},
   "outputs": [
    {
     "name": "stdout",
     "output_type": "stream",
     "text": [
      "The train accuracy is 0.911\n",
      "The train accuracy is 0.911\n",
      "[[    0  6351]\n",
      " [    0 64658]]\n"
     ]
    }
   ],
   "source": [
    "print('The train accuracy is %.3f' %(gbm_cd.score(X_train, y_train)))\n",
    "print('The train accuracy is %.3f' %(gbm_cd.score(X_test, y_test)))\n",
    "\n",
    "predictions = gbm_cd.predict(X_test)\n",
    "cm = confusion_matrix(y_test, predictions)\n",
    "print(cm)"
   ]
  },
  {
   "cell_type": "code",
   "execution_count": null,
   "metadata": {},
   "outputs": [],
   "source": []
  },
  {
   "cell_type": "markdown",
   "metadata": {},
   "source": [
    "## Hyperparameter Tuning"
   ]
  },
  {
   "cell_type": "code",
   "execution_count": 9,
   "metadata": {},
   "outputs": [],
   "source": [
    "# gbm_cd_tuned = GradientBoostingClassifier()\n",
    "# parameters = {\n",
    "#     \"n_estimators\":[5,25,125,625,1300],\n",
    "#     \"max_depth\":[1,2,3,4,7],\n",
    "#     \"learning_rate\":[0.01,0.1,1,10]\n",
    "# }"
   ]
  },
  {
   "cell_type": "code",
   "execution_count": 13,
   "metadata": {},
   "outputs": [
    {
     "data": {
      "text/plain": [
       "GridSearchCV(cv=5, error_score=nan,\n",
       "             estimator=GradientBoostingClassifier(ccp_alpha=0.0,\n",
       "                                                  criterion='friedman_mse',\n",
       "                                                  init=None, learning_rate=0.1,\n",
       "                                                  loss='deviance', max_depth=3,\n",
       "                                                  max_features=None,\n",
       "                                                  max_leaf_nodes=None,\n",
       "                                                  min_impurity_decrease=0.0,\n",
       "                                                  min_impurity_split=None,\n",
       "                                                  min_samples_leaf=1,\n",
       "                                                  min_samples_split=2,\n",
       "                                                  min_weight_fraction_leaf=0.0,\n",
       "                                                  n_estimators=100,\n",
       "                                                  n_iter_no_change=None,\n",
       "                                                  presort='deprecated',\n",
       "                                                  random_state=None,\n",
       "                                                  subsample=1.0, tol=0.0001,\n",
       "                                                  validation_fraction=0.1,\n",
       "                                                  verbose=0, warm_start=False),\n",
       "             iid='deprecated', n_jobs=7,\n",
       "             param_grid={'learning_rate': [0.01, 0.1, 1, 10],\n",
       "                         'max_depth': [1, 2, 3, 4, 7],\n",
       "                         'n_estimators': [5, 25, 125, 625, 1300]},\n",
       "             pre_dispatch='2*n_jobs', refit=True, return_train_score=False,\n",
       "             scoring=None, verbose=0)"
      ]
     },
     "execution_count": 13,
     "metadata": {},
     "output_type": "execute_result"
    }
   ],
   "source": [
    "# cv = GridSearchCV(gbm_cd_tuned, parameters, cv=5, n_jobs=7)\n",
    "# cv.fit(X_train, y_train)\n"
   ]
  },
  {
   "cell_type": "code",
   "execution_count": 15,
   "metadata": {},
   "outputs": [
    {
     "name": "stdout",
     "output_type": "stream",
     "text": [
      "Tuned hyperparameters : (best parameters)  {'learning_rate': 0.1, 'max_depth': 1, 'n_estimators': 625}\n",
      "accuracy:  0.803248267296841\n"
     ]
    }
   ],
   "source": [
    "# print('Tuned hyperparameters : (best parameters) ', cv.best_params_)\n",
    "# print('accuracy: ', cv.best_score_)"
   ]
  },
  {
   "cell_type": "code",
   "execution_count": null,
   "metadata": {},
   "outputs": [],
   "source": []
  },
  {
   "cell_type": "markdown",
   "metadata": {},
   "source": [
    "## Run with the short list of features"
   ]
  },
  {
   "cell_type": "code",
   "execution_count": 18,
   "metadata": {},
   "outputs": [],
   "source": [
    "X_cut = df[['issue_year', 'loan_amnt', 'funded_amnt', 'installment', 'sub_grade_cat', 'int_rate',\n",
    "            'percent_bc_gt_75', 'avg_fico_score', 'mths_since_last_delinq', 'mths_since_last_major_derog', \n",
    "            'cr_yeargap', 'dti', 'emp_length', 'inq_last_12m', 'open_acc', 'total_acc', 'delinq_amnt', 'term']]\n",
    "\n",
    "y = df['loan_status']\n",
    "    \n",
    "X_cut_train, X_cut_test, y_cut_train, y_cut_test = train_test_split(X_cut, y, test_size=0.2, random_state=27, shuffle=True)"
   ]
  },
  {
   "cell_type": "code",
   "execution_count": 27,
   "metadata": {},
   "outputs": [
    {
     "data": {
      "text/plain": [
       "GradientBoostingClassifier(ccp_alpha=0.0, criterion='friedman_mse', init=None,\n",
       "                           learning_rate=0.1, loss='deviance', max_depth=3,\n",
       "                           max_features=None, max_leaf_nodes=None,\n",
       "                           min_impurity_decrease=0.0, min_impurity_split=None,\n",
       "                           min_samples_leaf=1, min_samples_split=2,\n",
       "                           min_weight_fraction_leaf=0.0, n_estimators=500,\n",
       "                           n_iter_no_change=None, presort='deprecated',\n",
       "                           random_state=None, subsample=1.0, tol=0.0001,\n",
       "                           validation_fraction=0.1, verbose=0,\n",
       "                           warm_start=False)"
      ]
     },
     "execution_count": 27,
     "metadata": {},
     "output_type": "execute_result"
    }
   ],
   "source": [
    "gbm_cd_cut = GradientBoostingClassifier(learning_rate=0.1, max_depth = 3, n_estimators=500)\n",
    "gbm_cd_cut.fit(X_cut_train, y_cut_train)"
   ]
  },
  {
   "cell_type": "code",
   "execution_count": 28,
   "metadata": {},
   "outputs": [
    {
     "name": "stdout",
     "output_type": "stream",
     "text": [
      "The train accuracy is 0.804\n",
      "The train accuracy is 0.802\n",
      "[[    0  6351]\n",
      " [    0 64658]]\n"
     ]
    }
   ],
   "source": [
    "print('The train accuracy is %.3f' %(gbm_cd_cut.score(X_cut_train, y_cut_train)))\n",
    "print('The train accuracy is %.3f' %(gbm_cd_cut.score(X_cut_test, y_cut_test)))\n",
    "\n",
    "predictions = gbm_cd.predict(X_test)\n",
    "cm = confusion_matrix(y_test, predictions)\n",
    "print(cm)"
   ]
  },
  {
   "cell_type": "code",
   "execution_count": null,
   "metadata": {},
   "outputs": [],
   "source": []
  }
 ],
 "metadata": {
  "kernelspec": {
   "display_name": "Python 3",
   "language": "python",
   "name": "python3"
  },
  "language_info": {
   "codemirror_mode": {
    "name": "ipython",
    "version": 3
   },
   "file_extension": ".py",
   "mimetype": "text/x-python",
   "name": "python",
   "nbconvert_exporter": "python",
   "pygments_lexer": "ipython3",
   "version": "3.7.6"
  }
 },
 "nbformat": 4,
 "nbformat_minor": 4
}
