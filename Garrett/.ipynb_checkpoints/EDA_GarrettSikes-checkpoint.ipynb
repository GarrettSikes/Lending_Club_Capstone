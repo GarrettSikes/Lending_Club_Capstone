{
 "cells": [
  {
   "cell_type": "code",
   "execution_count": 1,
   "metadata": {},
   "outputs": [],
   "source": [
    "import numpy as np\n",
    "import seaborn as sns\n",
    "import matplotlib.pyplot as plt\n",
    "import os\n",
    "\n",
    "import pandas as pd \n",
    "pd.set_option('display.max_columns', None)\n",
    "pd.set_option('display.max_rows', None)"
   ]
  },
  {
   "cell_type": "code",
   "execution_count": 2,
   "metadata": {},
   "outputs": [
    {
     "data": {
      "text/plain": [
       "'W:\\\\NYC Data Science\\\\Capstone-Lending_Club\\\\Lending_Club_NYCDSA\\\\Garrett'"
      ]
     },
     "execution_count": 2,
     "metadata": {},
     "output_type": "execute_result"
    }
   ],
   "source": [
    "os.getcwd()"
   ]
  },
  {
   "cell_type": "code",
   "execution_count": 3,
   "metadata": {},
   "outputs": [
    {
     "name": "stderr",
     "output_type": "stream",
     "text": [
      "C:\\ProgramData\\Anaconda3\\lib\\site-packages\\IPython\\core\\interactiveshell.py:3063: DtypeWarning: Columns (0,19,49,59,118,129,130,131,134,135,136,139,145,146,147) have mixed types.Specify dtype option on import or set low_memory=False.\n",
      "  interactivity=interactivity, compiler=compiler, result=result)\n"
     ]
    }
   ],
   "source": [
    "df = pd.read_csv('../../accepted_2007_to_2018Q4.csv.gz')\n",
    "df.drop(columns='member_id', inplace=True)"
   ]
  },
  {
   "cell_type": "code",
   "execution_count": 4,
   "metadata": {},
   "outputs": [
    {
     "data": {
      "text/plain": [
       "Index(['id', 'loan_amnt', 'funded_amnt', 'funded_amnt_inv', 'term', 'int_rate',\n",
       "       'installment', 'grade', 'sub_grade', 'emp_title',\n",
       "       ...\n",
       "       'hardship_payoff_balance_amount', 'hardship_last_payment_amount',\n",
       "       'disbursement_method', 'debt_settlement_flag',\n",
       "       'debt_settlement_flag_date', 'settlement_status', 'settlement_date',\n",
       "       'settlement_amount', 'settlement_percentage', 'settlement_term'],\n",
       "      dtype='object', length=150)"
      ]
     },
     "execution_count": 4,
     "metadata": {},
     "output_type": "execute_result"
    }
   ],
   "source": [
    "df.columns"
   ]
  },
  {
   "cell_type": "code",
   "execution_count": 5,
   "metadata": {
    "scrolled": false
   },
   "outputs": [
    {
     "data": {
      "text/plain": [
       "id                                             object\n",
       "loan_amnt                                     float64\n",
       "funded_amnt                                   float64\n",
       "funded_amnt_inv                               float64\n",
       "term                                           object\n",
       "int_rate                                      float64\n",
       "installment                                   float64\n",
       "grade                                          object\n",
       "sub_grade                                      object\n",
       "emp_title                                      object\n",
       "emp_length                                     object\n",
       "home_ownership                                 object\n",
       "annual_inc                                    float64\n",
       "verification_status                            object\n",
       "issue_d                                        object\n",
       "loan_status                                    object\n",
       "pymnt_plan                                     object\n",
       "url                                            object\n",
       "desc                                           object\n",
       "purpose                                        object\n",
       "title                                          object\n",
       "zip_code                                       object\n",
       "addr_state                                     object\n",
       "dti                                           float64\n",
       "delinq_2yrs                                   float64\n",
       "earliest_cr_line                               object\n",
       "fico_range_low                                float64\n",
       "fico_range_high                               float64\n",
       "inq_last_6mths                                float64\n",
       "mths_since_last_delinq                        float64\n",
       "mths_since_last_record                        float64\n",
       "open_acc                                      float64\n",
       "pub_rec                                       float64\n",
       "revol_bal                                     float64\n",
       "revol_util                                    float64\n",
       "total_acc                                     float64\n",
       "initial_list_status                            object\n",
       "out_prncp                                     float64\n",
       "out_prncp_inv                                 float64\n",
       "total_pymnt                                   float64\n",
       "total_pymnt_inv                               float64\n",
       "total_rec_prncp                               float64\n",
       "total_rec_int                                 float64\n",
       "total_rec_late_fee                            float64\n",
       "recoveries                                    float64\n",
       "collection_recovery_fee                       float64\n",
       "last_pymnt_d                                   object\n",
       "last_pymnt_amnt                               float64\n",
       "next_pymnt_d                                   object\n",
       "last_credit_pull_d                             object\n",
       "last_fico_range_high                          float64\n",
       "last_fico_range_low                           float64\n",
       "collections_12_mths_ex_med                    float64\n",
       "mths_since_last_major_derog                   float64\n",
       "policy_code                                   float64\n",
       "application_type                               object\n",
       "annual_inc_joint                              float64\n",
       "dti_joint                                     float64\n",
       "verification_status_joint                      object\n",
       "acc_now_delinq                                float64\n",
       "tot_coll_amt                                  float64\n",
       "tot_cur_bal                                   float64\n",
       "open_acc_6m                                   float64\n",
       "open_act_il                                   float64\n",
       "open_il_12m                                   float64\n",
       "open_il_24m                                   float64\n",
       "mths_since_rcnt_il                            float64\n",
       "total_bal_il                                  float64\n",
       "il_util                                       float64\n",
       "open_rv_12m                                   float64\n",
       "open_rv_24m                                   float64\n",
       "max_bal_bc                                    float64\n",
       "all_util                                      float64\n",
       "total_rev_hi_lim                              float64\n",
       "inq_fi                                        float64\n",
       "total_cu_tl                                   float64\n",
       "inq_last_12m                                  float64\n",
       "acc_open_past_24mths                          float64\n",
       "avg_cur_bal                                   float64\n",
       "bc_open_to_buy                                float64\n",
       "bc_util                                       float64\n",
       "chargeoff_within_12_mths                      float64\n",
       "delinq_amnt                                   float64\n",
       "mo_sin_old_il_acct                            float64\n",
       "mo_sin_old_rev_tl_op                          float64\n",
       "mo_sin_rcnt_rev_tl_op                         float64\n",
       "mo_sin_rcnt_tl                                float64\n",
       "mort_acc                                      float64\n",
       "mths_since_recent_bc                          float64\n",
       "mths_since_recent_bc_dlq                      float64\n",
       "mths_since_recent_inq                         float64\n",
       "mths_since_recent_revol_delinq                float64\n",
       "num_accts_ever_120_pd                         float64\n",
       "num_actv_bc_tl                                float64\n",
       "num_actv_rev_tl                               float64\n",
       "num_bc_sats                                   float64\n",
       "num_bc_tl                                     float64\n",
       "num_il_tl                                     float64\n",
       "num_op_rev_tl                                 float64\n",
       "num_rev_accts                                 float64\n",
       "num_rev_tl_bal_gt_0                           float64\n",
       "num_sats                                      float64\n",
       "num_tl_120dpd_2m                              float64\n",
       "num_tl_30dpd                                  float64\n",
       "num_tl_90g_dpd_24m                            float64\n",
       "num_tl_op_past_12m                            float64\n",
       "pct_tl_nvr_dlq                                float64\n",
       "percent_bc_gt_75                              float64\n",
       "pub_rec_bankruptcies                          float64\n",
       "tax_liens                                     float64\n",
       "tot_hi_cred_lim                               float64\n",
       "total_bal_ex_mort                             float64\n",
       "total_bc_limit                                float64\n",
       "total_il_high_credit_limit                    float64\n",
       "revol_bal_joint                               float64\n",
       "sec_app_fico_range_low                        float64\n",
       "sec_app_fico_range_high                       float64\n",
       "sec_app_earliest_cr_line                       object\n",
       "sec_app_inq_last_6mths                        float64\n",
       "sec_app_mort_acc                              float64\n",
       "sec_app_open_acc                              float64\n",
       "sec_app_revol_util                            float64\n",
       "sec_app_open_act_il                           float64\n",
       "sec_app_num_rev_accts                         float64\n",
       "sec_app_chargeoff_within_12_mths              float64\n",
       "sec_app_collections_12_mths_ex_med            float64\n",
       "sec_app_mths_since_last_major_derog           float64\n",
       "hardship_flag                                  object\n",
       "hardship_type                                  object\n",
       "hardship_reason                                object\n",
       "hardship_status                                object\n",
       "deferral_term                                 float64\n",
       "hardship_amount                               float64\n",
       "hardship_start_date                            object\n",
       "hardship_end_date                              object\n",
       "payment_plan_start_date                        object\n",
       "hardship_length                               float64\n",
       "hardship_dpd                                  float64\n",
       "hardship_loan_status                           object\n",
       "orig_projected_additional_accrued_interest    float64\n",
       "hardship_payoff_balance_amount                float64\n",
       "hardship_last_payment_amount                  float64\n",
       "disbursement_method                            object\n",
       "debt_settlement_flag                           object\n",
       "debt_settlement_flag_date                      object\n",
       "settlement_status                              object\n",
       "settlement_date                                object\n",
       "settlement_amount                             float64\n",
       "settlement_percentage                         float64\n",
       "settlement_term                               float64\n",
       "dtype: object"
      ]
     },
     "execution_count": 5,
     "metadata": {},
     "output_type": "execute_result"
    }
   ],
   "source": [
    "df.dtypes"
   ]
  },
  {
   "cell_type": "code",
   "execution_count": 6,
   "metadata": {},
   "outputs": [
    {
     "data": {
      "text/plain": [
       "id                                                  0\n",
       "loan_amnt                                          33\n",
       "funded_amnt                                        33\n",
       "funded_amnt_inv                                    33\n",
       "term                                               33\n",
       "int_rate                                           33\n",
       "installment                                        33\n",
       "grade                                              33\n",
       "sub_grade                                          33\n",
       "emp_title                                      167002\n",
       "emp_length                                     146940\n",
       "home_ownership                                     33\n",
       "annual_inc                                         37\n",
       "verification_status                                33\n",
       "issue_d                                            33\n",
       "loan_status                                        33\n",
       "pymnt_plan                                         33\n",
       "url                                                33\n",
       "desc                                          2134634\n",
       "purpose                                            33\n",
       "title                                           23358\n",
       "zip_code                                           34\n",
       "addr_state                                         33\n",
       "dti                                              1744\n",
       "delinq_2yrs                                        62\n",
       "earliest_cr_line                                   62\n",
       "fico_range_low                                     33\n",
       "fico_range_high                                    33\n",
       "inq_last_6mths                                     63\n",
       "mths_since_last_delinq                        1158535\n",
       "mths_since_last_record                        1901545\n",
       "open_acc                                           62\n",
       "pub_rec                                            62\n",
       "revol_bal                                          33\n",
       "revol_util                                       1835\n",
       "total_acc                                          62\n",
       "initial_list_status                                33\n",
       "out_prncp                                          33\n",
       "out_prncp_inv                                      33\n",
       "total_pymnt                                        33\n",
       "total_pymnt_inv                                    33\n",
       "total_rec_prncp                                    33\n",
       "total_rec_int                                      33\n",
       "total_rec_late_fee                                 33\n",
       "recoveries                                         33\n",
       "collection_recovery_fee                            33\n",
       "last_pymnt_d                                     2460\n",
       "last_pymnt_amnt                                    33\n",
       "next_pymnt_d                                  1345343\n",
       "last_credit_pull_d                                105\n",
       "last_fico_range_high                               33\n",
       "last_fico_range_low                                33\n",
       "collections_12_mths_ex_med                        178\n",
       "mths_since_last_major_derog                   1679926\n",
       "policy_code                                        33\n",
       "application_type                                   33\n",
       "annual_inc_joint                              2139991\n",
       "dti_joint                                     2139995\n",
       "verification_status_joint                     2144971\n",
       "acc_now_delinq                                     62\n",
       "tot_coll_amt                                    70309\n",
       "tot_cur_bal                                     70309\n",
       "open_acc_6m                                    866163\n",
       "open_act_il                                    866162\n",
       "open_il_12m                                    866162\n",
       "open_il_24m                                    866162\n",
       "mths_since_rcnt_il                             909957\n",
       "total_bal_il                                   866162\n",
       "il_util                                       1068883\n",
       "open_rv_12m                                    866162\n",
       "open_rv_24m                                    866162\n",
       "max_bal_bc                                     866162\n",
       "all_util                                       866381\n",
       "total_rev_hi_lim                                70309\n",
       "inq_fi                                         866162\n",
       "total_cu_tl                                    866163\n",
       "inq_last_12m                                   866163\n",
       "acc_open_past_24mths                            50063\n",
       "avg_cur_bal                                     70379\n",
       "bc_open_to_buy                                  74968\n",
       "bc_util                                         76104\n",
       "chargeoff_within_12_mths                          178\n",
       "delinq_amnt                                        62\n",
       "mo_sin_old_il_acct                             139104\n",
       "mo_sin_old_rev_tl_op                            70310\n",
       "mo_sin_rcnt_rev_tl_op                           70310\n",
       "mo_sin_rcnt_tl                                  70309\n",
       "mort_acc                                        50063\n",
       "mths_since_recent_bc                            73445\n",
       "mths_since_recent_bc_dlq                      1741000\n",
       "mths_since_recent_inq                          295468\n",
       "mths_since_recent_revol_delinq                1520342\n",
       "num_accts_ever_120_pd                           70309\n",
       "num_actv_bc_tl                                  70309\n",
       "num_actv_rev_tl                                 70309\n",
       "num_bc_sats                                     58623\n",
       "num_bc_tl                                       70309\n",
       "num_il_tl                                       70309\n",
       "num_op_rev_tl                                   70309\n",
       "num_rev_accts                                   70310\n",
       "num_rev_tl_bal_gt_0                             70309\n",
       "num_sats                                        58623\n",
       "num_tl_120dpd_2m                               153690\n",
       "num_tl_30dpd                                    70309\n",
       "num_tl_90g_dpd_24m                              70309\n",
       "num_tl_op_past_12m                              70309\n",
       "pct_tl_nvr_dlq                                  70464\n",
       "percent_bc_gt_75                                75412\n",
       "pub_rec_bankruptcies                             1398\n",
       "tax_liens                                         138\n",
       "tot_hi_cred_lim                                 70309\n",
       "total_bal_ex_mort                               50063\n",
       "total_bc_limit                                  50063\n",
       "total_il_high_credit_limit                      70309\n",
       "revol_bal_joint                               2152681\n",
       "sec_app_fico_range_low                        2152680\n",
       "sec_app_fico_range_high                       2152680\n",
       "sec_app_earliest_cr_line                      2152680\n",
       "sec_app_inq_last_6mths                        2152680\n",
       "sec_app_mort_acc                              2152680\n",
       "sec_app_open_acc                              2152680\n",
       "sec_app_revol_util                            2154517\n",
       "sec_app_open_act_il                           2152680\n",
       "sec_app_num_rev_accts                         2152680\n",
       "sec_app_chargeoff_within_12_mths              2152680\n",
       "sec_app_collections_12_mths_ex_med            2152680\n",
       "sec_app_mths_since_last_major_derog           2224759\n",
       "hardship_flag                                      33\n",
       "hardship_type                                 2249784\n",
       "hardship_reason                               2249784\n",
       "hardship_status                               2249784\n",
       "deferral_term                                 2249784\n",
       "hardship_amount                               2249784\n",
       "hardship_start_date                           2249784\n",
       "hardship_end_date                             2249784\n",
       "payment_plan_start_date                       2249784\n",
       "hardship_length                               2249784\n",
       "hardship_dpd                                  2249784\n",
       "hardship_loan_status                          2249784\n",
       "orig_projected_additional_accrued_interest    2252050\n",
       "hardship_payoff_balance_amount                2249784\n",
       "hardship_last_payment_amount                  2249784\n",
       "disbursement_method                                33\n",
       "debt_settlement_flag                               33\n",
       "debt_settlement_flag_date                     2226455\n",
       "settlement_status                             2226455\n",
       "settlement_date                               2226455\n",
       "settlement_amount                             2226455\n",
       "settlement_percentage                         2226455\n",
       "settlement_term                               2226455\n",
       "dtype: int64"
      ]
     },
     "execution_count": 6,
     "metadata": {},
     "output_type": "execute_result"
    }
   ],
   "source": [
    "df.isnull().sum()"
   ]
  },
  {
   "cell_type": "code",
   "execution_count": 7,
   "metadata": {},
   "outputs": [
    {
     "ename": "NameError",
     "evalue": "name 'df2' is not defined",
     "output_type": "error",
     "traceback": [
      "\u001b[1;31m---------------------------------------------------------------------------\u001b[0m",
      "\u001b[1;31mNameError\u001b[0m                                 Traceback (most recent call last)",
      "\u001b[1;32m<ipython-input-7-5b571b0fc50d>\u001b[0m in \u001b[0;36m<module>\u001b[1;34m\u001b[0m\n\u001b[0;32m      1\u001b[0m \u001b[0mdf\u001b[0m \u001b[1;33m=\u001b[0m \u001b[0mdf\u001b[0m\u001b[1;33m[\u001b[0m\u001b[0mdf\u001b[0m\u001b[1;33m[\u001b[0m\u001b[1;34m'issue_d'\u001b[0m\u001b[1;33m]\u001b[0m\u001b[1;33m.\u001b[0m\u001b[0mnotna\u001b[0m\u001b[1;33m(\u001b[0m\u001b[1;33m)\u001b[0m\u001b[1;33m]\u001b[0m\u001b[1;33m\u001b[0m\u001b[1;33m\u001b[0m\u001b[0m\n\u001b[1;32m----> 2\u001b[1;33m \u001b[0mdf\u001b[0m\u001b[1;33m[\u001b[0m\u001b[1;34m'year'\u001b[0m\u001b[1;33m]\u001b[0m\u001b[1;33m=\u001b[0m\u001b[0mdf2\u001b[0m\u001b[1;33m.\u001b[0m\u001b[0missue_d\u001b[0m\u001b[1;33m.\u001b[0m\u001b[0mmap\u001b[0m\u001b[1;33m(\u001b[0m\u001b[1;32mlambda\u001b[0m \u001b[0mx\u001b[0m\u001b[1;33m:\u001b[0m\u001b[0mint\u001b[0m\u001b[1;33m(\u001b[0m\u001b[0mx\u001b[0m\u001b[1;33m.\u001b[0m\u001b[0msplit\u001b[0m\u001b[1;33m(\u001b[0m\u001b[1;34m'-'\u001b[0m\u001b[1;33m)\u001b[0m\u001b[1;33m[\u001b[0m\u001b[1;33m-\u001b[0m\u001b[1;36m1\u001b[0m\u001b[1;33m]\u001b[0m\u001b[1;33m)\u001b[0m\u001b[1;33m)\u001b[0m\u001b[1;33m\u001b[0m\u001b[1;33m\u001b[0m\u001b[0m\n\u001b[0m",
      "\u001b[1;31mNameError\u001b[0m: name 'df2' is not defined"
     ]
    }
   ],
   "source": [
    "df = df[df['issue_d'].notna()]\n",
    "df['year']=df2.issue_d.map(lambda x:int(x.split('-')[-1]))"
   ]
  },
  {
   "cell_type": "code",
   "execution_count": null,
   "metadata": {},
   "outputs": [],
   "source": [
    "df.shape"
   ]
  },
  {
   "cell_type": "code",
   "execution_count": null,
   "metadata": {},
   "outputs": [],
   "source": [
    "# # Get names of indexes \n",
    "# indexNames = df[ df['year'] <=2012 ].index\n",
    "\n",
    "# # Delete these row indexes from dataFrame\n",
    "# df.drop(indexNames , inplace=True)\n",
    "# df.shape"
   ]
  },
  {
   "cell_type": "code",
   "execution_count": null,
   "metadata": {
    "scrolled": true
   },
   "outputs": [],
   "source": [
    "temp = df[df.loan_status=='Fully Paid'].groupby('year')['int_rate'].agg('median')\n",
    "temp"
   ]
  },
  {
   "cell_type": "code",
   "execution_count": null,
   "metadata": {},
   "outputs": [],
   "source": [
    "temp.plot.bar(by='year', y='int_rate')"
   ]
  },
  {
   "cell_type": "code",
   "execution_count": null,
   "metadata": {
    "scrolled": false
   },
   "outputs": [],
   "source": [
    "temp = df[df.loan_status=='Fully Paid']"
   ]
  },
  {
   "cell_type": "code",
   "execution_count": null,
   "metadata": {
    "scrolled": true
   },
   "outputs": [],
   "source": [
    "temp.grade.value_counts()"
   ]
  },
  {
   "cell_type": "code",
   "execution_count": null,
   "metadata": {
    "scrolled": true
   },
   "outputs": [],
   "source": [
    "df.loan_status.value_counts()"
   ]
  },
  {
   "cell_type": "markdown",
   "metadata": {},
   "source": [
    "### How do the issued loans vary year after year?"
   ]
  },
  {
   "cell_type": "code",
   "execution_count": null,
   "metadata": {},
   "outputs": [],
   "source": [
    "temp.plot.bar(by='year', y='int_rate')"
   ]
  },
  {
   "cell_type": "code",
   "execution_count": null,
   "metadata": {
    "scrolled": false
   },
   "outputs": [],
   "source": [
    "sns.boxplot(x = 'year', y = 'int_rate', data = df) "
   ]
  },
  {
   "cell_type": "code",
   "execution_count": null,
   "metadata": {},
   "outputs": [],
   "source": [
    "'''\n",
    "     Their largest period of growth occurred between 2012 & 2014. This is the time frame where investments from GOOGLE \n",
    "     began. \n",
    "     As they surpassed $1 Billion in total loans suring 2014 they filed for their IPO.\n",
    "'''\n",
    "\n",
    "sns.countplot(x='year',data=df)\n",
    "df.year.value_counts(ascending=True).plot(kind='bar')\n",
    "plt.xticks(rotation=0)\n",
    "plt.ylabel('Frequency')\n",
    "plt.title(\"Frequency of loan per year\")\n",
    "#2\n",
    "\n"
   ]
  },
  {
   "cell_type": "code",
   "execution_count": null,
   "metadata": {
    "scrolled": true
   },
   "outputs": [],
   "source": [
    "g = sns.lineplot(x='year',y='int_rate',hue='grade',data=df,hue_order=['A','B','C','D','E','F','G'])\n",
    "g.legend(loc='center left', bbox_to_anchor=(1, 0.5), ncol=1)\n",
    "plt.xlabel('Year')\n",
    "plt.title('interest rate by credit score')\n",
    "plt.show()"
   ]
  },
  {
   "cell_type": "code",
   "execution_count": null,
   "metadata": {},
   "outputs": [],
   "source": [
    "\n",
    "# Frequency of loan per class\n",
    "# A is increasing the most towards the year\n",
    "plt.rcParams[\"figure.figsize\"] = [15, 5]\n",
    "g = df.groupby(['year'])['grade'].value_counts().unstack(1).plot(kind='bar',)\n",
    "g.legend(loc='center left', bbox_to_anchor=(1, 0.5), ncol=1)\n",
    "plt.xticks(rotation=0)\n",
    "plt.title('Frequency of loan per class for each grade')\n",
    "#9"
   ]
  },
  {
   "cell_type": "markdown",
   "metadata": {},
   "source": [
    "### Look into loan Grade"
   ]
  },
  {
   "cell_type": "code",
   "execution_count": null,
   "metadata": {
    "scrolled": false
   },
   "outputs": [],
   "source": [
    "sns.set(rc={'figure.figsize':(12,9)})\n",
    "sns.boxplot(x='grade',y='int_rate',data=df,order=['A','B','C','D','E','F','G'])\n",
    "plt.xlabel('Grade')\n",
    "\n",
    "positions = range(0,7)\n",
    "labels = (\"A\",\"B\",\"C\",\"D\",\"E\",\"F\",\"G\")\n",
    "median = df.int_rate.median()\n",
    "\n",
    "sns.set(rc={'figure.figsize':(11.7,8.27)})\n",
    "temp = df[df.loan_status=='Charged Off']\n",
    "median = temp.int_rate.median()\n",
    "\n",
    "plt.axhline(median,color='r',label = 'median interest rate for default loan',linestyle =\"--\")\n",
    "sns.set(rc={'figure.figsize':(11.7,8.27)})\n",
    "\n",
    "temp = df[df.loan_status=='Fully Paid']\n",
    "median = temp.int_rate.median()\n",
    "plt.axhline(median,color='b',label = 'median interest rate for Fully paid loan loan',linestyle =\"--\")\n",
    "\n",
    "plt.title('Median Interest Rate per Grade')\n",
    "plt.legend(loc = 'upper left')\n"
   ]
  },
  {
   "cell_type": "code",
   "execution_count": null,
   "metadata": {},
   "outputs": [],
   "source": [
    "# default rate for each category inn our problem \n",
    "\n",
    "L = ['Charged Off','Default','Does not meet the credit policy. Status:Charged Off','In Grace Period','Late (16-30 days)','Late (31-120 days)']\n",
    "temp = df[['grade','loan_status']].copy()\n",
    "temp['status'] = temp.loan_status.apply(lambda x:'Good' if x in L  else 'Bad' )\n",
    "\n",
    "sns.countplot(x='grade',hue='status',data=temp,order=[\"A\",\"B\",\"C\",\"D\",\"E\",\"F\",\"G\"])"
   ]
  },
  {
   "cell_type": "markdown",
   "metadata": {},
   "source": [
    "### Look into loan purpose"
   ]
  },
  {
   "cell_type": "code",
   "execution_count": null,
   "metadata": {
    "scrolled": false
   },
   "outputs": [],
   "source": [
    "chart = sns.boxplot(x='purpose',y='int_rate',data=df,order = df.groupby(\"purpose\")['int_rate'].median().sort_values().index)\n",
    "chart.set_xticklabels(chart.get_xticklabels(), rotation=45)\n",
    "plt.title('different purposes with their interest rate')\n"
   ]
  },
  {
   "cell_type": "code",
   "execution_count": null,
   "metadata": {
    "scrolled": false
   },
   "outputs": [],
   "source": [
    "chart = sns.boxplot(y='purpose',x='int_rate',data=df,order = df.groupby(\"purpose\")['int_rate'].median().sort_values().index)\n",
    "chart.set_xticklabels(chart.get_xticklabels(), rotation=45)\n",
    "plt.title('different purposes with their interest rate')"
   ]
  },
  {
   "cell_type": "code",
   "execution_count": null,
   "metadata": {},
   "outputs": [],
   "source": []
  }
 ],
 "metadata": {
  "kernelspec": {
   "display_name": "Python 3",
   "language": "python",
   "name": "python3"
  },
  "language_info": {
   "codemirror_mode": {
    "name": "ipython",
    "version": 3
   },
   "file_extension": ".py",
   "mimetype": "text/x-python",
   "name": "python",
   "nbconvert_exporter": "python",
   "pygments_lexer": "ipython3",
   "version": "3.7.6"
  }
 },
 "nbformat": 4,
 "nbformat_minor": 4
}
