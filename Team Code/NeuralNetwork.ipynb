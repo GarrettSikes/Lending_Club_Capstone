{
 "cells": [
  {
   "cell_type": "code",
   "execution_count": 1,
   "metadata": {
    "id": "YIpIl2nOltZ-"
   },
   "outputs": [],
   "source": [
    "import pandas as pd\n",
    "import numpy as np\n",
    "import sklearn.model_selection as ms\n",
    "from sklearn.model_selection import train_test_split\n",
    "from sklearn.metrics import confusion_matrix, classification_report\n",
    "import warnings\n",
    "warnings.filterwarnings(\"ignore\")\n",
    "from tensorflow import keras\n",
    "from sklearn.preprocessing import scale"
   ]
  },
  {
   "cell_type": "code",
   "execution_count": 4,
   "metadata": {
    "colab": {
     "base_uri": "https://localhost:8080/",
     "height": 427
    },
    "id": "M3Ty282tveTt",
    "outputId": "e0ccf251-5def-4893-d3ca-8afe21b2265a"
   },
   "outputs": [
    {
     "data": {
      "text/html": [
       "<div>\n",
       "<style scoped>\n",
       "    .dataframe tbody tr th:only-of-type {\n",
       "        vertical-align: middle;\n",
       "    }\n",
       "\n",
       "    .dataframe tbody tr th {\n",
       "        vertical-align: top;\n",
       "    }\n",
       "\n",
       "    .dataframe thead th {\n",
       "        text-align: right;\n",
       "    }\n",
       "</style>\n",
       "<table border=\"1\" class=\"dataframe\">\n",
       "  <thead>\n",
       "    <tr style=\"text-align: right;\">\n",
       "      <th></th>\n",
       "      <th>loan_status_trim</th>\n",
       "      <th>state_income</th>\n",
       "      <th>annual_inc_joint</th>\n",
       "      <th>indiv_app</th>\n",
       "      <th>dti_joint</th>\n",
       "      <th>days_from_1st_cr_line</th>\n",
       "      <th>emp_length</th>\n",
       "      <th>fico_range_high</th>\n",
       "      <th>fico_range_low</th>\n",
       "      <th>funded_amnt</th>\n",
       "      <th>home_ownership</th>\n",
       "      <th>inq_fi</th>\n",
       "      <th>inq_last_12m</th>\n",
       "      <th>installment</th>\n",
       "      <th>int_rate</th>\n",
       "      <th>loan_amnt</th>\n",
       "      <th>open_acc</th>\n",
       "      <th>pub_rec</th>\n",
       "      <th>pub_rec_bankruptcies</th>\n",
       "      <th>for_debt_consol</th>\n",
       "      <th>total_acc</th>\n",
       "      <th>revol_bal</th>\n",
       "      <th>revol_util</th>\n",
       "      <th>delinq_amnt</th>\n",
       "      <th>delinq_2yrs</th>\n",
       "      <th>mths_since_last_delinq</th>\n",
       "      <th>mths_since_last_major_derog</th>\n",
       "      <th>grade</th>\n",
       "    </tr>\n",
       "  </thead>\n",
       "  <tbody>\n",
       "    <tr>\n",
       "      <th>0</th>\n",
       "      <td>0</td>\n",
       "      <td>2</td>\n",
       "      <td>55000.0</td>\n",
       "      <td>1</td>\n",
       "      <td>5.91</td>\n",
       "      <td>4505.0</td>\n",
       "      <td>10</td>\n",
       "      <td>679.0</td>\n",
       "      <td>675.0</td>\n",
       "      <td>3600.0</td>\n",
       "      <td>1</td>\n",
       "      <td>3.0</td>\n",
       "      <td>4.0</td>\n",
       "      <td>123.03</td>\n",
       "      <td>13.99</td>\n",
       "      <td>3600.0</td>\n",
       "      <td>7.0</td>\n",
       "      <td>0.0</td>\n",
       "      <td>0.0</td>\n",
       "      <td>1</td>\n",
       "      <td>13.0</td>\n",
       "      <td>2765.0</td>\n",
       "      <td>29.7</td>\n",
       "      <td>0.0</td>\n",
       "      <td>0.0</td>\n",
       "      <td>30.0</td>\n",
       "      <td>30.0</td>\n",
       "      <td>4</td>\n",
       "    </tr>\n",
       "    <tr>\n",
       "      <th>1</th>\n",
       "      <td>0</td>\n",
       "      <td>1</td>\n",
       "      <td>65000.0</td>\n",
       "      <td>1</td>\n",
       "      <td>16.06</td>\n",
       "      <td>5844.0</td>\n",
       "      <td>10</td>\n",
       "      <td>719.0</td>\n",
       "      <td>715.0</td>\n",
       "      <td>24700.0</td>\n",
       "      <td>1</td>\n",
       "      <td>0.0</td>\n",
       "      <td>6.0</td>\n",
       "      <td>820.28</td>\n",
       "      <td>11.99</td>\n",
       "      <td>24700.0</td>\n",
       "      <td>22.0</td>\n",
       "      <td>0.0</td>\n",
       "      <td>0.0</td>\n",
       "      <td>0</td>\n",
       "      <td>38.0</td>\n",
       "      <td>21470.0</td>\n",
       "      <td>19.2</td>\n",
       "      <td>0.0</td>\n",
       "      <td>1.0</td>\n",
       "      <td>6.0</td>\n",
       "      <td>0.0</td>\n",
       "      <td>4</td>\n",
       "    </tr>\n",
       "    <tr>\n",
       "      <th>2</th>\n",
       "      <td>0</td>\n",
       "      <td>0</td>\n",
       "      <td>71000.0</td>\n",
       "      <td>0</td>\n",
       "      <td>13.85</td>\n",
       "      <td>5600.0</td>\n",
       "      <td>10</td>\n",
       "      <td>699.0</td>\n",
       "      <td>695.0</td>\n",
       "      <td>20000.0</td>\n",
       "      <td>1</td>\n",
       "      <td>2.0</td>\n",
       "      <td>1.0</td>\n",
       "      <td>432.66</td>\n",
       "      <td>10.78</td>\n",
       "      <td>20000.0</td>\n",
       "      <td>6.0</td>\n",
       "      <td>0.0</td>\n",
       "      <td>0.0</td>\n",
       "      <td>0</td>\n",
       "      <td>18.0</td>\n",
       "      <td>7869.0</td>\n",
       "      <td>56.2</td>\n",
       "      <td>0.0</td>\n",
       "      <td>0.0</td>\n",
       "      <td>0.0</td>\n",
       "      <td>0.0</td>\n",
       "      <td>5</td>\n",
       "    </tr>\n",
       "    <tr>\n",
       "      <th>3</th>\n",
       "      <td>0</td>\n",
       "      <td>2</td>\n",
       "      <td>104433.0</td>\n",
       "      <td>1</td>\n",
       "      <td>25.37</td>\n",
       "      <td>6392.0</td>\n",
       "      <td>3</td>\n",
       "      <td>699.0</td>\n",
       "      <td>695.0</td>\n",
       "      <td>10400.0</td>\n",
       "      <td>1</td>\n",
       "      <td>2.0</td>\n",
       "      <td>3.0</td>\n",
       "      <td>289.91</td>\n",
       "      <td>22.45</td>\n",
       "      <td>10400.0</td>\n",
       "      <td>12.0</td>\n",
       "      <td>0.0</td>\n",
       "      <td>0.0</td>\n",
       "      <td>0</td>\n",
       "      <td>35.0</td>\n",
       "      <td>21929.0</td>\n",
       "      <td>64.5</td>\n",
       "      <td>0.0</td>\n",
       "      <td>1.0</td>\n",
       "      <td>12.0</td>\n",
       "      <td>0.0</td>\n",
       "      <td>1</td>\n",
       "    </tr>\n",
       "    <tr>\n",
       "      <th>4</th>\n",
       "      <td>0</td>\n",
       "      <td>2</td>\n",
       "      <td>34000.0</td>\n",
       "      <td>1</td>\n",
       "      <td>10.20</td>\n",
       "      <td>10288.0</td>\n",
       "      <td>4</td>\n",
       "      <td>694.0</td>\n",
       "      <td>690.0</td>\n",
       "      <td>11950.0</td>\n",
       "      <td>0</td>\n",
       "      <td>0.0</td>\n",
       "      <td>0.0</td>\n",
       "      <td>405.18</td>\n",
       "      <td>13.44</td>\n",
       "      <td>11950.0</td>\n",
       "      <td>5.0</td>\n",
       "      <td>0.0</td>\n",
       "      <td>0.0</td>\n",
       "      <td>1</td>\n",
       "      <td>6.0</td>\n",
       "      <td>8822.0</td>\n",
       "      <td>68.4</td>\n",
       "      <td>0.0</td>\n",
       "      <td>0.0</td>\n",
       "      <td>0.0</td>\n",
       "      <td>0.0</td>\n",
       "      <td>4</td>\n",
       "    </tr>\n",
       "    <tr>\n",
       "      <th>...</th>\n",
       "      <td>...</td>\n",
       "      <td>...</td>\n",
       "      <td>...</td>\n",
       "      <td>...</td>\n",
       "      <td>...</td>\n",
       "      <td>...</td>\n",
       "      <td>...</td>\n",
       "      <td>...</td>\n",
       "      <td>...</td>\n",
       "      <td>...</td>\n",
       "      <td>...</td>\n",
       "      <td>...</td>\n",
       "      <td>...</td>\n",
       "      <td>...</td>\n",
       "      <td>...</td>\n",
       "      <td>...</td>\n",
       "      <td>...</td>\n",
       "      <td>...</td>\n",
       "      <td>...</td>\n",
       "      <td>...</td>\n",
       "      <td>...</td>\n",
       "      <td>...</td>\n",
       "      <td>...</td>\n",
       "      <td>...</td>\n",
       "      <td>...</td>\n",
       "      <td>...</td>\n",
       "      <td>...</td>\n",
       "      <td>...</td>\n",
       "    </tr>\n",
       "    <tr>\n",
       "      <th>1348094</th>\n",
       "      <td>0</td>\n",
       "      <td>3</td>\n",
       "      <td>130000.0</td>\n",
       "      <td>1</td>\n",
       "      <td>20.59</td>\n",
       "      <td>4475.0</td>\n",
       "      <td>5</td>\n",
       "      <td>739.0</td>\n",
       "      <td>735.0</td>\n",
       "      <td>18000.0</td>\n",
       "      <td>1</td>\n",
       "      <td>1.0</td>\n",
       "      <td>1.0</td>\n",
       "      <td>377.95</td>\n",
       "      <td>9.49</td>\n",
       "      <td>18000.0</td>\n",
       "      <td>17.0</td>\n",
       "      <td>0.0</td>\n",
       "      <td>0.0</td>\n",
       "      <td>0</td>\n",
       "      <td>39.0</td>\n",
       "      <td>23833.0</td>\n",
       "      <td>34.0</td>\n",
       "      <td>0.0</td>\n",
       "      <td>0.0</td>\n",
       "      <td>0.0</td>\n",
       "      <td>0.0</td>\n",
       "      <td>5</td>\n",
       "    </tr>\n",
       "    <tr>\n",
       "      <th>1348095</th>\n",
       "      <td>0</td>\n",
       "      <td>3</td>\n",
       "      <td>180792.0</td>\n",
       "      <td>1</td>\n",
       "      <td>22.03</td>\n",
       "      <td>5328.0</td>\n",
       "      <td>9</td>\n",
       "      <td>709.0</td>\n",
       "      <td>705.0</td>\n",
       "      <td>29400.0</td>\n",
       "      <td>1</td>\n",
       "      <td>3.0</td>\n",
       "      <td>2.0</td>\n",
       "      <td>683.94</td>\n",
       "      <td>13.99</td>\n",
       "      <td>29400.0</td>\n",
       "      <td>16.0</td>\n",
       "      <td>0.0</td>\n",
       "      <td>0.0</td>\n",
       "      <td>1</td>\n",
       "      <td>32.0</td>\n",
       "      <td>77480.0</td>\n",
       "      <td>85.2</td>\n",
       "      <td>0.0</td>\n",
       "      <td>0.0</td>\n",
       "      <td>0.0</td>\n",
       "      <td>0.0</td>\n",
       "      <td>4</td>\n",
       "    </tr>\n",
       "    <tr>\n",
       "      <th>1348096</th>\n",
       "      <td>1</td>\n",
       "      <td>2</td>\n",
       "      <td>157000.0</td>\n",
       "      <td>1</td>\n",
       "      <td>10.34</td>\n",
       "      <td>1949.0</td>\n",
       "      <td>3</td>\n",
       "      <td>739.0</td>\n",
       "      <td>735.0</td>\n",
       "      <td>32000.0</td>\n",
       "      <td>1</td>\n",
       "      <td>2.0</td>\n",
       "      <td>0.0</td>\n",
       "      <td>752.74</td>\n",
       "      <td>14.49</td>\n",
       "      <td>32000.0</td>\n",
       "      <td>14.0</td>\n",
       "      <td>0.0</td>\n",
       "      <td>0.0</td>\n",
       "      <td>0</td>\n",
       "      <td>18.0</td>\n",
       "      <td>111598.0</td>\n",
       "      <td>27.4</td>\n",
       "      <td>0.0</td>\n",
       "      <td>0.0</td>\n",
       "      <td>0.0</td>\n",
       "      <td>0.0</td>\n",
       "      <td>4</td>\n",
       "    </tr>\n",
       "    <tr>\n",
       "      <th>1348097</th>\n",
       "      <td>0</td>\n",
       "      <td>2</td>\n",
       "      <td>150000.0</td>\n",
       "      <td>1</td>\n",
       "      <td>12.25</td>\n",
       "      <td>7001.0</td>\n",
       "      <td>10</td>\n",
       "      <td>669.0</td>\n",
       "      <td>665.0</td>\n",
       "      <td>16000.0</td>\n",
       "      <td>0</td>\n",
       "      <td>1.0</td>\n",
       "      <td>1.0</td>\n",
       "      <td>362.34</td>\n",
       "      <td>12.79</td>\n",
       "      <td>16000.0</td>\n",
       "      <td>12.0</td>\n",
       "      <td>4.0</td>\n",
       "      <td>3.0</td>\n",
       "      <td>0</td>\n",
       "      <td>28.0</td>\n",
       "      <td>7700.0</td>\n",
       "      <td>55.0</td>\n",
       "      <td>0.0</td>\n",
       "      <td>0.0</td>\n",
       "      <td>68.0</td>\n",
       "      <td>68.0</td>\n",
       "      <td>4</td>\n",
       "    </tr>\n",
       "    <tr>\n",
       "      <th>1348098</th>\n",
       "      <td>1</td>\n",
       "      <td>2</td>\n",
       "      <td>110000.0</td>\n",
       "      <td>1</td>\n",
       "      <td>18.30</td>\n",
       "      <td>6302.0</td>\n",
       "      <td>6</td>\n",
       "      <td>664.0</td>\n",
       "      <td>660.0</td>\n",
       "      <td>24000.0</td>\n",
       "      <td>0</td>\n",
       "      <td>0.0</td>\n",
       "      <td>1.0</td>\n",
       "      <td>564.56</td>\n",
       "      <td>14.49</td>\n",
       "      <td>24000.0</td>\n",
       "      <td>10.0</td>\n",
       "      <td>1.0</td>\n",
       "      <td>1.0</td>\n",
       "      <td>1</td>\n",
       "      <td>31.0</td>\n",
       "      <td>17641.0</td>\n",
       "      <td>68.1</td>\n",
       "      <td>0.0</td>\n",
       "      <td>0.0</td>\n",
       "      <td>67.0</td>\n",
       "      <td>67.0</td>\n",
       "      <td>4</td>\n",
       "    </tr>\n",
       "  </tbody>\n",
       "</table>\n",
       "<p>1348099 rows × 28 columns</p>\n",
       "</div>"
      ],
      "text/plain": [
       "         loan_status_trim  state_income  ...  mths_since_last_major_derog  grade\n",
       "0                       0             2  ...                         30.0      4\n",
       "1                       0             1  ...                          0.0      4\n",
       "2                       0             0  ...                          0.0      5\n",
       "3                       0             2  ...                          0.0      1\n",
       "4                       0             2  ...                          0.0      4\n",
       "...                   ...           ...  ...                          ...    ...\n",
       "1348094                 0             3  ...                          0.0      5\n",
       "1348095                 0             3  ...                          0.0      4\n",
       "1348096                 1             2  ...                          0.0      4\n",
       "1348097                 0             2  ...                         68.0      4\n",
       "1348098                 1             2  ...                         67.0      4\n",
       "\n",
       "[1348099 rows x 28 columns]"
      ]
     },
     "execution_count": 4,
     "metadata": {
      "tags": []
     },
     "output_type": "execute_result"
    }
   ],
   "source": [
    "# features = pd.read_csv(\"/content/drive/MyDrive/NYC DSA Capstone Project/Data/featuresCD.csv\", low_memory = False)\n",
    "# features.drop([\"Unnamed: 0\"], axis = 1, inplace = True)\n",
    "features = pd.read_csv(\"/content/drive/MyDrive/NYC DSA Capstone Project/Data/features.csv\", low_memory = False)\n",
    "features.drop([\"Unnamed: 0\"], axis = 1, inplace = True)\n",
    "features"
   ]
  },
  {
   "cell_type": "code",
   "execution_count": 5,
   "metadata": {
    "id": "zvolVmy5wc8k"
   },
   "outputs": [],
   "source": [
    "data = features.iloc[:,1:]\n",
    "targets = features.iloc[:,0]"
   ]
  },
  {
   "cell_type": "code",
   "execution_count": 6,
   "metadata": {
    "colab": {
     "base_uri": "https://localhost:8080/",
     "height": 427
    },
    "id": "hTp3n7yQxRcg",
    "outputId": "4a8d69da-73ca-4acc-e4f1-71c89d9ae4ce"
   },
   "outputs": [
    {
     "data": {
      "text/html": [
       "<div>\n",
       "<style scoped>\n",
       "    .dataframe tbody tr th:only-of-type {\n",
       "        vertical-align: middle;\n",
       "    }\n",
       "\n",
       "    .dataframe tbody tr th {\n",
       "        vertical-align: top;\n",
       "    }\n",
       "\n",
       "    .dataframe thead th {\n",
       "        text-align: right;\n",
       "    }\n",
       "</style>\n",
       "<table border=\"1\" class=\"dataframe\">\n",
       "  <thead>\n",
       "    <tr style=\"text-align: right;\">\n",
       "      <th></th>\n",
       "      <th>state_income</th>\n",
       "      <th>annual_inc_joint</th>\n",
       "      <th>indiv_app</th>\n",
       "      <th>dti_joint</th>\n",
       "      <th>days_from_1st_cr_line</th>\n",
       "      <th>emp_length</th>\n",
       "      <th>fico_range_high</th>\n",
       "      <th>fico_range_low</th>\n",
       "      <th>funded_amnt</th>\n",
       "      <th>home_ownership</th>\n",
       "      <th>inq_fi</th>\n",
       "      <th>inq_last_12m</th>\n",
       "      <th>installment</th>\n",
       "      <th>int_rate</th>\n",
       "      <th>loan_amnt</th>\n",
       "      <th>open_acc</th>\n",
       "      <th>pub_rec</th>\n",
       "      <th>pub_rec_bankruptcies</th>\n",
       "      <th>for_debt_consol</th>\n",
       "      <th>total_acc</th>\n",
       "      <th>revol_bal</th>\n",
       "      <th>revol_util</th>\n",
       "      <th>delinq_amnt</th>\n",
       "      <th>delinq_2yrs</th>\n",
       "      <th>mths_since_last_delinq</th>\n",
       "      <th>mths_since_last_major_derog</th>\n",
       "      <th>grade</th>\n",
       "    </tr>\n",
       "  </thead>\n",
       "  <tbody>\n",
       "    <tr>\n",
       "      <th>0</th>\n",
       "      <td>2</td>\n",
       "      <td>55000.0</td>\n",
       "      <td>1</td>\n",
       "      <td>5.91</td>\n",
       "      <td>4505.0</td>\n",
       "      <td>10</td>\n",
       "      <td>679.0</td>\n",
       "      <td>675.0</td>\n",
       "      <td>3600.0</td>\n",
       "      <td>1</td>\n",
       "      <td>3.0</td>\n",
       "      <td>4.0</td>\n",
       "      <td>123.03</td>\n",
       "      <td>13.99</td>\n",
       "      <td>3600.0</td>\n",
       "      <td>7.0</td>\n",
       "      <td>0.0</td>\n",
       "      <td>0.0</td>\n",
       "      <td>1</td>\n",
       "      <td>13.0</td>\n",
       "      <td>2765.0</td>\n",
       "      <td>29.7</td>\n",
       "      <td>0.0</td>\n",
       "      <td>0.0</td>\n",
       "      <td>30.0</td>\n",
       "      <td>30.0</td>\n",
       "      <td>4</td>\n",
       "    </tr>\n",
       "    <tr>\n",
       "      <th>1</th>\n",
       "      <td>1</td>\n",
       "      <td>65000.0</td>\n",
       "      <td>1</td>\n",
       "      <td>16.06</td>\n",
       "      <td>5844.0</td>\n",
       "      <td>10</td>\n",
       "      <td>719.0</td>\n",
       "      <td>715.0</td>\n",
       "      <td>24700.0</td>\n",
       "      <td>1</td>\n",
       "      <td>0.0</td>\n",
       "      <td>6.0</td>\n",
       "      <td>820.28</td>\n",
       "      <td>11.99</td>\n",
       "      <td>24700.0</td>\n",
       "      <td>22.0</td>\n",
       "      <td>0.0</td>\n",
       "      <td>0.0</td>\n",
       "      <td>0</td>\n",
       "      <td>38.0</td>\n",
       "      <td>21470.0</td>\n",
       "      <td>19.2</td>\n",
       "      <td>0.0</td>\n",
       "      <td>1.0</td>\n",
       "      <td>6.0</td>\n",
       "      <td>0.0</td>\n",
       "      <td>4</td>\n",
       "    </tr>\n",
       "    <tr>\n",
       "      <th>2</th>\n",
       "      <td>0</td>\n",
       "      <td>71000.0</td>\n",
       "      <td>0</td>\n",
       "      <td>13.85</td>\n",
       "      <td>5600.0</td>\n",
       "      <td>10</td>\n",
       "      <td>699.0</td>\n",
       "      <td>695.0</td>\n",
       "      <td>20000.0</td>\n",
       "      <td>1</td>\n",
       "      <td>2.0</td>\n",
       "      <td>1.0</td>\n",
       "      <td>432.66</td>\n",
       "      <td>10.78</td>\n",
       "      <td>20000.0</td>\n",
       "      <td>6.0</td>\n",
       "      <td>0.0</td>\n",
       "      <td>0.0</td>\n",
       "      <td>0</td>\n",
       "      <td>18.0</td>\n",
       "      <td>7869.0</td>\n",
       "      <td>56.2</td>\n",
       "      <td>0.0</td>\n",
       "      <td>0.0</td>\n",
       "      <td>0.0</td>\n",
       "      <td>0.0</td>\n",
       "      <td>5</td>\n",
       "    </tr>\n",
       "    <tr>\n",
       "      <th>3</th>\n",
       "      <td>2</td>\n",
       "      <td>104433.0</td>\n",
       "      <td>1</td>\n",
       "      <td>25.37</td>\n",
       "      <td>6392.0</td>\n",
       "      <td>3</td>\n",
       "      <td>699.0</td>\n",
       "      <td>695.0</td>\n",
       "      <td>10400.0</td>\n",
       "      <td>1</td>\n",
       "      <td>2.0</td>\n",
       "      <td>3.0</td>\n",
       "      <td>289.91</td>\n",
       "      <td>22.45</td>\n",
       "      <td>10400.0</td>\n",
       "      <td>12.0</td>\n",
       "      <td>0.0</td>\n",
       "      <td>0.0</td>\n",
       "      <td>0</td>\n",
       "      <td>35.0</td>\n",
       "      <td>21929.0</td>\n",
       "      <td>64.5</td>\n",
       "      <td>0.0</td>\n",
       "      <td>1.0</td>\n",
       "      <td>12.0</td>\n",
       "      <td>0.0</td>\n",
       "      <td>1</td>\n",
       "    </tr>\n",
       "    <tr>\n",
       "      <th>4</th>\n",
       "      <td>2</td>\n",
       "      <td>34000.0</td>\n",
       "      <td>1</td>\n",
       "      <td>10.20</td>\n",
       "      <td>10288.0</td>\n",
       "      <td>4</td>\n",
       "      <td>694.0</td>\n",
       "      <td>690.0</td>\n",
       "      <td>11950.0</td>\n",
       "      <td>0</td>\n",
       "      <td>0.0</td>\n",
       "      <td>0.0</td>\n",
       "      <td>405.18</td>\n",
       "      <td>13.44</td>\n",
       "      <td>11950.0</td>\n",
       "      <td>5.0</td>\n",
       "      <td>0.0</td>\n",
       "      <td>0.0</td>\n",
       "      <td>1</td>\n",
       "      <td>6.0</td>\n",
       "      <td>8822.0</td>\n",
       "      <td>68.4</td>\n",
       "      <td>0.0</td>\n",
       "      <td>0.0</td>\n",
       "      <td>0.0</td>\n",
       "      <td>0.0</td>\n",
       "      <td>4</td>\n",
       "    </tr>\n",
       "    <tr>\n",
       "      <th>...</th>\n",
       "      <td>...</td>\n",
       "      <td>...</td>\n",
       "      <td>...</td>\n",
       "      <td>...</td>\n",
       "      <td>...</td>\n",
       "      <td>...</td>\n",
       "      <td>...</td>\n",
       "      <td>...</td>\n",
       "      <td>...</td>\n",
       "      <td>...</td>\n",
       "      <td>...</td>\n",
       "      <td>...</td>\n",
       "      <td>...</td>\n",
       "      <td>...</td>\n",
       "      <td>...</td>\n",
       "      <td>...</td>\n",
       "      <td>...</td>\n",
       "      <td>...</td>\n",
       "      <td>...</td>\n",
       "      <td>...</td>\n",
       "      <td>...</td>\n",
       "      <td>...</td>\n",
       "      <td>...</td>\n",
       "      <td>...</td>\n",
       "      <td>...</td>\n",
       "      <td>...</td>\n",
       "      <td>...</td>\n",
       "    </tr>\n",
       "    <tr>\n",
       "      <th>1348094</th>\n",
       "      <td>3</td>\n",
       "      <td>130000.0</td>\n",
       "      <td>1</td>\n",
       "      <td>20.59</td>\n",
       "      <td>4475.0</td>\n",
       "      <td>5</td>\n",
       "      <td>739.0</td>\n",
       "      <td>735.0</td>\n",
       "      <td>18000.0</td>\n",
       "      <td>1</td>\n",
       "      <td>1.0</td>\n",
       "      <td>1.0</td>\n",
       "      <td>377.95</td>\n",
       "      <td>9.49</td>\n",
       "      <td>18000.0</td>\n",
       "      <td>17.0</td>\n",
       "      <td>0.0</td>\n",
       "      <td>0.0</td>\n",
       "      <td>0</td>\n",
       "      <td>39.0</td>\n",
       "      <td>23833.0</td>\n",
       "      <td>34.0</td>\n",
       "      <td>0.0</td>\n",
       "      <td>0.0</td>\n",
       "      <td>0.0</td>\n",
       "      <td>0.0</td>\n",
       "      <td>5</td>\n",
       "    </tr>\n",
       "    <tr>\n",
       "      <th>1348095</th>\n",
       "      <td>3</td>\n",
       "      <td>180792.0</td>\n",
       "      <td>1</td>\n",
       "      <td>22.03</td>\n",
       "      <td>5328.0</td>\n",
       "      <td>9</td>\n",
       "      <td>709.0</td>\n",
       "      <td>705.0</td>\n",
       "      <td>29400.0</td>\n",
       "      <td>1</td>\n",
       "      <td>3.0</td>\n",
       "      <td>2.0</td>\n",
       "      <td>683.94</td>\n",
       "      <td>13.99</td>\n",
       "      <td>29400.0</td>\n",
       "      <td>16.0</td>\n",
       "      <td>0.0</td>\n",
       "      <td>0.0</td>\n",
       "      <td>1</td>\n",
       "      <td>32.0</td>\n",
       "      <td>77480.0</td>\n",
       "      <td>85.2</td>\n",
       "      <td>0.0</td>\n",
       "      <td>0.0</td>\n",
       "      <td>0.0</td>\n",
       "      <td>0.0</td>\n",
       "      <td>4</td>\n",
       "    </tr>\n",
       "    <tr>\n",
       "      <th>1348096</th>\n",
       "      <td>2</td>\n",
       "      <td>157000.0</td>\n",
       "      <td>1</td>\n",
       "      <td>10.34</td>\n",
       "      <td>1949.0</td>\n",
       "      <td>3</td>\n",
       "      <td>739.0</td>\n",
       "      <td>735.0</td>\n",
       "      <td>32000.0</td>\n",
       "      <td>1</td>\n",
       "      <td>2.0</td>\n",
       "      <td>0.0</td>\n",
       "      <td>752.74</td>\n",
       "      <td>14.49</td>\n",
       "      <td>32000.0</td>\n",
       "      <td>14.0</td>\n",
       "      <td>0.0</td>\n",
       "      <td>0.0</td>\n",
       "      <td>0</td>\n",
       "      <td>18.0</td>\n",
       "      <td>111598.0</td>\n",
       "      <td>27.4</td>\n",
       "      <td>0.0</td>\n",
       "      <td>0.0</td>\n",
       "      <td>0.0</td>\n",
       "      <td>0.0</td>\n",
       "      <td>4</td>\n",
       "    </tr>\n",
       "    <tr>\n",
       "      <th>1348097</th>\n",
       "      <td>2</td>\n",
       "      <td>150000.0</td>\n",
       "      <td>1</td>\n",
       "      <td>12.25</td>\n",
       "      <td>7001.0</td>\n",
       "      <td>10</td>\n",
       "      <td>669.0</td>\n",
       "      <td>665.0</td>\n",
       "      <td>16000.0</td>\n",
       "      <td>0</td>\n",
       "      <td>1.0</td>\n",
       "      <td>1.0</td>\n",
       "      <td>362.34</td>\n",
       "      <td>12.79</td>\n",
       "      <td>16000.0</td>\n",
       "      <td>12.0</td>\n",
       "      <td>4.0</td>\n",
       "      <td>3.0</td>\n",
       "      <td>0</td>\n",
       "      <td>28.0</td>\n",
       "      <td>7700.0</td>\n",
       "      <td>55.0</td>\n",
       "      <td>0.0</td>\n",
       "      <td>0.0</td>\n",
       "      <td>68.0</td>\n",
       "      <td>68.0</td>\n",
       "      <td>4</td>\n",
       "    </tr>\n",
       "    <tr>\n",
       "      <th>1348098</th>\n",
       "      <td>2</td>\n",
       "      <td>110000.0</td>\n",
       "      <td>1</td>\n",
       "      <td>18.30</td>\n",
       "      <td>6302.0</td>\n",
       "      <td>6</td>\n",
       "      <td>664.0</td>\n",
       "      <td>660.0</td>\n",
       "      <td>24000.0</td>\n",
       "      <td>0</td>\n",
       "      <td>0.0</td>\n",
       "      <td>1.0</td>\n",
       "      <td>564.56</td>\n",
       "      <td>14.49</td>\n",
       "      <td>24000.0</td>\n",
       "      <td>10.0</td>\n",
       "      <td>1.0</td>\n",
       "      <td>1.0</td>\n",
       "      <td>1</td>\n",
       "      <td>31.0</td>\n",
       "      <td>17641.0</td>\n",
       "      <td>68.1</td>\n",
       "      <td>0.0</td>\n",
       "      <td>0.0</td>\n",
       "      <td>67.0</td>\n",
       "      <td>67.0</td>\n",
       "      <td>4</td>\n",
       "    </tr>\n",
       "  </tbody>\n",
       "</table>\n",
       "<p>1348099 rows × 27 columns</p>\n",
       "</div>"
      ],
      "text/plain": [
       "         state_income  annual_inc_joint  ...  mths_since_last_major_derog  grade\n",
       "0                   2           55000.0  ...                         30.0      4\n",
       "1                   1           65000.0  ...                          0.0      4\n",
       "2                   0           71000.0  ...                          0.0      5\n",
       "3                   2          104433.0  ...                          0.0      1\n",
       "4                   2           34000.0  ...                          0.0      4\n",
       "...               ...               ...  ...                          ...    ...\n",
       "1348094             3          130000.0  ...                          0.0      5\n",
       "1348095             3          180792.0  ...                          0.0      4\n",
       "1348096             2          157000.0  ...                          0.0      4\n",
       "1348097             2          150000.0  ...                         68.0      4\n",
       "1348098             2          110000.0  ...                         67.0      4\n",
       "\n",
       "[1348099 rows x 27 columns]"
      ]
     },
     "execution_count": 6,
     "metadata": {
      "tags": []
     },
     "output_type": "execute_result"
    }
   ],
   "source": [
    "data"
   ]
  },
  {
   "cell_type": "code",
   "execution_count": 7,
   "metadata": {
    "colab": {
     "base_uri": "https://localhost:8080/"
    },
    "id": "O4sshAtB5WGH",
    "outputId": "51f79f14-c250-4428-8ab1-4277fd0ba6f7"
   },
   "outputs": [
    {
     "data": {
      "text/plain": [
       "array([[2.00e+00, 5.50e+04, 1.00e+00, ..., 3.00e+01, 3.00e+01, 4.00e+00],\n",
       "       [1.00e+00, 6.50e+04, 1.00e+00, ..., 6.00e+00, 0.00e+00, 4.00e+00],\n",
       "       [0.00e+00, 7.10e+04, 0.00e+00, ..., 0.00e+00, 0.00e+00, 5.00e+00],\n",
       "       ...,\n",
       "       [2.00e+00, 1.57e+05, 1.00e+00, ..., 0.00e+00, 0.00e+00, 4.00e+00],\n",
       "       [2.00e+00, 1.50e+05, 1.00e+00, ..., 6.80e+01, 6.80e+01, 4.00e+00],\n",
       "       [2.00e+00, 1.10e+05, 1.00e+00, ..., 6.70e+01, 6.70e+01, 4.00e+00]])"
      ]
     },
     "execution_count": 7,
     "metadata": {
      "tags": []
     },
     "output_type": "execute_result"
    }
   ],
   "source": [
    "data = np.array(data)\n",
    "data"
   ]
  },
  {
   "cell_type": "code",
   "execution_count": 8,
   "metadata": {
    "colab": {
     "base_uri": "https://localhost:8080/"
    },
    "id": "NtU7L6k5xSiU",
    "outputId": "433d32c4-8e58-46e6-af88-9f3c56020005"
   },
   "outputs": [
    {
     "data": {
      "text/plain": [
       "array([0, 0, 0, ..., 1, 0, 1])"
      ]
     },
     "execution_count": 8,
     "metadata": {
      "tags": []
     },
     "output_type": "execute_result"
    }
   ],
   "source": [
    "targets = np.array(targets)\n",
    "targets"
   ]
  },
  {
   "cell_type": "code",
   "execution_count": 9,
   "metadata": {
    "colab": {
     "base_uri": "https://localhost:8080/"
    },
    "id": "bcuC0RNvyU1n",
    "outputId": "786e924c-dfeb-4e5e-af24-12107c211f0d"
   },
   "outputs": [
    {
     "name": "stdout",
     "output_type": "stream",
     "text": [
      "Number of training feature samples: 943669\n",
      "Number of validation feature samples: 404430\n",
      "Number of training targets: 943669\n",
      "Number of validation targets: 404430\n"
     ]
    }
   ],
   "source": [
    "train_features,  val_features, train_targets, val_targets = train_test_split(data, targets, test_size = 0.3, stratify = targets, shuffle = True)\n",
    "print(\"Number of training feature samples:\", len(train_features))\n",
    "print(\"Number of validation feature samples:\", len(val_features))\n",
    "print(\"Number of training targets:\", len(train_targets))\n",
    "print(\"Number of validation targets:\", len(val_targets))"
   ]
  },
  {
   "cell_type": "code",
   "execution_count": 10,
   "metadata": {
    "colab": {
     "base_uri": "https://localhost:8080/"
    },
    "id": "ypjsayebSPt2",
    "outputId": "1dd4f5e6-8f45-42d5-94e6-3ed0e71eeae0"
   },
   "outputs": [
    {
     "data": {
      "text/plain": [
       "array([[2.0e+00, 4.0e+04, 1.0e+00, ..., 3.4e+01, 3.4e+01, 2.0e+00],\n",
       "       [0.0e+00, 8.3e+04, 1.0e+00, ..., 0.0e+00, 0.0e+00, 5.0e+00],\n",
       "       [2.0e+00, 6.5e+04, 1.0e+00, ..., 4.0e+00, 4.0e+00, 4.0e+00],\n",
       "       ...,\n",
       "       [2.0e+00, 5.9e+04, 1.0e+00, ..., 4.2e+01, 0.0e+00, 3.0e+00],\n",
       "       [3.0e+00, 8.5e+04, 1.0e+00, ..., 0.0e+00, 0.0e+00, 3.0e+00],\n",
       "       [2.0e+00, 2.5e+04, 1.0e+00, ..., 0.0e+00, 0.0e+00, 3.0e+00]])"
      ]
     },
     "execution_count": 10,
     "metadata": {
      "tags": []
     },
     "output_type": "execute_result"
    }
   ],
   "source": [
    "train_features"
   ]
  },
  {
   "cell_type": "code",
   "execution_count": 11,
   "metadata": {
    "colab": {
     "base_uri": "https://localhost:8080/"
    },
    "id": "dXPnCog0SSQx",
    "outputId": "b57a9f67-096f-4424-b0b7-cfac2b7fdc84"
   },
   "outputs": [
    {
     "data": {
      "text/plain": [
       "array([0, 0, 0, ..., 0, 1, 0])"
      ]
     },
     "execution_count": 11,
     "metadata": {
      "tags": []
     },
     "output_type": "execute_result"
    }
   ],
   "source": [
    "train_targets"
   ]
  },
  {
   "cell_type": "code",
   "execution_count": 12,
   "metadata": {
    "colab": {
     "base_uri": "https://localhost:8080/"
    },
    "id": "qUkZAummST90",
    "outputId": "d9dce08c-6f3d-424f-c4fc-9aaa924d5617"
   },
   "outputs": [
    {
     "data": {
      "text/plain": [
       "array([[2.00e+00, 6.10e+04, 1.00e+00, ..., 1.50e+01, 0.00e+00, 6.00e+00],\n",
       "       [2.00e+00, 5.00e+04, 1.00e+00, ..., 0.00e+00, 0.00e+00, 4.00e+00],\n",
       "       [0.00e+00, 7.00e+04, 1.00e+00, ..., 0.00e+00, 0.00e+00, 5.00e+00],\n",
       "       ...,\n",
       "       [2.00e+00, 8.10e+04, 1.00e+00, ..., 0.00e+00, 0.00e+00, 5.00e+00],\n",
       "       [2.00e+00, 4.57e+04, 1.00e+00, ..., 4.70e+01, 4.70e+01, 5.00e+00],\n",
       "       [2.00e+00, 6.50e+04, 1.00e+00, ..., 0.00e+00, 0.00e+00, 5.00e+00]])"
      ]
     },
     "execution_count": 12,
     "metadata": {
      "tags": []
     },
     "output_type": "execute_result"
    }
   ],
   "source": [
    "val_features"
   ]
  },
  {
   "cell_type": "code",
   "execution_count": 13,
   "metadata": {
    "colab": {
     "base_uri": "https://localhost:8080/"
    },
    "id": "GMb9tfxRSV3N",
    "outputId": "3a6a8760-1832-47e5-b112-724542da77cc"
   },
   "outputs": [
    {
     "data": {
      "text/plain": [
       "array([0, 0, 0, ..., 0, 0, 0])"
      ]
     },
     "execution_count": 13,
     "metadata": {
      "tags": []
     },
     "output_type": "execute_result"
    }
   ],
   "source": [
    "val_targets"
   ]
  },
  {
   "cell_type": "code",
   "execution_count": null,
   "metadata": {
    "id": "d_FYKpE01lVq"
   },
   "outputs": [],
   "source": [
    "# train_features = train_features.reshape(-1,1)\n",
    "# val_features   = val_features.reshape(-1,1)\n",
    "# train_targets = train_features.reshape(-1,1)\n",
    "# val_targets   = val_features.reshape(-1,1)"
   ]
  },
  {
   "cell_type": "code",
   "execution_count": null,
   "metadata": {
    "id": "b-SRt4O3wVUJ"
   },
   "outputs": [],
   "source": [
    "# num_val_samples = int(len(features) * 0.2)\n",
    "# train_features = features[:-num_val_samples]\n",
    "# train_targets = targets[:-num_val_samples]\n",
    "# val_features = features[-num_val_samples:]\n",
    "# val_targets = targets[-num_val_samples:]\n",
    "\n",
    "# print(\"Number of training samples:\", len(train_features))\n",
    "# print(\"Number of validation samples:\", len(val_features))"
   ]
  },
  {
   "cell_type": "code",
   "execution_count": 14,
   "metadata": {
    "id": "v2yrn6T0yogb"
   },
   "outputs": [],
   "source": [
    "train_features = scale(train_features)\n",
    "val_features   = scale(val_features)"
   ]
  },
  {
   "cell_type": "code",
   "execution_count": 15,
   "metadata": {
    "colab": {
     "base_uri": "https://localhost:8080/"
    },
    "id": "-Km1Nzw0Ey0B",
    "outputId": "4a4861cf-6701-4c57-b6d3-bbcd928e15d3"
   },
   "outputs": [
    {
     "data": {
      "text/plain": [
       "array([0, 0, 0, ..., 0, 1, 0])"
      ]
     },
     "execution_count": 15,
     "metadata": {
      "tags": []
     },
     "output_type": "execute_result"
    }
   ],
   "source": [
    "train_targets"
   ]
  },
  {
   "cell_type": "code",
   "execution_count": 16,
   "metadata": {
    "colab": {
     "base_uri": "https://localhost:8080/"
    },
    "id": "oSS4ZCymz8ya",
    "outputId": "1e6f5370-c0be-4cca-d458-80389900d080"
   },
   "outputs": [
    {
     "name": "stdout",
     "output_type": "stream",
     "text": [
      "Model: \"sequential\"\n",
      "_________________________________________________________________\n",
      "Layer (type)                 Output Shape              Param #   \n",
      "=================================================================\n",
      "dense (Dense)                (None, 150)               4200      \n",
      "_________________________________________________________________\n",
      "dense_1 (Dense)              (None, 150)               22650     \n",
      "_________________________________________________________________\n",
      "dense_2 (Dense)              (None, 150)               22650     \n",
      "_________________________________________________________________\n",
      "dense_3 (Dense)              (None, 150)               22650     \n",
      "_________________________________________________________________\n",
      "dense_4 (Dense)              (None, 1)                 151       \n",
      "=================================================================\n",
      "Total params: 72,301\n",
      "Trainable params: 72,301\n",
      "Non-trainable params: 0\n",
      "_________________________________________________________________\n"
     ]
    }
   ],
   "source": [
    "model = keras.Sequential(\n",
    "    [\n",
    "        keras.layers.Dense(\n",
    "            150, activation=\"relu\", input_shape=(train_features.shape[-1],)\n",
    "        ),\n",
    "        keras.layers.Dense(150, activation = \"relu\"),\n",
    "        #keras.layers.Dropout(0.3),\n",
    "        keras.layers.Dense(150, activation=\"relu\"),\n",
    "        # keras.layers.Dropout(0.3),\n",
    "        keras.layers.Dense(150, activation=\"relu\"),\\\n",
    "        #keras.layers.Dense(20, activation=\"relu\"),\n",
    "        keras.layers.Dense(1, activation=\"sigmoid\"),\n",
    "    ]\n",
    ")\n",
    "model.summary()"
   ]
  },
  {
   "cell_type": "code",
   "execution_count": 26,
   "metadata": {
    "colab": {
     "base_uri": "https://localhost:8080/"
    },
    "id": "5n0cUqer0GD5",
    "outputId": "57e70458-502d-4ae2-a9c1-193c5395e237"
   },
   "outputs": [
    {
     "name": "stdout",
     "output_type": "stream",
     "text": [
      "Epoch 1/3\n",
      "75494/75494 - 165s - loss: 0.5270 - binary_accuracy: 0.7997 - val_loss: 0.6761 - val_binary_accuracy: 0.8021\n",
      "Epoch 2/3\n",
      "75494/75494 - 166s - loss: 0.5270 - binary_accuracy: 0.7997 - val_loss: 0.6761 - val_binary_accuracy: 0.8021\n",
      "Epoch 3/3\n",
      "75494/75494 - 165s - loss: 0.5270 - binary_accuracy: 0.7997 - val_loss: 0.6761 - val_binary_accuracy: 0.8021\n",
      "CPU times: user 13min 25s, sys: 2min 14s, total: 15min 39s\n",
      "Wall time: 8min 16s\n"
     ]
    }
   ],
   "source": [
    "%%time\n",
    "\n",
    "metrics = [\n",
    "   keras.metrics.BinaryAccuracy(\n",
    "    name=\"binary_accuracy\", dtype=None, threshold = 0.97\n",
    ")\n",
    "]\n",
    "\n",
    "lr_schedule = keras.optimizers.schedules.ExponentialDecay(\n",
    "    initial_learning_rate=0.01,\n",
    "    decay_steps=20,\n",
    "    decay_rate=0.9)\n",
    "\n",
    "model.compile(\n",
    "    optimizer=keras.optimizers.SGD(lr_schedule), loss=\"binary_crossentropy\", metrics = metrics\n",
    ")\n",
    "\n",
    "callbacks = [keras.callbacks.ModelCheckpoint(\"Default_loans_model_at_epoch_{epoch}.h5\")]\n",
    "\n",
    "\n",
    "model.fit(\n",
    "    train_features,\n",
    "    train_targets,\n",
    "    batch_size = 10,\n",
    "    epochs = 3,\n",
    "    verbose = 2,\n",
    "    callbacks=callbacks,\n",
    "    validation_data=(val_features, val_targets),\n",
    "    validation_split = 0.2,\n",
    "    validation_freq = 1,\n",
    "    shuffle = True,\n",
    "    class_weight = {0:0.5, 1:2},\n",
    "\n",
    ")"
   ]
  },
  {
   "cell_type": "code",
   "execution_count": 27,
   "metadata": {
    "id": "Fb5kito1EdwE"
   },
   "outputs": [],
   "source": [
    "#dir(model)"
   ]
  },
  {
   "cell_type": "code",
   "execution_count": 28,
   "metadata": {
    "colab": {
     "base_uri": "https://localhost:8080/"
    },
    "id": "K7syZjNGMbzZ",
    "outputId": "923ba62c-2100-45da-96a9-256feb0c8c19"
   },
   "outputs": [
    {
     "name": "stdout",
     "output_type": "stream",
     "text": [
      "[[1]\n",
      " [0]\n",
      " [0]\n",
      " ...\n",
      " [1]\n",
      " [1]\n",
      " [1]]\n",
      "CPU times: user 32.5 s, sys: 5.23 s, total: 37.7 s\n",
      "Wall time: 22.5 s\n"
     ]
    }
   ],
   "source": [
    "%%time\n",
    "predictions_train = model.predict_classes(train_features)\n",
    "print(predictions_train)"
   ]
  },
  {
   "cell_type": "code",
   "execution_count": 29,
   "metadata": {
    "colab": {
     "base_uri": "https://localhost:8080/"
    },
    "id": "A_AQWyVzObGF",
    "outputId": "9cb44580-2c98-4800-d1d9-ba3104204e1d"
   },
   "outputs": [
    {
     "name": "stdout",
     "output_type": "stream",
     "text": [
      "[[0]\n",
      " [1]\n",
      " [0]\n",
      " ...\n",
      " [1]\n",
      " [0]\n",
      " [0]]\n",
      "CPU times: user 12.7 s, sys: 1.96 s, total: 14.6 s\n",
      "Wall time: 8.69 s\n"
     ]
    }
   ],
   "source": [
    "%%time\n",
    "predictions_test = model.predict_classes(val_features)\n",
    "print(predictions_test)"
   ]
  },
  {
   "cell_type": "code",
   "execution_count": 30,
   "metadata": {
    "colab": {
     "base_uri": "https://localhost:8080/"
    },
    "id": "Q8MaVZJk3B6z",
    "outputId": "dd0163a7-57b0-4448-8171-33c6b7c8cc92"
   },
   "outputs": [
    {
     "name": "stdout",
     "output_type": "stream",
     "text": [
      "----------------------------------------------------------------------------------------------------\n",
      "Training\n",
      "[[425779 329338]\n",
      " [ 58491 130061]]\n",
      "----------------------------------------------------------------------------------------------------\n",
      "Validation\n",
      "[[182675 140947]\n",
      " [ 25000  55808]]\n",
      "----------------------------------------------------------------------------------------------------\n",
      "CPU times: user 1.23 s, sys: 0 ns, total: 1.23 s\n",
      "Wall time: 1.23 s\n"
     ]
    }
   ],
   "source": [
    "%%time\n",
    "print(\"-\"*100)\n",
    "print(\"Training\")\n",
    "print(confusion_matrix(y_true = train_targets, y_pred = predictions_train))\n",
    "print(\"-\"*100)\n",
    "print(\"Validation\")\n",
    "print(confusion_matrix(y_true = val_targets, y_pred = predictions_test))\n",
    "print(\"-\"*100)"
   ]
  }
 ],
 "metadata": {
  "accelerator": "GPU",
  "colab": {
   "collapsed_sections": [],
   "machine_shape": "hm",
   "name": "NeuralNetwork.ipynb",
   "provenance": []
  },
  "kernelspec": {
   "display_name": "Python 3",
   "language": "python",
   "name": "python3"
  },
  "language_info": {
   "codemirror_mode": {
    "name": "ipython",
    "version": 3
   },
   "file_extension": ".py",
   "mimetype": "text/x-python",
   "name": "python",
   "nbconvert_exporter": "python",
   "pygments_lexer": "ipython3",
   "version": "3.7.6"
  }
 },
 "nbformat": 4,
 "nbformat_minor": 1
}
