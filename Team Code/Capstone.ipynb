{
 "cells": [
  {
   "cell_type": "code",
   "execution_count": null,
   "metadata": {
    "id": "M8oGrhIxxrNm"
   },
   "outputs": [],
   "source": [
    "%%time\n",
    "import pandas as pd\n",
    "import numpy as np\n",
    "import matplotlib.pyplot as plt\n",
    "import seaborn as sns\n",
    "import missingno as msno\n",
    "from sklearn.linear_model import Lasso\n",
    "import re\n",
    "import math\n",
    "from sklearn.metrics import confusion_matrix\n",
    "from sklearn.model_selection import *"
   ]
  },
  {
   "cell_type": "code",
   "execution_count": null,
   "metadata": {
    "id": "_t3EtnESQlQn"
   },
   "outputs": [],
   "source": [
    "from google.colab import drive\n",
    "drive.mount(\"/content/gdrive\")"
   ]
  },
  {
   "cell_type": "code",
   "execution_count": null,
   "metadata": {
    "id": "UjujShbL24R2"
   },
   "outputs": [],
   "source": [
    "%%time\n",
    "accepted = pd.read_csv(\"/content/gdrive/MyDrive/NYC DSA Capstone Project/Data/accepted_2007_to_2018q4.csv/accepted.csv\", low_memory = False)\n",
    "features = pd.read_csv(\"/content/gdrive/MyDrive/NYC DSA Capstone Project/Data/features.csv\", low_memory = False)\n",
    "#rejected = pd.read_csv(\"/content/gdrive/MyDrive/NYC DSA Capstone Project/Data/rejected_2007_to_2018q4.csv/rejected_2007_to_2018Q4.csv\", low_memory = False)"
   ]
  },
  {
   "cell_type": "code",
   "execution_count": null,
   "metadata": {
    "id": "4z6A6lLoGa8w"
   },
   "outputs": [],
   "source": [
    "print(accepted.shape)\n",
    "#print(rejected.shape)"
   ]
  },
  {
   "cell_type": "code",
   "execution_count": null,
   "metadata": {
    "id": "cD7k2XNL3A4k"
   },
   "outputs": [],
   "source": [
    "accepted.head()"
   ]
  },
  {
   "cell_type": "code",
   "execution_count": null,
   "metadata": {
    "id": "OGga9tDi3GMv"
   },
   "outputs": [],
   "source": [
    "accepted.info(max_cols = 160)"
   ]
  },
  {
   "cell_type": "code",
   "execution_count": null,
   "metadata": {
    "id": "LfsL436OHial"
   },
   "outputs": [],
   "source": [
    "accepted.info()"
   ]
  },
  {
   "cell_type": "code",
   "execution_count": null,
   "metadata": {
    "id": "b2SZCdvE3T1X"
   },
   "outputs": [],
   "source": [
    "accepted.describe()"
   ]
  },
  {
   "cell_type": "code",
   "execution_count": null,
   "metadata": {
    "id": "RMeu4D2c3gUo"
   },
   "outputs": [],
   "source": [
    "rejected.info()"
   ]
  },
  {
   "cell_type": "code",
   "execution_count": null,
   "metadata": {
    "id": "qk41eXq73-kr"
   },
   "outputs": [],
   "source": [
    "rejected.describe()"
   ]
  },
  {
   "cell_type": "code",
   "execution_count": null,
   "metadata": {
    "id": "zoJflKer4R8N"
   },
   "outputs": [],
   "source": [
    "plt.figure(figsize = (15,15))\n",
    "correlation_matrix = rejected.corr()\n",
    "sns.heatmap(correlation_matrix, annot = True)\n",
    "plt.show()"
   ]
  },
  {
   "cell_type": "code",
   "execution_count": null,
   "metadata": {
    "id": "LBRmwl1B5e57"
   },
   "outputs": [],
   "source": [
    "plt.figure(figsize = (25,15))\n",
    "sns.boxplot(accepted.grade, accepted.loan_amnt)"
   ]
  },
  {
   "cell_type": "code",
   "execution_count": null,
   "metadata": {
    "id": "_17xEqX38VJM"
   },
   "outputs": [],
   "source": [
    "plt.figure(figsize = (25,15))\n",
    "sns.boxplot(accepted.grade, accepted.annual_inc_joint)"
   ]
  },
  {
   "cell_type": "code",
   "execution_count": null,
   "metadata": {
    "id": "N093xoSoi1Y8"
   },
   "outputs": [],
   "source": [
    "accepted_missing = pd.DataFrame(accepted.isnull().mean(axis = 0).sort_values(ascending = False), \n",
    "                                columns = [\"Num_Missing\"])\n",
    "                                #index = accepted.columns)\n",
    "#accepted_missing.Num_Missing = accepted_missing.Num_Missing/accepted.shape[0]"
   ]
  },
  {
   "cell_type": "code",
   "execution_count": null,
   "metadata": {
    "id": "NgniWX_dihwf"
   },
   "outputs": [],
   "source": [
    "accepted_missing.head()"
   ]
  },
  {
   "cell_type": "code",
   "execution_count": null,
   "metadata": {
    "id": "Ylsgdcs8JeJ_"
   },
   "outputs": [],
   "source": [
    "# accepted = accepted.drop(columns = ['sec_app_chargeoff_within_12_mths',\n",
    "#                                     'sec_app_fico_range_high',\n",
    "#                                     'sec_app_inq_last_6mths',\n",
    "#                                     'sec_app_mort_acc',\n",
    "#                                     'sec_app_open_acc',\n",
    "#                                     'sec_app_revol_util',\n",
    "#                                     'sec_app_open_act_il',\n",
    "#                                     'sec_app_num_rev_accts',\n",
    "#                                     'sec_app_fico_range_low',\n",
    "#                                     'sec_app_collections_12_mths_ex_med',\n",
    "#                                     'sec_app_mths_since_last_major_derog',\n",
    "#                                     'sec_app_earliest_cr_line',\n",
    "#                                     'revol_bal_joint',\n",
    "#                                     'member_id'],\n",
    "#                                     axis =  1)\n",
    "accepted.info(max_cols = 200)"
   ]
  },
  {
   "cell_type": "code",
   "execution_count": null,
   "metadata": {
    "id": "cf7eoYcqAPJY"
   },
   "outputs": [],
   "source": [
    "accepted_missing[accepted_missing[\"Num_Missing\"] > 0.5]"
   ]
  },
  {
   "cell_type": "code",
   "execution_count": null,
   "metadata": {
    "id": "uFPuB0FQQx56"
   },
   "outputs": [],
   "source": [
    "date = []\n",
    "for x in accepted.columns:\n",
    "    if re.findall(\"date\", x):\n",
    "        date.append(x)\n",
    "date"
   ]
  },
  {
   "cell_type": "code",
   "execution_count": null,
   "metadata": {
    "id": "HyLd7Zl6vHnR"
   },
   "outputs": [],
   "source": [
    "# %%time\n",
    "# for i in range(len(accepted.term)):\n",
    "#     if accepted.term[i]:\n",
    "#         accepted.term[i] = int(re.sub(pattern = \"(\\d\\d)*([^\\d])*\", repl = r\"\\1\", string = accepted.term[i]))"
   ]
  },
  {
   "cell_type": "code",
   "execution_count": null,
   "metadata": {
    "id": "T1Ncwa2jy4Dl"
   },
   "outputs": [],
   "source": [
    "# #list(map(lambda i: int(re.sub(pattern = \"(\\d\\d)*([^\\d])*\", \\\n",
    "#                               repl = r\"\\1\", \\\n",
    "#                               string = accepted.term[i])) \\\n",
    "#                        if accepted.term[i] for i in range(len(accepted.term)), \n",
    "#          accepted.term))"
   ]
  },
  {
   "cell_type": "code",
   "execution_count": null,
   "metadata": {
    "id": "1nnzNlxAuOA2"
   },
   "outputs": [],
   "source": [
    "%%time\n",
    "accepted[\"term\"] = accepted[\"term\"].apply(lambda term: int(re.sub(pattern = \"(\\d\\d)*([^\\d])*\", repl = r\"\\1\", string = term)) if isinstance(term, str) else term)"
   ]
  },
  {
   "cell_type": "code",
   "execution_count": null,
   "metadata": {
    "id": "iveKWE0OY98A"
   },
   "outputs": [],
   "source": [
    "# Our target variable\n",
    "accepted[\"total_payment\"] = accepted.installment * accepted.term"
   ]
  },
  {
   "cell_type": "code",
   "execution_count": null,
   "metadata": {
    "id": "6bneOOeEZXDw"
   },
   "outputs": [],
   "source": [
    "accepted[accepted.term.isnull()]"
   ]
  },
  {
   "cell_type": "code",
   "execution_count": null,
   "metadata": {
    "id": "BfbWubc92CWf"
   },
   "outputs": [],
   "source": [
    "accepted = accepted.dropna(axis = 0, how = \"any\", subset = [\"term\"])"
   ]
  },
  {
   "cell_type": "code",
   "execution_count": null,
   "metadata": {
    "id": "K_rKsTd64cdP"
   },
   "outputs": [],
   "source": [
    "accepted[accepted.term.isnull()]"
   ]
  },
  {
   "cell_type": "code",
   "execution_count": null,
   "metadata": {
    "id": "z0QLp_5E-pkB"
   },
   "outputs": [],
   "source": [
    "#%%time\n",
    "#accepted.to_csv(\"/content/gdrive/MyDrive/NYC DSA Capstone Project/Data/accepted_2007_to_2018q4.csv/accepted.csv\")"
   ]
  },
  {
   "cell_type": "code",
   "execution_count": null,
   "metadata": {
    "id": "1b36oWDX4hQM"
   },
   "outputs": [],
   "source": [
    "hardship = accepted[accepted.hardship_status.notnull()]\n",
    "hardship"
   ]
  },
  {
   "cell_type": "code",
   "execution_count": null,
   "metadata": {
    "id": "1bpHaZhm5gjB"
   },
   "outputs": [],
   "source": [
    "type(hardship)"
   ]
  },
  {
   "cell_type": "code",
   "execution_count": null,
   "metadata": {
    "id": "1lQQeHay5i2D"
   },
   "outputs": [],
   "source": [
    "hardship.hardship_reason.unique()"
   ]
  },
  {
   "cell_type": "code",
   "execution_count": null,
   "metadata": {
    "id": "vio5DO9t55IH"
   },
   "outputs": [],
   "source": [
    "#plt.figure(figsize = (20,20))\n",
    "sns.boxplot(x = hardship.hardship_reason,\n",
    "            y = hardship.hardship_length,\n",
    "            data = hardship)"
   ]
  },
  {
   "cell_type": "code",
   "execution_count": null,
   "metadata": {
    "id": "TLiew3IL7zY6"
   },
   "outputs": [],
   "source": [
    "len(hardship.hardship_length.unique())"
   ]
  },
  {
   "cell_type": "code",
   "execution_count": null,
   "metadata": {
    "id": "PSwdhRHF8qpd"
   },
   "outputs": [],
   "source": [
    "len(accepted.hardship_length.unique())"
   ]
  },
  {
   "cell_type": "code",
   "execution_count": null,
   "metadata": {
    "id": "CLW7Y_Gf8vji"
   },
   "outputs": [],
   "source": [
    "\n",
    "[math.isnan(val) for val in accepted.hardship_length.unique()]"
   ]
  },
  {
   "cell_type": "code",
   "execution_count": null,
   "metadata": {
    "id": "YN4FTsdY7-SN"
   },
   "outputs": [],
   "source": [
    "%%time\n",
    "accepted[\"hardship_length\"] = accepted[\"hardship_length\"].apply(lambda entry: 0 if math.isnan(entry) else entry)"
   ]
  },
  {
   "cell_type": "code",
   "execution_count": null,
   "metadata": {
    "id": "IqypdWqM8-Eg"
   },
   "outputs": [],
   "source": [
    "accepted[accepted.hardship_length.isnull()]"
   ]
  },
  {
   "cell_type": "code",
   "execution_count": null,
   "metadata": {
    "id": "6D0QwqThRpLk"
   },
   "outputs": [],
   "source": [
    "plt.figure(figsize = (20,20))\n",
    "sns.boxplot(x = hardship.hardship_reason,\n",
    "            y = hardship.total_payment,\n",
    "            data = hardship)"
   ]
  },
  {
   "cell_type": "code",
   "execution_count": null,
   "metadata": {
    "id": "OZ1M0i-2UyS7"
   },
   "outputs": [],
   "source": [
    "accepted.drop([\"member_id\"], axis = 1, inplace = True)"
   ]
  },
  {
   "cell_type": "code",
   "execution_count": null,
   "metadata": {
    "id": "bS5hAiNFVhuJ"
   },
   "outputs": [],
   "source": [
    "accepted_missing"
   ]
  },
  {
   "cell_type": "code",
   "execution_count": null,
   "metadata": {
    "id": "nZc3zZijWBBX"
   },
   "outputs": [],
   "source": [
    "hardship.hardship_status.unique()"
   ]
  },
  {
   "cell_type": "code",
   "execution_count": null,
   "metadata": {
    "id": "F50l5PqVWoSd"
   },
   "outputs": [],
   "source": [
    "print(np.mean(hardship.hardship_status == 'COMPLETED'))\n",
    "print(np.mean(hardship.hardship_status == 'ACTIVE'))\n",
    "print(np.mean(hardship.hardship_status == 'BROKEN'))"
   ]
  },
  {
   "cell_type": "code",
   "execution_count": null,
   "metadata": {
    "id": "xij9EdhrXcgv"
   },
   "outputs": [],
   "source": [
    "# plt.figure(figsize = (20,20))\n",
    "# sns.barplot(x = hardship.hardship_reason,\n",
    "#             y = sum(hardship.hardship_status == 'COMPLETED'),\n",
    "#             data = hardship)"
   ]
  },
  {
   "cell_type": "code",
   "execution_count": null,
   "metadata": {
    "id": "Hpq_ZSy0Xr6Z"
   },
   "outputs": [],
   "source": [
    "print(sum(hardship.hardship_status == 'COMPLETED'))\n",
    "print(sum(hardship.hardship_status == 'ACTIVE'))\n",
    "print(sum(hardship.hardship_status == 'BROKEN'))"
   ]
  },
  {
   "cell_type": "code",
   "execution_count": null,
   "metadata": {
    "id": "0dOCPIBhYeCN"
   },
   "outputs": [],
   "source": [
    "sum(accepted.issue_d.isnull())"
   ]
  },
  {
   "cell_type": "code",
   "execution_count": null,
   "metadata": {
    "id": "k6R1sLEecTBs"
   },
   "outputs": [],
   "source": [
    "len(accepted.issue_d.unique())"
   ]
  },
  {
   "cell_type": "code",
   "execution_count": null,
   "metadata": {
    "id": "AFFxaByBgW5d"
   },
   "outputs": [],
   "source": [
    "accepted.issue_d.unique()"
   ]
  },
  {
   "cell_type": "code",
   "execution_count": null,
   "metadata": {
    "id": "dykCeP3Mj_n-"
   },
   "outputs": [],
   "source": [
    "%%time\n",
    "accepted[\"issue_d\"] = accepted[\"issue_d\"].apply(lambda date: re.sub(pattern = \"([A-Za-z]*)([-])*([0-9]*)\", repl = r\"\\1\\3\", string = date) if isinstance(date, str) else date)"
   ]
  },
  {
   "cell_type": "code",
   "execution_count": null,
   "metadata": {
    "id": "1PX08lnOflB_"
   },
   "outputs": [],
   "source": [
    "accepted[\"issue_d\"] = pd.to_datetime(accepted.issue_d, \n",
    "                                     format = \"%Y-%m-%d\", \n",
    "                                     #errors = \"ignore\", \n",
    "                                     yearfirst = True)\n",
    "accepted.issue_d"
   ]
  },
  {
   "cell_type": "code",
   "execution_count": null,
   "metadata": {
    "id": "PHkEiZGNpIF1"
   },
   "outputs": [],
   "source": [
    "accepted.issue_d.unique()"
   ]
  },
  {
   "cell_type": "code",
   "execution_count": null,
   "metadata": {
    "id": "S5GCnC5zpLYF"
   },
   "outputs": [],
   "source": [
    "plt.figure(figsize = (15,10))\n",
    "count_by_year = pd.DataFrame(accepted.groupby([\"issue_d\"])[\"id\"].count())\n",
    "print(count_by_year)\n",
    "sns.lineplot(count_by_year.index, count_by_year.id, data = count_by_year)"
   ]
  },
  {
   "cell_type": "code",
   "execution_count": null,
   "metadata": {
    "id": "32Lc6xDmrblp"
   },
   "outputs": [],
   "source": [
    "accepted.purpose.unique()"
   ]
  },
  {
   "cell_type": "code",
   "execution_count": null,
   "metadata": {
    "id": "gB6RhpD9sY1B"
   },
   "outputs": [],
   "source": [
    "plt.figure(figsize = (20,10))\n",
    "count_by_purpose = pd.DataFrame(accepted.groupby([\"purpose\"])[\"id\"].count().sort_values())\n",
    "count_by_purpose\n",
    "sns.barplot(count_by_purpose.index, count_by_purpose.id, palette = \"deep\")"
   ]
  },
  {
   "cell_type": "code",
   "execution_count": null,
   "metadata": {
    "id": "lsUI_EZeA4DV"
   },
   "outputs": [],
   "source": [
    "count_by_purpose = count_by_purpose.sort_values(by = \"id\", ascending = False).reset_index()"
   ]
  },
  {
   "cell_type": "code",
   "execution_count": null,
   "metadata": {
    "id": "1wo2qORkBjxH"
   },
   "outputs": [],
   "source": [
    "count_by_purpose = count_by_purpose.rename(columns = {\"id\":\"count\"})\n",
    "#count_by_purpose.drop(\"index\", axis = 1, inplace = True)\n",
    "count_by_purpose"
   ]
  },
  {
   "cell_type": "code",
   "execution_count": null,
   "metadata": {
    "id": "GD2zn2MsBtHi"
   },
   "outputs": [],
   "source": [
    "count_by_purpose[\"count\"] = count_by_purpose[\"count\"] / sum(count_by_purpose[\"count\"])\n",
    "count_by_purpose"
   ]
  },
  {
   "cell_type": "code",
   "execution_count": null,
   "metadata": {
    "id": "DlpLtI8TCyqQ"
   },
   "outputs": [],
   "source": []
  },
  {
   "cell_type": "code",
   "execution_count": null,
   "metadata": {
    "id": "m0SAqXWkvX9o"
   },
   "outputs": [],
   "source": [
    "count_by_purpose_grade = pd.DataFrame(accepted.groupby([\"purpose\", \"grade\"])[\"id\"].count())\n",
    "count_by_purpose_grade.reset_index(inplace = True)\n",
    "count_by_purpose_grade"
   ]
  },
  {
   "cell_type": "code",
   "execution_count": null,
   "metadata": {
    "id": "vrWifwYH4Ww-"
   },
   "outputs": [],
   "source": [
    "plt.figure(figsize = (30,6))\n",
    "#count_by_purpose_grade.index\n",
    "sns.barplot(count_by_purpose_grade.index, \n",
    "            count_by_purpose_grade.id, \n",
    "            order = count_by_purpose_grade.sort_values(by = \"id\", ascending = False, inplace = False).index)\n",
    "ind = range(len(count_by_purpose_grade))\n",
    "labels = list(zip(count_by_purpose_grade.purpose, count_by_purpose_grade.grade))\n",
    "plt.xticks(ind, labels, rotation = 90)\n",
    "plt.show()"
   ]
  },
  {
   "cell_type": "code",
   "execution_count": null,
   "metadata": {
    "id": "a86EZHpF_Xac"
   },
   "outputs": [],
   "source": [
    "list(zip(count_by_purpose_grade.purpose, count_by_purpose_grade.grade))"
   ]
  },
  {
   "cell_type": "code",
   "execution_count": null,
   "metadata": {
    "id": "qzNKsKoyFNQv"
   },
   "outputs": [],
   "source": [
    "accepted[\"year\"] = pd.DatetimeIndex(accepted.issue_d).year\n",
    "accepted[\"year\"]"
   ]
  },
  {
   "cell_type": "code",
   "execution_count": null,
   "metadata": {
    "id": "fKW6h36CEYoG"
   },
   "outputs": [],
   "source": [
    "count_by_purpose_year = pd.DataFrame(accepted.groupby([\"year\",\"purpose\"])[\"id\"].count())\n",
    "count_by_purpose_year.reset_index(inplace = True)\n",
    "count_by_purpose_year"
   ]
  },
  {
   "cell_type": "code",
   "execution_count": null,
   "metadata": {
    "id": "3YATCOgpGdWQ"
   },
   "outputs": [],
   "source": [
    "plt.figure(figsize = (30,6))\n",
    "\n",
    "sns.barplot(count_by_purpose_year.index, \n",
    "            count_by_purpose_year[\"id\"],\n",
    "            order = count_by_purpose_year.sort_values(by = \"id\", ascending = False, inplace = False).index)\n",
    "\n",
    "ind = range(len(count_by_purpose_year))\n",
    "labels = list(zip(count_by_purpose_year.year, count_by_purpose_year.purpose))\n",
    "plt.xticks(ind, labels, rotation = 90)\n",
    "\n",
    "plt.show()"
   ]
  },
  {
   "cell_type": "code",
   "execution_count": null,
   "metadata": {
    "id": "vGkD8-pdHc8G"
   },
   "outputs": [],
   "source": [
    "count_by_purpose_year_grade = pd.DataFrame(accepted.groupby([\"issue_year\",\"purpose\", \"grade\"])[\"id\"].count())\n",
    "count_by_purpose_year_grade.reset_index(inplace = True)\n",
    "#count_by_purpose_year_grade.rename(columns = {\"id\":\"total\"})"
   ]
  },
  {
   "cell_type": "code",
   "execution_count": null,
   "metadata": {
    "id": "2D45X3_HMhFU"
   },
   "outputs": [],
   "source": [
    "count_by_purpose_year_grade = count_by_purpose_year_grade.sort_values(by = \"id\", ascending = False, inplace = False).reset_index()\n",
    "count_by_purpose_year_grade.drop(\"index\", axis = 1, inplace = True)"
   ]
  },
  {
   "cell_type": "code",
   "execution_count": null,
   "metadata": {
    "id": "I69mW3NFPp0j"
   },
   "outputs": [],
   "source": [
    "count_by_purpose_year_grade.describe()"
   ]
  },
  {
   "cell_type": "code",
   "execution_count": null,
   "metadata": {
    "id": "fw4TfC1tPnGi"
   },
   "outputs": [],
   "source": [
    "#pd.options.display.max_rows = None\n",
    "top = count_by_purpose_year_grade[count_by_purpose_year_grade[\"id\"] > 1e4]\n",
    "top"
   ]
  },
  {
   "cell_type": "code",
   "execution_count": null,
   "metadata": {
    "id": "1UpssRlMRl5y"
   },
   "outputs": [],
   "source": [
    "plt.figure(figsize = (30,8))\n",
    "\n",
    "sns.barplot(top.index, top[\"id\"])\n",
    "\n",
    "ind = range(len(top))\n",
    "labels = list(zip(top.issue_year, top.purpose, top.grade))\n",
    "plt.xticks(ind, labels, rotation = 90)\n",
    "\n",
    "plt.show()"
   ]
  },
  {
   "cell_type": "code",
   "execution_count": null,
   "metadata": {
    "id": "E7rI9FZvV7eU"
   },
   "outputs": [],
   "source": [
    "accepted.purpose.unique()"
   ]
  },
  {
   "cell_type": "code",
   "execution_count": null,
   "metadata": {
    "id": "oBKC3cNRYpbZ"
   },
   "outputs": [],
   "source": [
    "med_fund = pd.DataFrame(accepted.groupby(\"purpose\")[\"funded_amnt\"].median().sort_values(ascending = False))\n",
    "med_fund = med_fund.reset_index()\n",
    "med_fund = med_fund.rename(columns = {\"funded_amnt\":\"median_funded\"})\n",
    "med_fund "
   ]
  },
  {
   "cell_type": "code",
   "execution_count": null,
   "metadata": {
    "id": "KH0eZwJQZQ1L"
   },
   "outputs": [],
   "source": [
    "mean_funded = pd.DataFrame(accepted.groupby(\"purpose\")[\"funded_amnt\"].mean().sort_values(ascending = False))\n",
    "mean_funded = mean_funded.reset_index()\n",
    "mean_funded = mean_funded.rename(columns = {\"funded_amnt\":\"mean_amount\"})\n",
    "mean_funded"
   ]
  },
  {
   "cell_type": "code",
   "execution_count": null,
   "metadata": {
    "id": "4h-yShjRZuRY"
   },
   "outputs": [],
   "source": [
    "mean_funded[\"mean_amount\"] = mean_funded[\"mean_amount\"].apply(round)\n",
    "mean_funded\n"
   ]
  },
  {
   "cell_type": "code",
   "execution_count": null,
   "metadata": {
    "id": "OYj7k-AGc5NU"
   },
   "outputs": [],
   "source": [
    "pd.DataFrame(accepted.groupby([\"grade\", \"purpose\"])[\"total_payment\", \"delinq_amnt\"].agg(\"median\", \"mean\")).sort_values(\"total_payment\", ascending = False).reset_index()"
   ]
  },
  {
   "cell_type": "code",
   "execution_count": null,
   "metadata": {
    "id": "xtiM8tXZe6Mn"
   },
   "outputs": [],
   "source": [
    "delinq_total = pd.DataFrame(accepted.groupby([\"grade\", \"purpose\"])[\"total_payment\", \"delinq_amnt\"].mean()).sort_values(\"delinq_amnt\", ascending = False).reset_index()\n",
    "delinq_total"
   ]
  },
  {
   "cell_type": "code",
   "execution_count": null,
   "metadata": {
    "id": "ryo7mqGngwjx"
   },
   "outputs": [],
   "source": [
    "plt.figure(figsize = (20,10))\n",
    "\n",
    "sns.scatterplot(delinq_total.delinq_amnt,\n",
    "                delinq_total.total_payment)\n",
    "\n",
    "plt.show()"
   ]
  },
  {
   "cell_type": "code",
   "execution_count": null,
   "metadata": {
    "id": "thrkvAJwmryI"
   },
   "outputs": [],
   "source": [
    "plt.figure(figsize = (20,10))\n",
    "\n",
    "sns.scatterplot(delinq_total.delinq_amnt,\n",
    "                np.log(delinq_total.total_payment))\n",
    "\n",
    "plt.show()"
   ]
  },
  {
   "cell_type": "code",
   "execution_count": null,
   "metadata": {
    "id": "iLD1uztLqSgY"
   },
   "outputs": [],
   "source": [
    "accepted.head()"
   ]
  },
  {
   "cell_type": "code",
   "execution_count": null,
   "metadata": {
    "id": "VaT7KHYUpVmE"
   },
   "outputs": [],
   "source": [
    "#%%time\n",
    "#accepted.to_csv(\"/content/gdrive/MyDrive/NYC DSA Capstone Project/Data/accepted_2007_to_2018q4.csv/accepted.csv\")"
   ]
  },
  {
   "cell_type": "code",
   "execution_count": null,
   "metadata": {
    "id": "gxXRmFDAsEph"
   },
   "outputs": [],
   "source": [
    "len(accepted.sub_grade.unique())"
   ]
  },
  {
   "cell_type": "code",
   "execution_count": null,
   "metadata": {
    "id": "G-qDWUldsknN"
   },
   "outputs": [],
   "source": [
    "accepted.shape"
   ]
  },
  {
   "cell_type": "code",
   "execution_count": null,
   "metadata": {
    "id": "9Tl8QID_oC78"
   },
   "outputs": [],
   "source": [
    "grade_int_rate = pd.DataFrame(accepted.groupby(\"grade\")[\"int_rate\"].mean()).sort_values(by = \"int_rate\", ascending = False).reset_index()\n",
    "grade_int_rate.int_rate = round(grade_int_rate.int_rate)\n",
    "grade_int_rate"
   ]
  },
  {
   "cell_type": "code",
   "execution_count": null,
   "metadata": {
    "id": "e-Oi7st6qEnM"
   },
   "outputs": [],
   "source": [
    "plt.figure(figsize = (30,10))\n",
    "\n",
    "sns.boxplot(x = accepted.grade,\n",
    "            y = accepted.int_rate,\n",
    "            order = [\"G\", \"F\", \"E\", \"D\", \"C\", \"B\", \"A\"])\n",
    "\n",
    "plt.show()\n",
    "\n",
    "# Number of outliers seems to decrease with the quality of the loan \n",
    "# Higher quality loans are much more selective"
   ]
  },
  {
   "cell_type": "code",
   "execution_count": null,
   "metadata": {
    "id": "Fdfg5znKrYgg"
   },
   "outputs": [],
   "source": [
    "subgrade_intrate = pd.DataFrame(accepted.groupby(\"sub_grade\")[\"int_rate\"].mean()).sort_values(by = \"int_rate\", ascending = False).reset_index()\n",
    "subgrade_intrate.int_rate = round(subgrade_intrate.int_rate, 1)\n",
    "subgrade_intrate"
   ]
  },
  {
   "cell_type": "code",
   "execution_count": null,
   "metadata": {
    "id": "S3O94yUstC9w"
   },
   "outputs": [],
   "source": [
    "lst = [\"d5\", \"d6\", \"d1\"]\n",
    "sorted(lst)"
   ]
  },
  {
   "cell_type": "code",
   "execution_count": null,
   "metadata": {
    "id": "9-dUcFj8uEaH"
   },
   "outputs": [],
   "source": [
    "sorted(subgrade_intrate.sub_grade)"
   ]
  },
  {
   "cell_type": "code",
   "execution_count": null,
   "metadata": {
    "id": "HaexpS-huM4X"
   },
   "outputs": [],
   "source": [
    "%time\n",
    "plt.figure(figsize = (25,10))\n",
    "\n",
    "sns.boxplot(x = accepted.sub_grade,\n",
    "            y = accepted.int_rate,\n",
    "            order = sorted(accepted.sub_grade.unique(), reverse = True))\n",
    "\n",
    "plt.show()"
   ]
  },
  {
   "cell_type": "code",
   "execution_count": null,
   "metadata": {
    "id": "A_MWekQjx98a"
   },
   "outputs": [],
   "source": [
    "np.mean(accepted.term == accepted.term.apply(int))"
   ]
  },
  {
   "cell_type": "code",
   "execution_count": null,
   "metadata": {
    "id": "pu23zUFFyUNY"
   },
   "outputs": [],
   "source": [
    "accepted.term = accepted.term.apply(int)"
   ]
  },
  {
   "cell_type": "code",
   "execution_count": null,
   "metadata": {
    "id": "WQAqX3SivN9t"
   },
   "outputs": [],
   "source": [
    "grade_term_rate = pd.DataFrame(accepted.groupby([\"grade\", \"term\"])[\"int_rate\"].mean()).sort_values(by = \"int_rate\", ascending = False).reset_index()\n",
    "grade_term_rate.int_rate = round(grade_term_rate.int_rate, 2)\n",
    "grade_term_rate"
   ]
  },
  {
   "cell_type": "code",
   "execution_count": null,
   "metadata": {
    "id": "2a5xA4qUyi05"
   },
   "outputs": [],
   "source": [
    "pd.DataFrame(accepted.groupby([\"grade\", \"term\"])[\"int_rate\"].median()).sort_values(by = \"int_rate\", ascending = False).reset_index()"
   ]
  },
  {
   "cell_type": "code",
   "execution_count": null,
   "metadata": {
    "id": "J4rqeS8Kzz8S"
   },
   "outputs": [],
   "source": [
    "pd.options.display.max_rows = None\n",
    "pd.DataFrame(accepted.groupby([\"sub_grade\", \"term\"])[\"int_rate\"].mean()).sort_values(by = \"int_rate\", ascending = False).reset_index()"
   ]
  },
  {
   "cell_type": "code",
   "execution_count": null,
   "metadata": {
    "id": "x5Qtk-To01kY"
   },
   "outputs": [],
   "source": [
    "pd.DataFrame(accepted.groupby([\"sub_grade\", \"term\"])[\"int_rate\"].median()).sort_values(by = \"int_rate\", ascending = False).reset_index()"
   ]
  },
  {
   "cell_type": "code",
   "execution_count": null,
   "metadata": {
    "id": "zjC0Ph5v1SOz"
   },
   "outputs": [],
   "source": [
    "accepted.term.unique()"
   ]
  },
  {
   "cell_type": "code",
   "execution_count": null,
   "metadata": {
    "id": "zY49zcH51DTF"
   },
   "outputs": [],
   "source": [
    "plt.figure(figsize = (30,10))\n",
    "\n",
    "sns.boxplot(x = accepted.term,\n",
    "            y = accepted.int_rate)\n",
    "\n",
    "plt.show()"
   ]
  },
  {
   "cell_type": "code",
   "execution_count": null,
   "metadata": {
    "id": "M-dmrYvL2Alj"
   },
   "outputs": [],
   "source": [
    "pd.DataFrame(accepted.groupby(\"year\")[\"int_rate\"].mean()).sort_values(by = \"int_rate\", ascending = False).reset_index()"
   ]
  },
  {
   "cell_type": "code",
   "execution_count": null,
   "metadata": {
    "id": "90QMkDfy3jja"
   },
   "outputs": [],
   "source": [
    "plt.figure(figsize = (30,10))\n",
    "\n",
    "sns.boxplot(x = accepted.year,\n",
    "            y = accepted.int_rate,\n",
    "            order = sorted(accepted.year.unique()))\n",
    "\n",
    "plt.show()"
   ]
  },
  {
   "cell_type": "code",
   "execution_count": null,
   "metadata": {
    "id": "VL7KHGkc4Pji"
   },
   "outputs": [],
   "source": [
    "%time\n",
    "\n",
    "plt.figure(figsize = (30,10))\n",
    "\n",
    "sns.lineplot(x = accepted.issue_year,\n",
    "            y = accepted.int_rate)\n",
    "\n",
    "plt.show()"
   ]
  },
  {
   "cell_type": "code",
   "execution_count": null,
   "metadata": {
    "id": "P7LOalhaAWY7"
   },
   "outputs": [],
   "source": [
    "count_by_year = pd.DataFrame(accepted.groupby([\"issue_year\"])[\"id\"].count()).sort_values(by = \"id\", ascending = False).reset_index()\n",
    "count_by_year = count_by_year.rename(columns = {\"id\":\"count\"})\n",
    "count_by_year\n"
   ]
  },
  {
   "cell_type": "code",
   "execution_count": null,
   "metadata": {
    "id": "lFMXeVtJ51H8"
   },
   "outputs": [],
   "source": [
    "year_purpose = pd.DataFrame(accepted.groupby([\"issue_year\", \"purpose\"])[\"id\"].count()).sort_values(by = \"id\", ascending = False).reset_index()\n",
    "house_trend = year_purpose[year_purpose.purpose == \"house\"].reset_index()\n",
    "house_trend.drop([\"index\", \"purpose\"], axis = 1, inplace  = True)\n",
    "house_trend = house_trend.rename(columns = {\"id\":\"count\"})\n",
    "house_trend[\"count\"] = house_trend[\"count\"]/count_by_year[\"count\"]\n",
    "house_trend"
   ]
  },
  {
   "cell_type": "code",
   "execution_count": null,
   "metadata": {
    "id": "Hg7h6qrj-Xwu"
   },
   "outputs": [],
   "source": [
    "plt.figure(figsize = (30,10))\n",
    "\n",
    "sns.barplot(x = house_trend.issue_year,\n",
    "            y = house_trend[\"count\"],\n",
    "            palette = \"icefire\")\n",
    "\n",
    "plt.xticks(fontsize = 15)\n",
    "plt.title(\" Total Proportion of \\n  Housing Loans by Year \", fontsize = 40)\n",
    "plt.show()"
   ]
  },
  {
   "cell_type": "code",
   "execution_count": null,
   "metadata": {
    "id": "Az_twRK9ER5R"
   },
   "outputs": [],
   "source": [
    "accepted.loan_status.unique()"
   ]
  },
  {
   "cell_type": "code",
   "execution_count": null,
   "metadata": {
    "id": "_-mOcj9dDiiK"
   },
   "outputs": [],
   "source": [
    "status_count =  pd.DataFrame(accepted.groupby(\"loan_status\")[\"id\"].count()).sort_values(by = \"id\", ascending = False).reset_index()\n",
    "status_count.id = round(100 * status_count.id/sum(status_count.id), 3)\n",
    "status_count = status_count.rename(columns = {\"id\":\"percentage\"})\n",
    "status_count"
   ]
  },
  {
   "cell_type": "code",
   "execution_count": null,
   "metadata": {
    "id": "9H_6ElxZN5FY"
   },
   "outputs": [],
   "source": [
    "accepted.settlement_status.unique()"
   ]
  },
  {
   "cell_type": "code",
   "execution_count": null,
   "metadata": {
    "id": "GuiqXsRVLQ_3"
   },
   "outputs": [],
   "source": [
    "settlement_count = pd.DataFrame(accepted.groupby([\"grade\", \"settlement_status\", \"term\"])[\"id\"].count())#.sort_values(by = \"id\", ascending = False).reset_index()\n",
    "settlement_count.id = round(100 *  settlement_count.id / sum(settlement_count.id),3) \n",
    "settlement_count = settlement_count.rename(columns = {\"id\":\"percentage\"})\n",
    "settlement_count"
   ]
  },
  {
   "cell_type": "code",
   "execution_count": null,
   "metadata": {
    "id": "wBNgz5PWOI-C"
   },
   "outputs": [],
   "source": [
    "#pd.options.display.max_rows = 10\n",
    "accepted.last_pymnt_d"
   ]
  },
  {
   "cell_type": "code",
   "execution_count": null,
   "metadata": {
    "id": "qkIuhC7QRdKb"
   },
   "outputs": [],
   "source": [
    "# %time\n",
    "# accepted.last_pymnt_d = accepted.last_pymnt_d.apply(lambda date: re.sub(pattern = \"-\", repl = \"\", string = date) if isinstance(date, str) else date)\n",
    "# accepted.last_pymnt_d"
   ]
  },
  {
   "cell_type": "code",
   "execution_count": null,
   "metadata": {
    "id": "DrhFSn-_gFm9"
   },
   "outputs": [],
   "source": [
    "accepted.last_pymnt_d = pd.to_datetime(accepted.last_pymnt_d,\n",
    "                                       format = \"%Y%m%d\",\n",
    "                                       yearfirst = True)\n",
    "\n",
    "accepted.last_pymnt_d"
   ]
  },
  {
   "cell_type": "code",
   "execution_count": null,
   "metadata": {
    "id": "y2xmnisVhT0A"
   },
   "outputs": [],
   "source": [
    "accepted = accepted.rename(columns = {\"year\":\"issue_year\"})\n",
    "accepted.issue_year"
   ]
  },
  {
   "cell_type": "code",
   "execution_count": null,
   "metadata": {
    "id": "RExYy4nDwLdB"
   },
   "outputs": [],
   "source": [
    "accepted.issue_d = pd.to_datetime(accepted.issue_d,\n",
    "                                  yearfirst = True,\n",
    "                                  format = \"%Y-%m-%d\")\n",
    "\n",
    "accepted.issue_d"
   ]
  },
  {
   "cell_type": "code",
   "execution_count": null,
   "metadata": {
    "id": "YADeUgiTw76i"
   },
   "outputs": [],
   "source": [
    "accepted[\"loan_duration\"] = accepted.last_pymnt_d - accepted.issue_d\n",
    "accepted[\"loan_duration\"] = accepted[\"loan_duration\"].apply(lambda x: x.days)\n",
    "accepted[\"loan_duration\"]"
   ]
  },
  {
   "cell_type": "code",
   "execution_count": null,
   "metadata": {
    "id": "tLjRdZCU5ZSw"
   },
   "outputs": [],
   "source": [
    "plt.figure(figsize = (30,10))\n",
    "\n",
    "sns.boxplot(x = accepted.loan_status,\n",
    "            y = accepted.loan_duration)\n",
    "\n",
    "plt.show()"
   ]
  },
  {
   "cell_type": "code",
   "execution_count": null,
   "metadata": {
    "id": "EMRKHLnPlSIX"
   },
   "outputs": [],
   "source": [
    "# %%time\n",
    "# (accepted.last_pymnt_d - accepted.issue_d).apply(lambda date: re.sub(pattern = \"([\\d]{0,4})([^\\n]*)\", repl = r\"\\1\", string = str(date)) if isinstance(str(date), str) \\\n",
    "#                                                 else  re.sub(pattern = \".*\", repl = r\"0\", string = date)).apply(lambda x: int(x) if x != \"\" else x)"
   ]
  },
  {
   "cell_type": "code",
   "execution_count": null,
   "metadata": {
    "id": "p4rFlN17xn4l"
   },
   "outputs": [],
   "source": [
    "sum(accepted.loan_duration.isnull())"
   ]
  },
  {
   "cell_type": "code",
   "execution_count": null,
   "metadata": {
    "id": "m_gcqozV_uhg"
   },
   "outputs": [],
   "source": [
    "# %%time\n",
    "# accepted.to_csv(\"/content/gdrive/MyDrive/NYC DSA Capstone Project/Data/accepted_2007_to_2018q4.csv/accepted.csv\")"
   ]
  },
  {
   "cell_type": "code",
   "execution_count": null,
   "metadata": {
    "id": "ji3HzwTvA-gf"
   },
   "outputs": [],
   "source": [
    "(accepted.last_pymnt_d - accepted.issue_d).apply(lambda x: x.days)"
   ]
  },
  {
   "cell_type": "code",
   "execution_count": null,
   "metadata": {
    "id": "O9hwUyAWDARW"
   },
   "outputs": [],
   "source": [
    "accepted.loan_status.unique()"
   ]
  },
  {
   "cell_type": "code",
   "execution_count": null,
   "metadata": {
    "id": "CZYt6WIQIeyI"
   },
   "outputs": [],
   "source": [
    "def function(x):\n",
    "    if x in ['Late (31-120 days)', 'Late (16-30 days)']:\n",
    "        return \"Late\"\n",
    "    elif x == 'Does not meet the credit policy. Status:Charged Off':\n",
    "        return \"Charged Off\"\n",
    "    elif x == 'Does not meet the credit policy. Status:Fully Paid':\n",
    "        return \"Fully Paid\"\n",
    "    else:\n",
    "        return x"
   ]
  },
  {
   "cell_type": "code",
   "execution_count": null,
   "metadata": {
    "id": "lK0SogMRE6Tv"
   },
   "outputs": [],
   "source": [
    "accepted.loan_status.apply(function).unique()"
   ]
  },
  {
   "cell_type": "code",
   "execution_count": null,
   "metadata": {
    "id": "LRfY-cNSJscD"
   },
   "outputs": [],
   "source": [
    "accepted[\"loan_status_trim\"] = accepted.loan_status.apply(function)\n",
    "accepted.loan_status_trim"
   ]
  },
  {
   "cell_type": "code",
   "execution_count": null,
   "metadata": {
    "id": "vb3z4C3aF1TA"
   },
   "outputs": [],
   "source": [
    "'Late (31-120 days)' in ['Late (31-120 days)', 'Late (16-30 days)']"
   ]
  },
  {
   "cell_type": "code",
   "execution_count": null,
   "metadata": {
    "id": "w_1kSFRBKBpi"
   },
   "outputs": [],
   "source": [
    "plt.figure(figsize = (30,10))\n",
    "\n",
    "sns.boxplot(x = accepted.loan_status_trim,\n",
    "            y = accepted.loan_duration)\n",
    "\n",
    "plt.show()"
   ]
  },
  {
   "cell_type": "code",
   "execution_count": null,
   "metadata": {
    "id": "FC5T9MvgNPX9"
   },
   "outputs": [],
   "source": [
    "plt.figure(figsize = (30,10))\n",
    "\n",
    "sns.boxplot(x = accepted.loan_status_trim,\n",
    "            y = accepted.loan_duration/30)\n",
    "\n",
    "plt.title(\"Distribution of Loan Duration \\n by Loan Status\", fontsize = 30)\n",
    "plt.xticks(fontsize = 15)\n",
    "plt.yticks(fontsize = 15)\n",
    "plt.ylabel(\"Loan Duration in Months\", fontsize = 20)\n",
    "plt.xlabel(\"Loan Status\", fontsize = 20)\n",
    "\n",
    "plt.show()"
   ]
  },
  {
   "cell_type": "code",
   "execution_count": null,
   "metadata": {
    "id": "0_QULTnkTr6s"
   },
   "outputs": [],
   "source": [
    "%%time\n",
    "\n",
    "plt.figure(figsize = (30,10))\n",
    "\n",
    "sns.violinplot(x = accepted.loan_status_trim,\n",
    "            y = accepted.loan_duration/30)\n",
    "\n",
    "plt.title(\"Distribution of Loan Duration \\n by Loan Status\", fontsize = 30)\n",
    "plt.xticks(fontsize = 15)\n",
    "plt.yticks(fontsize = 15)\n",
    "plt.ylabel(\"Loan Duration in Months\", fontsize = 20)\n",
    "plt.xlabel(\"Loan Status\", fontsize = 20)\n",
    "\n",
    "plt.show()"
   ]
  },
  {
   "cell_type": "code",
   "execution_count": null,
   "metadata": {
    "id": "5SL5XKEDPp93"
   },
   "outputs": [],
   "source": [
    "pd.options.display.max_rows = None\n",
    "pd.DataFrame(accepted.groupby([\"loan_status_trim\", \"term\"])[\"loan_duration\"].median())"
   ]
  },
  {
   "cell_type": "code",
   "execution_count": null,
   "metadata": {
    "id": "cK8bdYmIS67I"
   },
   "outputs": [],
   "source": [
    "plt.figure(figsize = (30,10))\n",
    "\n",
    "sns.violinplot(x = accepted.grade,\n",
    "               y = accepted.loan_duration/30,\n",
    "               order = sorted(accepted.grade.unique()))\n",
    "\n",
    "plt.title(\"Distribution of Loan Duration \\n by Loan Status\", fontsize = 30)\n",
    "plt.xticks(fontsize = 15)\n",
    "plt.yticks(fontsize = 15)\n",
    "plt.ylabel(\"Loan Duration in Months\", fontsize = 20)\n",
    "plt.xlabel(\"Loan Status\", fontsize = 20)\n",
    "\n",
    "plt.show()"
   ]
  },
  {
   "cell_type": "code",
   "execution_count": null,
   "metadata": {
    "id": "wDQMA3uhes-J"
   },
   "outputs": [],
   "source": [
    "grade_term_duration = pd.DataFrame(accepted.groupby([\"grade\", \"term\"])[\"loan_duration\"]).reset_index()\n",
    "grade_term_duration"
   ]
  },
  {
   "cell_type": "code",
   "execution_count": null,
   "metadata": {
    "id": "n__eJ23cjSFI"
   },
   "outputs": [],
   "source": [
    "pd.options.display.max_rows = 10\n",
    "\n",
    "grade_term_duration.drop(\"index\", inplace = True, axis = 1)"
   ]
  },
  {
   "cell_type": "code",
   "execution_count": null,
   "metadata": {
    "id": "UC5wChKuocLz"
   },
   "outputs": [],
   "source": [
    "grade_term_duration = pd.DataFrame(accepted.groupby([\"grade\", \"term\"])[\"loan_duration\"], columns = [\"Grade_Term\", \"Loan_Duration\"])\n",
    "grade_term_duration"
   ]
  },
  {
   "cell_type": "code",
   "execution_count": null,
   "metadata": {
    "id": "dovlD_JfpgLf"
   },
   "outputs": [],
   "source": [
    "plt.figure(figsize = (30,10))\n",
    "\n",
    "sns.boxplot(x = grade_term_duration.Grade_Term,\n",
    "            y = accepted.loan_duration/30)\n",
    "\n",
    "plt.show()"
   ]
  },
  {
   "cell_type": "code",
   "execution_count": null,
   "metadata": {
    "id": "wxULl01crgo1"
   },
   "outputs": [],
   "source": [
    "plt.figure(figsize = (30,10))\n",
    "\n",
    "sns.boxplot(x = accepted.term,\n",
    "            y = accepted.loan_duration/30)\n",
    "\n",
    "plt.show()"
   ]
  },
  {
   "cell_type": "code",
   "execution_count": null,
   "metadata": {
    "id": "1gafZ67duWx5"
   },
   "outputs": [],
   "source": [
    "term36 = accepted[accepted.term == 36.0]\n",
    "term36"
   ]
  },
  {
   "cell_type": "code",
   "execution_count": null,
   "metadata": {
    "id": "UaZBecG-vXEb"
   },
   "outputs": [],
   "source": [
    "plt.figure(figsize = (30,10))\n",
    "\n",
    "sns.violinplot(x = term36.grade,\n",
    "               y = term36.loan_duration/30,\n",
    "               order = sorted(term36.grade.unique()))\n",
    "\n",
    "plt.title(\"Duration of 36-Month Loans \\n by Loan Grade\", fontsize = 30)\n",
    "plt.xticks(fontsize = 15)\n",
    "plt.yticks(fontsize = 15)\n",
    "plt.xlabel(\"Grade\", fontsize = 20)\n",
    "plt.ylabel(\"Loan Duration (Months)\", fontsize = 20)\n",
    "\n",
    "plt.show()"
   ]
  },
  {
   "cell_type": "code",
   "execution_count": null,
   "metadata": {
    "id": "2B2FUGxcwd9k"
   },
   "outputs": [],
   "source": [
    "term36_fullypaid = accepted.loc[(accepted.term == 36) & (accepted.loan_status == \"Fully Paid\")]\n",
    "term36_fullypaid"
   ]
  },
  {
   "cell_type": "code",
   "execution_count": null,
   "metadata": {
    "id": "HSksJDf_xf7m"
   },
   "outputs": [],
   "source": [
    "plt.figure(figsize = (30,10))\n",
    "\n",
    "sns.violinplot(x = term36_fullypaid.grade,\n",
    "               y = term36_fullypaid.loan_duration/30,\n",
    "               order = sorted(term36_fullypaid.grade.unique()))\n",
    "\n",
    "plt.show()"
   ]
  },
  {
   "cell_type": "code",
   "execution_count": null,
   "metadata": {
    "id": "5RQgyqlQ47rp"
   },
   "outputs": [],
   "source": [
    "# Why do more loans in the lower grades get paid off earlier than the higher grades?\n",
    "# Higher interest rates put more pressure on the borrower?\n",
    "# Average loan amounts differ?"
   ]
  },
  {
   "cell_type": "code",
   "execution_count": null,
   "metadata": {
    "id": "SW3UswTH6J8I"
   },
   "outputs": [],
   "source": [
    "plt.figure(figsize = (30,10))\n",
    "\n",
    "sns.boxplot(x = term36_fullypaid.grade,\n",
    "               y = term36_fullypaid.int_rate,\n",
    "               order = sorted(term36_fullypaid.grade.unique()))\n",
    "\n",
    "plt.show()"
   ]
  },
  {
   "cell_type": "code",
   "execution_count": null,
   "metadata": {
    "id": "eQshRG7O6nlc"
   },
   "outputs": [],
   "source": [
    "plt.figure(figsize = (30,10))\n",
    "\n",
    "sns.boxplot(x = term36_fullypaid.grade,\n",
    "               y = term36_fullypaid.total_payment,\n",
    "               order = sorted(term36_fullypaid.grade.unique()))\n",
    "\n",
    "plt.title(\"Total Value of Fully Paid \\n 36-Month Loans\", fontsize = 30)\n",
    "plt.xticks(fontsize = 15)\n",
    "plt.yticks(fontsize = 15)\n",
    "plt.xlabel(\"Grade\", fontsize = 20)\n",
    "plt.ylabel(\"Installment times Term\", fontsize = 20)\n",
    "\n",
    "plt.show()"
   ]
  },
  {
   "cell_type": "code",
   "execution_count": null,
   "metadata": {
    "id": "cF5nlV9A7VYC"
   },
   "outputs": [],
   "source": [
    "plt.figure(figsize = (30,10))\n",
    "\n",
    "sns.violinplot(x = term36_fullypaid.grade,\n",
    "               y = term36_fullypaid.total_payment,\n",
    "               order = sorted(term36_fullypaid.grade.unique()))\n",
    "\n",
    "plt.title(\"Total Value of Fully Paid \\n 36-Month Loans\", fontsize = 30)\n",
    "plt.xticks(fontsize = 15)\n",
    "plt.yticks(fontsize = 15)\n",
    "plt.xlabel(\"Grade\", fontsize = 20)\n",
    "plt.ylabel(\"Installment times Term\", fontsize = 20)\n",
    "\n",
    "plt.show()\n",
    "\n",
    "#The total value is inflated by the varied interest rates, therefore this can be misleading"
   ]
  },
  {
   "cell_type": "code",
   "execution_count": null,
   "metadata": {
    "id": "U2LtNQoPyQiS"
   },
   "outputs": [],
   "source": [
    "term60_fullypaid = accepted.loc[(accepted.term == 60) & (accepted.loan_status == \"Fully Paid\")]\n",
    "term60_fullypaid"
   ]
  },
  {
   "cell_type": "code",
   "execution_count": null,
   "metadata": {
    "id": "FHofIh4Rzfiv"
   },
   "outputs": [],
   "source": [
    "plt.figure(figsize = (30,10))\n",
    "\n",
    "sns.violinplot(x = term60_fullypaid.grade,\n",
    "               y = term60_fullypaid.loan_duration/30,\n",
    "               order = sorted(term36_fullypaid.grade.unique()))\n",
    "\n",
    "plt.title(\"Loan Duration for \\n 60-Month Loans\", fontsize = 30)\n",
    "plt.xticks(fontsize = 15)\n",
    "plt.yticks(fontsize = 15)\n",
    "plt.xlabel(\"Grade\", fontsize = 20)\n",
    "plt.ylabel(\"Loan Duration (Months)\", fontsize = 20)\n",
    "\n",
    "plt.show()"
   ]
  },
  {
   "cell_type": "code",
   "execution_count": null,
   "metadata": {
    "id": "u3xUrd98JUVc"
   },
   "outputs": [],
   "source": [
    "plt.figure(figsize = (30,10))\n",
    "\n",
    "sns.violinplot(x = term60_fullypaid.grade,\n",
    "               y = term60_fullypaid.loan_amnt,\n",
    "               order = sorted(term60_fullypaid.grade.unique()))\n",
    "\n",
    "plt.title(\"Loan Amount for \\n 60-Month Loans\", fontsize = 30)\n",
    "plt.xticks(fontsize = 15)\n",
    "plt.yticks(fontsize = 15)\n",
    "plt.xlabel(\"Grade\", fontsize = 20)\n",
    "plt.ylabel(\"Loan Amount (US$)\", fontsize = 20)\n",
    "\n",
    "plt.show()"
   ]
  },
  {
   "cell_type": "code",
   "execution_count": null,
   "metadata": {
    "id": "qm9rQI090Gt1"
   },
   "outputs": [],
   "source": [
    "plt.figure(figsize = (30,10))\n",
    "\n",
    "sns.boxplot(x = term36_fullypaid.grade,\n",
    "               y = term36_fullypaid.loan_amnt,\n",
    "               order = sorted(term36_fullypaid.grade.unique()))\n",
    "\n",
    "plt.title(\"Loan of Fully Paid \\n 36-Month Loans\", fontsize = 30)\n",
    "plt.xticks(fontsize = 15)\n",
    "plt.yticks(fontsize = 15)\n",
    "plt.xlabel(\"Grade\", fontsize = 20)\n",
    "plt.ylabel(\"Loan Amount\", fontsize = 20)\n",
    "\n",
    "plt.show()"
   ]
  },
  {
   "cell_type": "code",
   "execution_count": null,
   "metadata": {
    "id": "-cFW3y8nAyd5"
   },
   "outputs": [],
   "source": [
    "plt.figure(figsize = (30,10))\n",
    "\n",
    "sns.violinplot(x = term36_fullypaid.grade,\n",
    "               y = term36_fullypaid.loan_amnt,\n",
    "               order = sorted(term36_fullypaid.grade.unique()))\n",
    "\n",
    "plt.title(\"Loan Amount of Fully Paid \\n 36-Month Loans\", fontsize = 30)\n",
    "plt.xticks(fontsize = 15)\n",
    "plt.yticks(fontsize = 15)\n",
    "plt.xlabel(\"Grade\", fontsize = 20)\n",
    "plt.ylabel(\"Loan Amount\", fontsize = 20)\n",
    "\n",
    "plt.show()"
   ]
  },
  {
   "cell_type": "markdown",
   "metadata": {
    "id": "F3zBBA6nN-0M"
   },
   "source": [
    "Profitability of the loan (Fully Paid): (total_pymnt - loan_amnt) / loan_amnt\n",
    "\n",
    "Gives percentage of principal returned as profit"
   ]
  },
  {
   "cell_type": "code",
   "execution_count": null,
   "metadata": {
    "id": "MXM9rOUwOfC8"
   },
   "outputs": [],
   "source": [
    "# Return on investment\n",
    "term36_fullypaid[\"return_36\"] = 1 + ((term36_fullypaid.total_pymnt - term36_fullypaid.loan_amnt) / term36_fullypaid.loan_amnt)\n",
    "term60_fullypaid[\"return_60\"] = 1 + ((term60_fullypaid.total_pymnt - term60_fullypaid.loan_amnt) / term60_fullypaid.loan_amnt)\n",
    "print(term36_fullypaid.return_36)\n",
    "print(term60_fullypaid.return_60)"
   ]
  },
  {
   "cell_type": "code",
   "execution_count": null,
   "metadata": {
    "id": "21tJCP0gRQzX"
   },
   "outputs": [],
   "source": [
    "plt.figure(figsize = (30,10))\n",
    "\n",
    "sns.boxenplot(x = term36_fullypaid.grade,\n",
    "              y = term36_fullypaid.return_36,\n",
    "              order = sorted(term36_fullypaid.grade.unique()),\n",
    "              palette = \"Blues\")\n",
    "\n",
    "plt.title(\"Profit Percentage of Fully Paid \\n 36-Month Loans\", fontsize = 30)\n",
    "plt.xticks(fontsize = 15)\n",
    "plt.yticks(fontsize = 15)\n",
    "plt.xlabel(\"Grade\", fontsize = 20)\n",
    "plt.ylabel(\"Profit Percentage\", fontsize = 20)\n",
    "\n",
    "plt.show()"
   ]
  },
  {
   "cell_type": "code",
   "execution_count": null,
   "metadata": {
    "id": "0SJ6hyNWUot6"
   },
   "outputs": [],
   "source": [
    "plt.figure(figsize = (30,10))\n",
    "\n",
    "sns.boxenplot(x = term60_fullypaid.grade,\n",
    "              y = term60_fullypaid.return_60,\n",
    "              order = sorted(term36_fullypaid.grade.unique()),\n",
    "              palette = \"YlOrBr\")\n",
    "\n",
    "plt.title(\"Profit Percentage of Fully Paid \\n 60-Month Loans\", fontsize = 30)\n",
    "plt.xticks(fontsize = 15)\n",
    "plt.yticks(fontsize = 15)\n",
    "plt.xlabel(\"Grade\", fontsize = 20)\n",
    "plt.ylabel(\"Profit Percentage\", fontsize = 20)\n",
    "\n",
    "plt.show()"
   ]
  },
  {
   "cell_type": "code",
   "execution_count": null,
   "metadata": {
    "id": "Jsn8445hV1-6"
   },
   "outputs": [],
   "source": [
    "# %%time\n",
    "# accepted.to_csv(\"/content/gdrive/MyDrive/NYC DSA Capstone Project/Data/accepted_2007_to_2018q4.csv/accepted.csv\")"
   ]
  },
  {
   "cell_type": "code",
   "execution_count": null,
   "metadata": {
    "id": "TkvHLYsY4aQs"
   },
   "outputs": [],
   "source": [
    "term36_default_chargedoff = accepted.loc[(accepted.term == 36) & ((accepted.loan_status_trim == \"Default\") | (accepted.loan_status_trim == \"Charged Off\"))]\n",
    "term36_default_chargedoff"
   ]
  },
  {
   "cell_type": "code",
   "execution_count": null,
   "metadata": {
    "id": "RprQFOAe7akI"
   },
   "outputs": [],
   "source": [
    "term36_default_chargedoff[\"profit\"] = 1 + ((term36_default_chargedoff.total_pymnt - term36_default_chargedoff.loan_amnt) / term36_default_chargedoff.loan_amnt)"
   ]
  },
  {
   "cell_type": "code",
   "execution_count": null,
   "metadata": {
    "id": "XvrFFuuv_A9H"
   },
   "outputs": [],
   "source": [
    "plt.figure(figsize = (30,10))\n",
    "\n",
    "sns.boxenplot(x = term36_default_chargedoff.grade,\n",
    "              y = term36_default_chargedoff.profit,\n",
    "              order = sorted(term36_default_chargedoff.grade.unique()),\n",
    "              palette = \"YlOrBr\")\n",
    "\n",
    "plt.title(\"Profit Percentage of \\n Default or Charged Off \\n 36-Month Loans\", fontsize = 30)\n",
    "plt.xticks(fontsize = 15)\n",
    "plt.yticks(fontsize = 15)\n",
    "plt.xlabel(\"Grade\", fontsize = 20)\n",
    "plt.ylabel(\"Profit Percentage\", fontsize = 20)\n",
    "\n",
    "plt.show()"
   ]
  },
  {
   "cell_type": "code",
   "execution_count": null,
   "metadata": {
    "id": "vWl96dtPAASr"
   },
   "outputs": [],
   "source": [
    "term60_default_chargedoff = accepted.loc[(accepted.term == 60) & ((accepted.loan_status_trim == \"Default\") | (accepted.loan_status_trim == \"Charged Off\"))]\n",
    "term60_default_chargedoff"
   ]
  },
  {
   "cell_type": "code",
   "execution_count": null,
   "metadata": {
    "id": "oaErrVUWAF2R"
   },
   "outputs": [],
   "source": [
    "term60_default_chargedoff[\"profit\"] = 1 + ((term60_default_chargedoff.total_pymnt - term60_default_chargedoff.loan_amnt) / term60_default_chargedoff.loan_amnt)"
   ]
  },
  {
   "cell_type": "code",
   "execution_count": null,
   "metadata": {
    "id": "3aIX0L2uARRI"
   },
   "outputs": [],
   "source": [
    "plt.figure(figsize = (30,10))\n",
    "\n",
    "sns.boxenplot(x = term60_default_chargedoff.grade,\n",
    "              y = term60_default_chargedoff.profit,\n",
    "              order = sorted(term60_default_chargedoff.grade.unique()),\n",
    "              palette = \"Greens\")\n",
    "\n",
    "plt.title(\"Profit Percentage of \\n Default or Charged Off \\n 60-Month Loans\", fontsize = 30)\n",
    "plt.xticks(fontsize = 15)\n",
    "plt.yticks(fontsize = 15)\n",
    "plt.xlabel(\"Grade\", fontsize = 20)\n",
    "plt.ylabel(\"Profit Percentage\", fontsize = 20)\n",
    "\n",
    "plt.show()"
   ]
  },
  {
   "cell_type": "code",
   "execution_count": null,
   "metadata": {
    "id": "1mlsdAfCBgWX"
   },
   "outputs": [],
   "source": [
    "plt.figure(figsize = (30,10))\n",
    "\n",
    "sns.violinplot(x = term36_default_chargedoff.grade,\n",
    "               y = term36_default_chargedoff.loan_amnt,\n",
    "               order = sorted(term36_default_chargedoff.grade.unique()))\n",
    "\n",
    "plt.title(\"Loan Amount of \\n Default or Charged Off \\n 36-Month Loans\", fontsize = 30)\n",
    "plt.xticks(fontsize = 15)\n",
    "plt.yticks(fontsize = 15)\n",
    "plt.xlabel(\"Grade\", fontsize = 20)\n",
    "plt.ylabel(\"Loan Amount\", fontsize = 20)\n",
    "\n",
    "plt.show()"
   ]
  },
  {
   "cell_type": "code",
   "execution_count": null,
   "metadata": {
    "id": "dm9zInscCDti"
   },
   "outputs": [],
   "source": [
    "plt.figure(figsize = (30,10))\n",
    "\n",
    "sns.violinplot(x = term60_default_chargedoff.grade,\n",
    "               y = term60_default_chargedoff.loan_amnt,\n",
    "               order = sorted(term60_default_chargedoff.grade.unique()))\n",
    "\n",
    "plt.title(\"Loan Amount of \\n Default or Charged Off \\n 60-Month Loans\", fontsize = 30)\n",
    "plt.xticks(fontsize = 15)\n",
    "plt.yticks(fontsize = 15)\n",
    "plt.xlabel(\"Grade\", fontsize = 20)\n",
    "plt.ylabel(\"Loan Amount\", fontsize = 20)\n",
    "\n",
    "plt.show()"
   ]
  },
  {
   "cell_type": "code",
   "execution_count": null,
   "metadata": {
    "id": "YEYISsYSDjb8"
   },
   "outputs": [],
   "source": [
    "plt.figure(figsize = (30,10))\n",
    "\n",
    "sns.violinplot(x = term36_fullypaid.grade,\n",
    "               y = term36_fullypaid.annual_inc_joint,\n",
    "               order = sorted(term36_fullypaid.grade.unique()))\n",
    "\n",
    "plt.title(\"Annual Joint Income of \\n Fully Paid \\n 36-Month Loans\", fontsize = 30)\n",
    "plt.xticks(fontsize = 15)\n",
    "plt.yticks(fontsize = 15)\n",
    "plt.xlabel(\"Grade\", fontsize = 20)\n",
    "plt.ylabel(\"Annual Joint Income (Millions)\", fontsize = 20)\n",
    "\n",
    "plt.show()"
   ]
  },
  {
   "cell_type": "code",
   "execution_count": null,
   "metadata": {
    "id": "4U0wVv3hE4Zn"
   },
   "outputs": [],
   "source": [
    "plt.figure(figsize = (30,10))\n",
    "\n",
    "sns.boxplot(x = term36_fullypaid.grade,\n",
    "               y = term36_fullypaid.annual_inc_joint,\n",
    "               order = sorted(term36_fullypaid.grade.unique()))\n",
    "\n",
    "plt.title(\"Annual Joint Income of \\n Fully Paid \\n 36-Month Loans\", fontsize = 30)\n",
    "plt.xticks(fontsize = 15)\n",
    "plt.yticks(fontsize = 15)\n",
    "plt.xlabel(\"Grade\", fontsize = 20)\n",
    "plt.ylabel(\"Annual Joint Income (Millions)\", fontsize = 20)\n",
    "\n",
    "plt.show()"
   ]
  },
  {
   "cell_type": "code",
   "execution_count": null,
   "metadata": {
    "id": "azRb5fVaFMld"
   },
   "outputs": [],
   "source": [
    "np.mean(accepted.annual_inc_joint.isnull())"
   ]
  },
  {
   "cell_type": "code",
   "execution_count": null,
   "metadata": {
    "id": "cnBKh1GcGgST"
   },
   "outputs": [],
   "source": [
    "accepted[[\"annual_inc\", \"annual_inc_joint\"]]"
   ]
  },
  {
   "cell_type": "code",
   "execution_count": null,
   "metadata": {
    "id": "fdJpfBPVGyQr"
   },
   "outputs": [],
   "source": [
    "np.mean(accepted.annual_inc == accepted.annual_inc_joint)"
   ]
  },
  {
   "cell_type": "markdown",
   "metadata": {
    "id": "g0ZfLpLXHCIk"
   },
   "source": [
    "Impute missing values in Annual Joint Income (annual_inc_joint)\n",
    "If missing, impute annual_inc"
   ]
  },
  {
   "cell_type": "code",
   "execution_count": null,
   "metadata": {
    "id": "GOLb1Z9nJt6B"
   },
   "outputs": [],
   "source": [
    "math.isnan(accepted.annual_inc_joint[0])"
   ]
  },
  {
   "cell_type": "code",
   "execution_count": null,
   "metadata": {
    "id": "B2RixGh3HdaF"
   },
   "outputs": [],
   "source": [
    "# %%time\n",
    "# accepted[\"annual_inc_joint\"] = accepted[[\"annual_inc\", \"annual_inc_joint\"]].apply(max, axis = 1)\n",
    "# accepted[\"annual_inc_joint\"]"
   ]
  },
  {
   "cell_type": "code",
   "execution_count": null,
   "metadata": {
    "id": "zvyCl2DaPhxe"
   },
   "outputs": [],
   "source": [
    "# %%time\n",
    "# accepted.to_csv(\"/content/gdrive/MyDrive/NYC DSA Capstone Project/Data/accepted_2007_to_2018q4.csv/accepted.csv\")"
   ]
  },
  {
   "cell_type": "code",
   "execution_count": null,
   "metadata": {
    "id": "oQ13xOn3R6vc"
   },
   "outputs": [],
   "source": [
    "terminated36 = accepted.loc[(accepted.term == 36) & ((accepted.loan_status == \"Default\") | (accepted.loan_status == \"Charged Off\") | (accepted.loan_status == \"Fully Paid\"))]\n",
    "terminated36"
   ]
  },
  {
   "cell_type": "code",
   "execution_count": null,
   "metadata": {
    "id": "1_AKjS8VXuJt"
   },
   "outputs": [],
   "source": [
    "terminated36[\"profit\"] = 1 + ((terminated36.total_pymnt - terminated36.loan_amnt) / terminated36.loan_amnt)\n",
    "terminated36[\"profit\"]"
   ]
  },
  {
   "cell_type": "code",
   "execution_count": null,
   "metadata": {
    "id": "8vEOolDbY3yG"
   },
   "outputs": [],
   "source": [
    "plt.figure(figsize = (30,10))\n",
    "\n",
    "sns.violinplot(x = terminated36.grade,\n",
    "              y = terminated36.profit,\n",
    "              order = sorted(terminated36.grade.unique()),\n",
    "              palette = \"Reds\")\n",
    "\n",
    "plt.title(\"Profit Percentage of \\n Terminated \\n 36-Month Loans\", fontsize = 30)\n",
    "plt.xticks(fontsize = 15)\n",
    "plt.yticks(fontsize = 15)\n",
    "plt.xlabel(\"Grade\", fontsize = 20)\n",
    "plt.ylabel(\"Profit Percentage\", fontsize = 20)\n",
    "\n",
    "plt.show()"
   ]
  },
  {
   "cell_type": "code",
   "execution_count": null,
   "metadata": {
    "id": "uYrY3eIdZi0L"
   },
   "outputs": [],
   "source": [
    "terminated60 = accepted.loc[(accepted.term == 60) & ((accepted.loan_status == \"Default\") | (accepted.loan_status == \"Charged Off\") | (accepted.loan_status == \"Fully Paid\"))]\n",
    "terminated60"
   ]
  },
  {
   "cell_type": "code",
   "execution_count": null,
   "metadata": {
    "id": "IpvAfqD_Z9jq"
   },
   "outputs": [],
   "source": [
    "terminated60[\"profit\"] = 1 + ((terminated60.total_pymnt - terminated60.loan_amnt) / terminated60.loan_amnt)\n",
    "terminated60[\"profit\"]"
   ]
  },
  {
   "cell_type": "code",
   "execution_count": null,
   "metadata": {
    "id": "UkNJhluyaMLp"
   },
   "outputs": [],
   "source": [
    "plt.figure(figsize = (30,10))\n",
    "\n",
    "sns.violinplot(x = terminated60.grade,\n",
    "              y = terminated60.profit,\n",
    "              order = sorted(terminated60.grade.unique()),\n",
    "              palette = \"Purples\")\n",
    "\n",
    "plt.title(\"Profit Percentage of \\n Terminated \\n 60-Month Loans\", fontsize = 30)\n",
    "plt.xticks(fontsize = 15)\n",
    "plt.yticks(fontsize = 15)\n",
    "plt.xlabel(\"Grade\", fontsize = 20)\n",
    "plt.ylabel(\"Profit Percentage\", fontsize = 20)\n",
    "\n",
    "plt.show()"
   ]
  },
  {
   "cell_type": "code",
   "execution_count": null,
   "metadata": {
    "id": "xPuPexUeaau4"
   },
   "outputs": [],
   "source": [
    "plt.figure(figsize = (30,10))\n",
    "\n",
    "sns.scatterplot(term36_fullypaid.loan_duration,\n",
    "                term36_fullypaid.loan_amnt)\n",
    "\n",
    "plt.show()"
   ]
  },
  {
   "cell_type": "code",
   "execution_count": null,
   "metadata": {
    "id": "dsB1Yidj1rqa"
   },
   "outputs": [],
   "source": [
    "plt.figure(figsize = (30,10))\n",
    "\n",
    "sns.scatterplot(term60_fullypaid.loan_duration,\n",
    "                term60_fullypaid.loan_amnt)\n",
    "\n",
    "plt.show()"
   ]
  },
  {
   "cell_type": "code",
   "execution_count": null,
   "metadata": {
    "id": "JP8eTM8M3M26"
   },
   "outputs": [],
   "source": [
    "accepted.settlement_status.unique()"
   ]
  },
  {
   "cell_type": "code",
   "execution_count": null,
   "metadata": {
    "id": "-WX9lCIeeSJd"
   },
   "outputs": [],
   "source": [
    "term36_complete = accepted.loc[(accepted.term == 36) & (accepted.settlement_status == \"COMPLETE\")]\n",
    "term36_complete"
   ]
  },
  {
   "cell_type": "code",
   "execution_count": null,
   "metadata": {
    "id": "3H02GEYRft6v"
   },
   "outputs": [],
   "source": [
    "term36_complete[\"profit\"] = 1 + ((term36_complete.total_pymnt - term36_complete.loan_amnt) / term36_complete.loan_amnt)\n",
    "term36_complete[\"profit\"]"
   ]
  },
  {
   "cell_type": "code",
   "execution_count": null,
   "metadata": {
    "id": "Ob1fHC_ffYhQ"
   },
   "outputs": [],
   "source": [
    "plt.figure(figsize = (30,10))\n",
    "\n",
    "sns.boxenplot(term36_complete.grade,\n",
    "              term36_complete.profit,\n",
    "              order = sorted(term36_complete.grade.unique()))\n",
    "\n",
    "plt.title(\"Profit Percentage of \\n Completed Settlements for \\n 36-Month Loans\", fontsize = 30)\n",
    "plt.xticks(fontsize = 15)\n",
    "plt.yticks(fontsize = 15)\n",
    "plt.xlabel(\"Grade\", fontsize = 20)\n",
    "plt.ylabel(\"Profit Percentage\", fontsize = 20)\n",
    "\n",
    "plt.show()"
   ]
  },
  {
   "cell_type": "code",
   "execution_count": null,
   "metadata": {
    "id": "dwDgrFiViJ7-"
   },
   "outputs": [],
   "source": [
    "term36_broken = accepted.loc[(accepted.term == 36) & (accepted.settlement_status == \"BROKEN\")]\n",
    "term36_broken"
   ]
  },
  {
   "cell_type": "code",
   "execution_count": null,
   "metadata": {
    "id": "2i3a3HzGiPyz"
   },
   "outputs": [],
   "source": [
    "term36_broken[\"profit\"] = 1 + ((term36_broken.total_pymnt - term36_broken.loan_amnt) / term36_broken.loan_amnt)\n",
    "term36_broken[\"profit\"]"
   ]
  },
  {
   "cell_type": "code",
   "execution_count": null,
   "metadata": {
    "id": "Y5VSEMtMigcF"
   },
   "outputs": [],
   "source": [
    "plt.figure(figsize = (30,10))\n",
    "\n",
    "sns.boxenplot(term36_broken.grade,\n",
    "              term36_broken.profit,\n",
    "              order = sorted(term36_broken.grade.unique()))\n",
    "\n",
    "plt.title(\"Profit Percentage of \\n Broken Settlements for \\n 36-Month Loans\", fontsize = 30)\n",
    "plt.xticks(fontsize = 15)\n",
    "plt.yticks(fontsize = 15)\n",
    "plt.xlabel(\"Grade\", fontsize = 20)\n",
    "plt.ylabel(\"Profit Percentage\", fontsize = 20)\n",
    "\n",
    "plt.show()"
   ]
  },
  {
   "cell_type": "code",
   "execution_count": null,
   "metadata": {
    "id": "VPQV-P-ni0x9"
   },
   "outputs": [],
   "source": [
    "term60_complete = accepted.loc[(accepted.term == 60) & (accepted.settlement_status == \"COMPLETE\")]\n",
    "term60_complete"
   ]
  },
  {
   "cell_type": "code",
   "execution_count": null,
   "metadata": {
    "id": "9IuiCjVWi_UZ"
   },
   "outputs": [],
   "source": [
    "term60_complete[\"profit\"] = 1 + ((term60_complete.total_pymnt - term60_complete.loan_amnt) / term60_complete.loan_amnt)\n",
    "term60_complete[\"profit\"]"
   ]
  },
  {
   "cell_type": "code",
   "execution_count": null,
   "metadata": {
    "id": "0vCKf8EgknC_"
   },
   "outputs": [],
   "source": [
    "plt.figure(figsize = (30,10))\n",
    "\n",
    "sns.violinplot(term60_complete.grade,\n",
    "              term60_complete.profit,\n",
    "              order = sorted(term60_complete.grade.unique()))\n",
    "\n",
    "plt.title(\"Profit Percentage of \\n Complete Settlements for \\n 60-Month Loans\", fontsize = 30)\n",
    "plt.xticks(fontsize = 15)\n",
    "plt.yticks(fontsize = 15)\n",
    "plt.xlabel(\"Grade\", fontsize = 20)\n",
    "plt.ylabel(\"Profit Percentage\", fontsize = 20)\n",
    "\n",
    "plt.show()"
   ]
  },
  {
   "cell_type": "code",
   "execution_count": null,
   "metadata": {
    "id": "yRlXY8idlBJx"
   },
   "outputs": [],
   "source": [
    "term60_broken = accepted.loc[(accepted.term == 60) & (accepted.settlement_status == \"BROKEN\")]\n",
    "term60_broken"
   ]
  },
  {
   "cell_type": "code",
   "execution_count": null,
   "metadata": {
    "id": "JwI-IURDlOTe"
   },
   "outputs": [],
   "source": [
    "term60_broken[\"profit\"] = 1 + ((term60_broken.total_pymnt - term60_broken.loan_amnt) / term60_broken.loan_amnt)\n",
    "term60_broken[\"profit\"]"
   ]
  },
  {
   "cell_type": "code",
   "execution_count": null,
   "metadata": {
    "id": "2chKV-2GlWyn"
   },
   "outputs": [],
   "source": [
    "plt.figure(figsize = (30,10))\n",
    "\n",
    "sns.violinplot(term60_broken.grade,\n",
    "              term60_broken.profit,\n",
    "              order = sorted(term60_broken.grade.unique()))\n",
    "\n",
    "plt.title(\"Profit Percentage of \\n Broken Settlements for \\n 60-Month Loans\", fontsize = 30)\n",
    "plt.xticks(fontsize = 15)\n",
    "plt.yticks(fontsize = 15)\n",
    "plt.xlabel(\"Grade\", fontsize = 20)\n",
    "plt.ylabel(\"Profit Percentage\", fontsize = 20)\n",
    "\n",
    "plt.show()"
   ]
  },
  {
   "cell_type": "code",
   "execution_count": null,
   "metadata": {
    "id": "gYh2onRUmd5C"
   },
   "outputs": [],
   "source": [
    "# Why did people break their settlement plans?\n",
    "\n",
    "settlement36 = pd.DataFrame(term36.groupby([\"settlement_status\", \"hardship_reason\"])[\"id\"].count())#.sort_values(by = \"id\", ascending = False).reset_index()\n",
    "settlement36 = settlement36.rename(columns = {\"id\":\"count\"})\n",
    "settlement36[\"count\"] = settlement36[\"count\"] / sum(settlement36[\"count\"])\n",
    "settlement36"
   ]
  },
  {
   "cell_type": "code",
   "execution_count": null,
   "metadata": {
    "id": "S4Hs4-tYmltZ"
   },
   "outputs": [],
   "source": [
    "term60 = accepted[accepted.term == 60.0]\n",
    "term60"
   ]
  },
  {
   "cell_type": "code",
   "execution_count": null,
   "metadata": {
    "id": "4lBw-g6Un8mS"
   },
   "outputs": [],
   "source": [
    "settlement60 = pd.DataFrame(term60.groupby([\"settlement_status\", \"hardship_reason\"])[\"id\"].count()).sort_values(by = \"id\", ascending = False)\n",
    "settlement60"
   ]
  },
  {
   "cell_type": "code",
   "execution_count": null,
   "metadata": {
    "id": "uufC4T0jpMjk"
   },
   "outputs": [],
   "source": [
    "term36_broken[\"hardship_reason\"].count()"
   ]
  },
  {
   "cell_type": "markdown",
   "metadata": {
    "id": "euLp9UoSp8OM"
   },
   "source": [
    "We need to focus on attributes of applicants that we can know before they are accepted/rejected."
   ]
  },
  {
   "cell_type": "code",
   "execution_count": null,
   "metadata": {
    "id": "_YvhEkjsqKfs"
   },
   "outputs": [],
   "source": [
    "plt.figure(figsize = (30,10))\n",
    "\n",
    "sns.boxplot(term36_broken.purpose,\n",
    "            term36_broken.profit,\n",
    "            order = term36_broken.groupby([\"purpose\"])[\"profit\"].median().sort_values(ascending = False).index)\n",
    "\n",
    "plt.title(\"Profit Percentage of \\n Broken Settlements for \\n 36-Month Loans\", fontsize = 30)\n",
    "plt.xticks(fontsize = 15, rotation = 30)\n",
    "plt.yticks(fontsize = 15)\n",
    "plt.xlabel(\"Purpose\", fontsize = 20)\n",
    "plt.ylabel(\"Profit Percentage\", fontsize = 20)\n",
    "\n",
    "plt.show()"
   ]
  },
  {
   "cell_type": "code",
   "execution_count": null,
   "metadata": {
    "id": "9dLh5GGhresr"
   },
   "outputs": [],
   "source": [
    "term36_broken.groupby([\"purpose\"])[\"profit\"].median().sort_values(ascending = False).index"
   ]
  },
  {
   "cell_type": "code",
   "execution_count": null,
   "metadata": {
    "id": "6TjZ_NC5sNDO"
   },
   "outputs": [],
   "source": [
    "term60_broken.groupby([\"purpose\"])[\"profit\"].median().sort_values(ascending = False).index"
   ]
  },
  {
   "cell_type": "code",
   "execution_count": null,
   "metadata": {
    "id": "wcF1PKIUsLUr"
   },
   "outputs": [],
   "source": [
    "plt.figure(figsize = (30,10))\n",
    "\n",
    "sns.boxplot(term60_broken.purpose,\n",
    "            term60_broken.profit,\n",
    "            order = term60_broken.groupby([\"purpose\"])[\"profit\"].median().sort_values(ascending = False).index)\n",
    "\n",
    "plt.title(\"Profit Percentage of \\n Broken Settlements for \\n 60-Month Loans\", fontsize = 30)\n",
    "plt.xticks(fontsize = 15, rotation = 30)\n",
    "plt.yticks(fontsize = 15)\n",
    "plt.xlabel(\"Purpose\", fontsize = 20)\n",
    "plt.ylabel(\"Profit Percentage\", fontsize = 20)\n",
    "\n",
    "plt.show()"
   ]
  },
  {
   "cell_type": "code",
   "execution_count": null,
   "metadata": {
    "id": "jy6vM2u3sq0s"
   },
   "outputs": [],
   "source": [
    "term36_complete.groupby([\"purpose\"])[\"profit\"].median().sort_values(ascending = False).index"
   ]
  },
  {
   "cell_type": "code",
   "execution_count": null,
   "metadata": {
    "id": "RzYMcSrus37r"
   },
   "outputs": [],
   "source": [
    "plt.figure(figsize = (30,10))\n",
    "\n",
    "sns.boxplot(term36_complete.purpose,\n",
    "            term36_complete.profit,\n",
    "            order = term36_complete.groupby([\"purpose\"])[\"profit\"].median().sort_values(ascending = False).index)\n",
    "\n",
    "plt.title(\"Profit Percentage of \\n Complete Settlements for \\n 36-Month Loans\", fontsize = 30)\n",
    "plt.xticks(fontsize = 15, rotation = 30)\n",
    "plt.yticks(fontsize = 15)\n",
    "plt.xlabel(\"Purpose\", fontsize = 20)\n",
    "plt.ylabel(\"Profit Percentage\", fontsize = 20)\n",
    "\n",
    "plt.show()"
   ]
  },
  {
   "cell_type": "code",
   "execution_count": null,
   "metadata": {
    "id": "H525KzssuqPJ"
   },
   "outputs": [],
   "source": [
    "term60_complete.groupby([\"purpose\"])[\"profit\"].median().sort_values(ascending = False).index"
   ]
  },
  {
   "cell_type": "code",
   "execution_count": null,
   "metadata": {
    "id": "pvl3mNO4u1Wb"
   },
   "outputs": [],
   "source": [
    "plt.figure(figsize = (30,10))\n",
    "\n",
    "sns.boxplot(term60_complete.purpose,\n",
    "            term60_complete.profit,\n",
    "            order = term60_complete.groupby([\"purpose\"])[\"profit\"].median().sort_values(ascending = False).index)\n",
    "\n",
    "plt.title(\"Profit Percentage of \\n Complete Settlements for \\n 60-Month Loans\", fontsize = 30)\n",
    "plt.xticks(fontsize = 15, rotation = 30)\n",
    "plt.yticks(fontsize = 15)\n",
    "plt.xlabel(\"Purpose\", fontsize = 20)\n",
    "plt.ylabel(\"Profit Percentage\", fontsize = 20)\n",
    "\n",
    "plt.show()"
   ]
  },
  {
   "cell_type": "code",
   "execution_count": null,
   "metadata": {
    "id": "8dVKuMs-vR1-"
   },
   "outputs": [],
   "source": [
    "# Explore debt consolidation\n",
    "\n",
    "term36broken_debt = term36_broken.loc[term36_broken.purpose == \"debt_consolidation\"]\n",
    "term36broken_debt"
   ]
  },
  {
   "cell_type": "code",
   "execution_count": null,
   "metadata": {
    "id": "6NMmFRCAxCsh"
   },
   "outputs": [],
   "source": [
    "plt.figure(figsize = (30,10))\n",
    "\n",
    "sns.boxplot(term36broken_debt.grade,\n",
    "            term36broken_debt.profit,\n",
    "            order = sorted(term36broken_debt.grade.unique()))\n",
    "\n",
    "plt.title(\"Profit Percentage of \\n Broken Settlements for \\n 36-Month Loans \\n (Debt Consolidation)\", fontsize = 30)\n",
    "plt.xticks(fontsize = 15)\n",
    "plt.yticks(fontsize = 15)\n",
    "plt.xlabel(\"Grade\", fontsize = 20)\n",
    "plt.ylabel(\"Profit Percentage\", fontsize = 20)\n",
    "\n",
    "plt.show()"
   ]
  },
  {
   "cell_type": "code",
   "execution_count": null,
   "metadata": {
    "id": "lx2pzBKxylfO"
   },
   "outputs": [],
   "source": [
    "# What are the chances that someone with a grade G loan will go into settlement?\n",
    "\n",
    "gradeG = accepted.loc[accepted.grade == \"G\"]\n",
    "gradeG"
   ]
  },
  {
   "cell_type": "code",
   "execution_count": null,
   "metadata": {
    "id": "NqPHG0Bq0W-v"
   },
   "outputs": [],
   "source": [
    "len(gradeG.loc[(gradeG.settlement_status == \"BROKEN\") | (gradeG.settlement_status == \"COMPLETE\")]) / len(gradeG)\n",
    "#Only 2% of Grade G go into settlement"
   ]
  },
  {
   "cell_type": "code",
   "execution_count": null,
   "metadata": {
    "id": "v59PwnNt1Xbk"
   },
   "outputs": [],
   "source": [
    "len(gradeG.loc[(gradeG.loan_status == \"Default\") | (gradeG.loan_status == \"Charged Off\")]) / len(gradeG)\n",
    "#38% of Grade G go into default or worse"
   ]
  },
  {
   "cell_type": "code",
   "execution_count": null,
   "metadata": {
    "id": "jLC1royM28sp"
   },
   "outputs": [],
   "source": [
    "len(gradeG.loc[((gradeG.loan_status == \"Default\") | (gradeG.loan_status == \"Charged Off\")) & (gradeG.purpose == \"debt_consolidation\")]) / len(gradeG)\n",
    "#24% of Grade G go into default or worse"
   ]
  },
  {
   "cell_type": "code",
   "execution_count": null,
   "metadata": {
    "id": "Bd9hrM-u2ktL"
   },
   "outputs": [],
   "source": [
    "# Profit margins for greade G\n",
    "\n",
    "gradeG[\"profit\"] = 1 + ((gradeG.total_pymnt - gradeG.loan_amnt) / gradeG.loan_amnt)\n",
    "gradeG[\"profit\"]"
   ]
  },
  {
   "cell_type": "code",
   "execution_count": null,
   "metadata": {
    "id": "1WBnxrbI3wqf"
   },
   "outputs": [],
   "source": [
    "(gradeG.groupby([\"purpose\"])[\"profit\"].median()).sort_values().index"
   ]
  },
  {
   "cell_type": "code",
   "execution_count": null,
   "metadata": {
    "id": "tOZfWtKi4KHL"
   },
   "outputs": [],
   "source": [
    "plt.figure(figsize = (30,10))\n",
    "\n",
    "sns.boxplot(gradeG.loc[(gradeG.loan_status == \"Default\") | (gradeG.loan_status == \"Charged Off\")].purpose,\n",
    "            gradeG.loc[(gradeG.loan_status == \"Default\") | (gradeG.loan_status == \"Charged Off\")].profit,\n",
    "            order = (gradeG.loc[(gradeG.loan_status == \"Default\") | (gradeG.loan_status == \"Charged Off\")].groupby([\"purpose\"])[\"profit\"].median()).sort_values().index)\n",
    "\n",
    "plt.title(\"Profit Percentage of \\n Grade G Loans \\n By Purpose \\n (Default or Charged Off)\", fontsize = 30)\n",
    "plt.xticks(fontsize = 15, rotation = 15)\n",
    "plt.yticks(fontsize = 15)\n",
    "plt.xlabel(\"Purpose\", fontsize = 20)\n",
    "plt.ylabel(\"Profit Percentage\", fontsize = 20)\n",
    "\n",
    "plt.show()"
   ]
  },
  {
   "cell_type": "code",
   "execution_count": null,
   "metadata": {
    "id": "HNiSuMd-yJQt"
   },
   "outputs": [],
   "source": [
    "term60broken_debt = term60_broken.loc[term60_broken.purpose == \"debt_consolidation\"]\n",
    "term60broken_debt"
   ]
  },
  {
   "cell_type": "code",
   "execution_count": null,
   "metadata": {
    "id": "dmtcFVg_yOKi"
   },
   "outputs": [],
   "source": [
    "plt.figure(figsize = (30,10))\n",
    "\n",
    "sns.boxplot(term36broken_debt.grade,\n",
    "            term36broken_debt.profit,\n",
    "            order = sorted(term36broken_debt.grade.unique()))\n",
    "\n",
    "plt.title(\"Profit Percentage of \\n Broken Settlements for \\n 36-Month Loans \\n (Debt Consolidation)\", fontsize = 30)\n",
    "plt.xticks(fontsize = 15)\n",
    "plt.yticks(fontsize = 15)\n",
    "plt.xlabel(\"Grade\", fontsize = 20)\n",
    "plt.ylabel(\"Profit Percentage\", fontsize = 20)\n",
    "\n",
    "plt.show()"
   ]
  },
  {
   "cell_type": "code",
   "execution_count": null,
   "metadata": {
    "id": "odeg8LOsAFPs"
   },
   "outputs": [],
   "source": [
    "# Look at profit over the years\n",
    "\n",
    "accepted[\"profit\"] = 1 + ((accepted.total_pymnt - accepted.loan_amnt) / accepted.loan_amnt)"
   ]
  },
  {
   "cell_type": "code",
   "execution_count": null,
   "metadata": {
    "id": "kJhfBvqGzn5n"
   },
   "outputs": [],
   "source": [
    "# %%time\n",
    "# accepted.to_csv(\"/content/gdrive/MyDrive/NYC DSA Capstone Project/Data/accepted_2007_to_2018q4.csv/accepted.csv\")"
   ]
  },
  {
   "cell_type": "code",
   "execution_count": null,
   "metadata": {
    "id": "JtnYPgScykSm"
   },
   "outputs": [],
   "source": [
    "plt.figure(figsize = (30,10))\n",
    "\n",
    "sns.boxplot(accepted.issue_year,\n",
    "             accepted.profit)\n",
    "\n",
    "plt.title(\"Profit Ratio Over the Years\", fontsize = 30)\n",
    "plt.xticks(fontsize = 15)\n",
    "plt.yticks(fontsize = 15)\n",
    "plt.xlabel(\"Year\", fontsize = 20)\n",
    "plt.ylabel(\"Profit\", fontsize = 20)\n",
    "\n",
    "plt.show()"
   ]
  },
  {
   "cell_type": "code",
   "execution_count": null,
   "metadata": {
    "id": "hJI9kz29_ckG"
   },
   "outputs": [],
   "source": [
    "plt.figure(figsize = (30,10))\n",
    "\n",
    "sns.lineplot(accepted.loan_duration/30,\n",
    "                accepted.profit)\n",
    "\n",
    "plt.title(\"Profit Ratio by Loan Duration\", fontsize = 30)\n",
    "plt.xticks(fontsize = 15)\n",
    "plt.yticks(fontsize = 15)\n",
    "plt.xlabel(\"Duration\", fontsize = 20)\n",
    "plt.ylabel(\"Profit\", fontsize = 20)\n",
    "\n",
    "plt.show()"
   ]
  },
  {
   "cell_type": "code",
   "execution_count": null,
   "metadata": {
    "id": "UEwiLjFPRXhW"
   },
   "outputs": [],
   "source": [
    "plt.figure(figsize = (30,10))\n",
    "\n",
    "sns.boxenplot(accepted.grade,\n",
    "             accepted.profit,\n",
    "             order = sorted(accepted.grade.unique()))\n",
    "\n",
    "plt.title(\"Profit Ratio by Grade\", fontsize = 30)\n",
    "plt.xticks(fontsize = 15)\n",
    "plt.yticks(fontsize = 15)\n",
    "plt.xlabel(\"Grade\", fontsize = 20)\n",
    "plt.ylabel(\"Profit\", fontsize = 20)\n",
    "\n",
    "plt.show()"
   ]
  },
  {
   "cell_type": "markdown",
   "metadata": {
    "id": "1WgBcU9_3SQB"
   },
   "source": [
    "Imputation for model"
   ]
  },
  {
   "cell_type": "code",
   "execution_count": null,
   "metadata": {
    "id": "BrG9MgeM3YfO"
   },
   "outputs": [],
   "source": [
    "potential_features = accepted[[\"addr_state\", \"annual_inc_joint\", \"application_type\", \"dti\", \"earliest_cr_line\", \"emp_length\", \"fico_range_high\", \"fico_range_low\", \"funded_amnt\", \n",
    "                               \"home_ownership\", \"inq_fi\", \"inq_last_12m\", \"installment\", \"int_rate\", \"loan_amnt\", \"open_acc\", \"pub_rec\", \"pub_rec_bankruptcies\", \"title\", \"zip_code\", \n",
    "                               \"total_acc\", \"revol_bal\", \"revol_util\", \"delinq_amnt\", \"delinq_2yrs\", \"mths_since_last_delinq\", \"mths_since_last_major_derog\"]]"
   ]
  },
  {
   "cell_type": "code",
   "execution_count": null,
   "metadata": {
    "id": "rK9sNtdj8KTw"
   },
   "outputs": [],
   "source": [
    "potential_features"
   ]
  },
  {
   "cell_type": "code",
   "execution_count": null,
   "metadata": {
    "id": "9Mu5v7oS8SX_"
   },
   "outputs": [],
   "source": [
    "potential_features.isnull().sum(axis = 0)"
   ]
  },
  {
   "cell_type": "code",
   "execution_count": null,
   "metadata": {
    "id": "Fm8InecuCiF7"
   },
   "outputs": [],
   "source": [
    "accepted[[\"dti\", \"dti_joint\"]]"
   ]
  },
  {
   "cell_type": "code",
   "execution_count": null,
   "metadata": {
    "id": "rE7Mbv50Dp2o"
   },
   "outputs": [],
   "source": [
    "median_dti_by_subgrade = pd.DataFrame(accepted.groupby(\"sub_grade\")[\"dti\"].median()).reset_index()\n",
    "median_dti_by_subgrade = median_dti_by_subgrade.rename(columns = {\"dti\":\"median_dti\"})\n",
    "median_dti_by_subgrade"
   ]
  },
  {
   "cell_type": "code",
   "execution_count": null,
   "metadata": {
    "id": "SbkIvG7nE_in"
   },
   "outputs": [],
   "source": [
    "lst = [1, 2, math.nan, 3]\n",
    "lst"
   ]
  },
  {
   "cell_type": "code",
   "execution_count": null,
   "metadata": {
    "id": "Z7250_9ZFPj9"
   },
   "outputs": [],
   "source": [
    "for i in range(len(lst)):\n",
    "    if math.isnan(lst[i]):\n",
    "        lst[i] = \"missing\""
   ]
  },
  {
   "cell_type": "code",
   "execution_count": null,
   "metadata": {
    "id": "WofiW86TFxVG"
   },
   "outputs": [],
   "source": [
    "lst"
   ]
  },
  {
   "cell_type": "code",
   "execution_count": null,
   "metadata": {
    "id": "GQ2T5BsrHTT2"
   },
   "outputs": [],
   "source": [
    "%%time\n",
    "accepted = pd.merge(accepted, median_dti_by_subgrade, how = \"left\", on = \"sub_grade\", suffixes = (\"\", \"Delete\"))"
   ]
  },
  {
   "cell_type": "code",
   "execution_count": null,
   "metadata": {
    "id": "cG1VVrZ-KqSK"
   },
   "outputs": [],
   "source": [
    "accepted.columns.to_list()"
   ]
  },
  {
   "cell_type": "code",
   "execution_count": null,
   "metadata": {
    "id": "R6QUW2GCpcsY"
   },
   "outputs": [],
   "source": [
    "accepted"
   ]
  },
  {
   "cell_type": "code",
   "execution_count": null,
   "metadata": {
    "id": "YqCX0aotF9a1"
   },
   "outputs": [],
   "source": [
    "def impute_dti(x):\n",
    "    try:\n",
    "        if math.isnan(x.dti):\n",
    "            return median_dti_by_subgrade.loc[median_dti_by_subgrade.sub_grade == x.sub_grade, \"median_dti\"].values[0]\n",
    "        else:\n",
    "            return x.dti\n",
    "    except:\n",
    "        print(x.loc[\"index\"])"
   ]
  },
  {
   "cell_type": "code",
   "execution_count": null,
   "metadata": {
    "id": "Lhj-8YKX1U9l"
   },
   "outputs": [],
   "source": [
    "accepted.reset_index().iloc[1,:].loc[\"index\"]"
   ]
  },
  {
   "cell_type": "code",
   "execution_count": null,
   "metadata": {
    "id": "x9oADAZurXgR"
   },
   "outputs": [],
   "source": [
    "median_dti_by_subgrade.loc[median_dti_by_subgrade.sub_grade == \"A5\", \"median_dti\"].values"
   ]
  },
  {
   "cell_type": "code",
   "execution_count": null,
   "metadata": {
    "id": "-GXGzUTtJ_wA"
   },
   "outputs": [],
   "source": [
    "%%time\n",
    "accepted[\"dti\"] = accepted.reset_index().apply(impute_dti, axis = 1)\n",
    "accepted[\"dti\"]"
   ]
  },
  {
   "cell_type": "code",
   "execution_count": null,
   "metadata": {
    "id": "zLw9B_pyLcMm"
   },
   "outputs": [],
   "source": [
    "accepted.dti.isnull().sum()"
   ]
  },
  {
   "cell_type": "code",
   "execution_count": null,
   "metadata": {
    "id": "Q9xXD1NpLfkH"
   },
   "outputs": [],
   "source": [
    "pd.options.display.max_rows = 27\n",
    "potential_features = accepted[[\"addr_state\", \"annual_inc_joint\", \"application_type\", \"dti\", \"earliest_cr_line\", \"emp_length\", \"fico_range_high\", \"fico_range_low\", \"funded_amnt\", \n",
    "                               \"home_ownership\", \"inq_fi\", \"inq_last_12m\", \"installment\", \"int_rate\", \"loan_amnt\", \"open_acc\", \"pub_rec\", \"pub_rec_bankruptcies\", \"title\", \"zip_code\", \n",
    "                               \"total_acc\", \"revol_bal\", \"revol_util\", \"delinq_amnt\", \"delinq_2yrs\", \"mths_since_last_delinq\", \"mths_since_last_major_derog\"]]\n",
    "\n",
    "potential_features.isnull().sum()"
   ]
  },
  {
   "cell_type": "code",
   "execution_count": null,
   "metadata": {
    "id": "GIRWcGGEPPj7"
   },
   "outputs": [],
   "source": [
    "accepted[[\"dti\", \"dti_joint\"]]"
   ]
  },
  {
   "cell_type": "code",
   "execution_count": null,
   "metadata": {
    "id": "JQY_4kFJyFer"
   },
   "outputs": [],
   "source": [
    "np.mean(accepted[\"dti_joint\"] == accepted[[\"dti\", \"dti_joint\"]].apply(max, axis = 1))"
   ]
  },
  {
   "cell_type": "code",
   "execution_count": null,
   "metadata": {
    "id": "7JFg56nrWRv1"
   },
   "outputs": [],
   "source": [
    "# def impute_missing_dti_joint(x):\n",
    "#     if math.isnan(x):\n",
    "#         return 0\n",
    "#     else:\n",
    "#         return x"
   ]
  },
  {
   "cell_type": "code",
   "execution_count": null,
   "metadata": {
    "id": "UAMkolp1Wb-B"
   },
   "outputs": [],
   "source": [
    "# accepted[\"dti_joint\"] = accepted.dti_joint.apply(impute_missing_dti_joint)\n",
    "# accepted[\"dti_joint\"]"
   ]
  },
  {
   "cell_type": "code",
   "execution_count": null,
   "metadata": {
    "id": "foFp6iilOa7c"
   },
   "outputs": [],
   "source": [
    "# accepted[[\"dti\", \"dti_joint\"]].head(18202).max(axis = 1)"
   ]
  },
  {
   "cell_type": "code",
   "execution_count": null,
   "metadata": {
    "id": "VNeAOeMlecUo"
   },
   "outputs": [],
   "source": [
    "pd.options.display.max_rows = 10\n",
    "accepted.iloc[18202]"
   ]
  },
  {
   "cell_type": "code",
   "execution_count": null,
   "metadata": {
    "id": "x-PPNDhx8VCw"
   },
   "outputs": [],
   "source": [
    "accepted.dti[2121176]"
   ]
  },
  {
   "cell_type": "code",
   "execution_count": null,
   "metadata": {
    "id": "Qq86c7gbzgfP"
   },
   "outputs": [],
   "source": [
    "# accepted[\"dti\"][18202] = 20.23"
   ]
  },
  {
   "cell_type": "code",
   "execution_count": null,
   "metadata": {
    "id": "WrBLYjD4L-dY"
   },
   "outputs": [],
   "source": [
    "accepted.earliest_cr_line"
   ]
  },
  {
   "cell_type": "code",
   "execution_count": null,
   "metadata": {
    "id": "eg_u0RudOLQL"
   },
   "outputs": [],
   "source": [
    "potential_features = accepted[[\"addr_state\", \"annual_inc_joint\", \"application_type\", \"dti\", \"earliest_cr_line\", \"emp_length\", \"fico_range_high\", \"fico_range_low\", \"funded_amnt\", \n",
    "                               \"home_ownership\", \"inq_fi\", \"inq_last_12m\", \"installment\", \"int_rate\", \"loan_amnt\", \"open_acc\", \"pub_rec\", \"pub_rec_bankruptcies\", \"title\", \"zip_code\", \n",
    "                               \"total_acc\", \"revol_bal\", \"revol_util\", \"delinq_amnt\", \"delinq_2yrs\", \"mths_since_last_delinq\", \"mths_since_last_major_derog\"]]\n",
    "\n",
    "potential_features.isnull().sum()"
   ]
  },
  {
   "cell_type": "code",
   "execution_count": null,
   "metadata": {
    "id": "XhbSyuFNE1ZM"
   },
   "outputs": [],
   "source": [
    "def impute_inq(x):\n",
    "    if math.isnan(x):\n",
    "        return 0\n",
    "    else:\n",
    "        return x"
   ]
  },
  {
   "cell_type": "code",
   "execution_count": null,
   "metadata": {
    "id": "MUUyIOVTF7MT"
   },
   "outputs": [],
   "source": [
    "accepted[\"inq_fi\"] = accepted[\"inq_fi\"].apply(impute_inq)\n",
    "accepted[\"inq_fi\"]"
   ]
  },
  {
   "cell_type": "code",
   "execution_count": null,
   "metadata": {
    "id": "GxOVZMJ9GUUn"
   },
   "outputs": [],
   "source": [
    "accepted[\"inq_last_12m\"] = accepted[\"inq_last_12m\"].apply(impute_inq)\n",
    "accepted[\"inq_last_12m\"]"
   ]
  },
  {
   "cell_type": "code",
   "execution_count": null,
   "metadata": {
    "id": "sUa58PSKGvV-"
   },
   "outputs": [],
   "source": [
    "accepted[\"mths_since_last_delinq\"] = accepted[\"mths_since_last_delinq\"].apply(impute_inq)\n",
    "accepted[\"mths_since_last_delinq\"]"
   ]
  },
  {
   "cell_type": "code",
   "execution_count": null,
   "metadata": {
    "id": "vNmfMc7rGvn3"
   },
   "outputs": [],
   "source": [
    "accepted[\"mths_since_last_major_derog\"] = accepted[\"mths_since_last_major_derog\"].apply(impute_inq)\n",
    "accepted[\"mths_since_last_major_derog\"]"
   ]
  },
  {
   "cell_type": "code",
   "execution_count": null,
   "metadata": {
    "id": "D4JK1T1JHZgL"
   },
   "outputs": [],
   "source": [
    "accepted[\"delinq_amnt\"] = accepted[\"delinq_amnt\"].apply(impute_inq)\n",
    "accepted[\"delinq_amnt\"]"
   ]
  },
  {
   "cell_type": "code",
   "execution_count": null,
   "metadata": {
    "id": "crh-s7cjHkyX"
   },
   "outputs": [],
   "source": [
    "accepted[\"delinq_2yrs\"] = accepted[\"delinq_2yrs\"].apply(impute_inq)\n",
    "accepted[\"delinq_2yrs\"]"
   ]
  },
  {
   "cell_type": "code",
   "execution_count": null,
   "metadata": {
    "id": "KtCzqzhHIECH"
   },
   "outputs": [],
   "source": [
    "accepted[\"emp_length\"]"
   ]
  },
  {
   "cell_type": "code",
   "execution_count": null,
   "metadata": {
    "id": "SG1A0MaeIzOf"
   },
   "outputs": [],
   "source": [
    "%%time\n",
    "accepted[\"emp_length\"] = accepted[\"emp_length\"].apply(lambda string: re.sub(pattern = \"([\\d]{0,2})([^\\d])\", repl = r\"\\1\", string = string) if isinstance(string, str) else 0)\n",
    "accepted[\"emp_length\"]"
   ]
  },
  {
   "cell_type": "code",
   "execution_count": null,
   "metadata": {
    "id": "SIl7S9PFKO3V"
   },
   "outputs": [],
   "source": [
    "accepted[\"revol_util\"] = accepted[\"revol_util\"].apply(impute_inq)\n",
    "accepted[\"revol_util\"]"
   ]
  },
  {
   "cell_type": "code",
   "execution_count": null,
   "metadata": {
    "id": "_6oJ2WcZLR4D"
   },
   "outputs": [],
   "source": [
    "accepted[\"pub_rec_bankruptcies\"] = accepted[\"pub_rec_bankruptcies\"].apply(impute_inq)\n",
    "accepted[\"pub_rec_bankruptcies\"]"
   ]
  },
  {
   "cell_type": "code",
   "execution_count": null,
   "metadata": {
    "id": "8UW3LHg5MA4D"
   },
   "outputs": [],
   "source": [
    "accepted[\"open_acc\"] = accepted[\"open_acc\"].apply(impute_inq)\n",
    "accepted[\"open_acc\"]"
   ]
  },
  {
   "cell_type": "code",
   "execution_count": null,
   "metadata": {
    "id": "KuWGem8PMHXk"
   },
   "outputs": [],
   "source": [
    "accepted[\"pub_rec\"] = accepted[\"pub_rec\"].apply(impute_inq)\n",
    "accepted[\"pub_rec\"]"
   ]
  },
  {
   "cell_type": "code",
   "execution_count": null,
   "metadata": {
    "id": "hhTU2w_IMWI4"
   },
   "outputs": [],
   "source": [
    "accepted[\"total_acc\"] = accepted[\"total_acc\"].apply(impute_inq)\n",
    "accepted[\"total_acc\"]"
   ]
  },
  {
   "cell_type": "code",
   "execution_count": null,
   "metadata": {
    "id": "nCbePKhHMg7N"
   },
   "outputs": [],
   "source": [
    "accepted[\"annual_inc_joint\"] = accepted[\"annual_inc_joint\"].apply(impute_inq)\n",
    "accepted[\"annual_inc_joint\"]"
   ]
  },
  {
   "cell_type": "code",
   "execution_count": null,
   "metadata": {
    "id": "4WTDVwazMz6Q"
   },
   "outputs": [],
   "source": [
    "accepted[\"earliest_cr_line\"]"
   ]
  },
  {
   "cell_type": "code",
   "execution_count": null,
   "metadata": {
    "id": "gvX-KJq1OG46"
   },
   "outputs": [],
   "source": [
    "accepted[\"earliest_cr_line\"] = accepted[\"earliest_cr_line\"].apply(lambda date: re.sub(pattern = \"-\", repl = \"\", string = date) if isinstance(date, str) else date)"
   ]
  },
  {
   "cell_type": "code",
   "execution_count": null,
   "metadata": {
    "id": "dPwS4brSOUco"
   },
   "outputs": [],
   "source": [
    "accepted[\"earliest_cr_line\"] = pd.to_datetime(accepted[\"earliest_cr_line\"], format = \"%b%Y\", yearfirst = True)\n",
    "accepted[\"earliest_cr_line\"]"
   ]
  },
  {
   "cell_type": "code",
   "execution_count": null,
   "metadata": {
    "id": "wEZDhzaJO4oW"
   },
   "outputs": [],
   "source": []
  },
  {
   "cell_type": "code",
   "execution_count": null,
   "metadata": {
    "id": "1M5WtCD5Opzy"
   },
   "outputs": [],
   "source": [
    "accepted[\"days_from_1st_cr_line\"] = (accepted[\"issue_d\"] - accepted[\"earliest_cr_line\"]).dt.days\n",
    "accepted[\"days_from_1st_cr_line\"]"
   ]
  },
  {
   "cell_type": "code",
   "execution_count": null,
   "metadata": {
    "id": "wB0SSBhaQEUK"
   },
   "outputs": [],
   "source": [
    "accepted[\"days_from_1st_cr_line\"] = accepted[\"days_from_1st_cr_line\"].apply(impute_inq)\n",
    "accepted[\"days_from_1st_cr_line\"]"
   ]
  },
  {
   "cell_type": "code",
   "execution_count": null,
   "metadata": {
    "id": "TsNnLWADGiAX"
   },
   "outputs": [],
   "source": [
    "potential_features = accepted[[\"addr_state\", \"annual_inc_joint\", \"application_type\", \"dti\", \"days_from_1st_cr_line\", \"emp_length\", \"fico_range_high\", \"fico_range_low\", \"funded_amnt\", \n",
    "                               \"home_ownership\", \"inq_fi\", \"inq_last_12m\", \"installment\", \"int_rate\", \"loan_amnt\", \"open_acc\", \"pub_rec\", \"pub_rec_bankruptcies\", \"purpose\", \n",
    "                               \"total_acc\", \"revol_bal\", \"revol_util\", \"delinq_amnt\", \"delinq_2yrs\", \"mths_since_last_delinq\", \"mths_since_last_major_derog\"]]\n",
    "\n",
    "potential_features.isnull().sum()"
   ]
  },
  {
   "cell_type": "code",
   "execution_count": null,
   "metadata": {
    "id": "FMTgR9MfR5dl"
   },
   "outputs": [],
   "source": [
    "potential_features.info()"
   ]
  },
  {
   "cell_type": "markdown",
   "metadata": {
    "id": "b4ilnbUvSgLA"
   },
   "source": [
    "Turn string into numerical or dummify \n",
    "\n",
    "dummify addr_state, purpose"
   ]
  },
  {
   "cell_type": "code",
   "execution_count": null,
   "metadata": {
    "id": "VzOe80nlShlr"
   },
   "outputs": [],
   "source": [
    "accepted.application_type.unique()"
   ]
  },
  {
   "cell_type": "code",
   "execution_count": null,
   "metadata": {
    "id": "TmY5LeJlS9Tz"
   },
   "outputs": [],
   "source": [
    "accepted[\"indiv_app\"] = (accepted[\"application_type\"] == 'Individual').apply(int)\n",
    "accepted[\"indiv_app\"]"
   ]
  },
  {
   "cell_type": "code",
   "execution_count": null,
   "metadata": {
    "id": "OqbPiPtUTuiS"
   },
   "outputs": [],
   "source": [
    "potential_features = accepted[[\"addr_state\", \"annual_inc_joint\", \"indiv_app\", \"dti\", \"days_from_1st_cr_line\", \"emp_length\", \"fico_range_high\", \"fico_range_low\", \"funded_amnt\", \n",
    "                               \"home_ownership\", \"inq_fi\", \"inq_last_12m\", \"installment\", \"int_rate\", \"loan_amnt\", \"open_acc\", \"pub_rec\", \"pub_rec_bankruptcies\", \"purpose\", \n",
    "                               \"total_acc\", \"revol_bal\", \"revol_util\", \"delinq_amnt\", \"delinq_2yrs\", \"mths_since_last_delinq\", \"mths_since_last_major_derog\"]]\n",
    "\n",
    "potential_features.isnull().sum()"
   ]
  },
  {
   "cell_type": "code",
   "execution_count": null,
   "metadata": {
    "id": "M8e9M6LBT_dR"
   },
   "outputs": [],
   "source": [
    "potential_features.info()"
   ]
  },
  {
   "cell_type": "code",
   "execution_count": null,
   "metadata": {
    "id": "1N4TChMsUEBa"
   },
   "outputs": [],
   "source": [
    "accepted[\"home_ownership\"].unique()"
   ]
  },
  {
   "cell_type": "code",
   "execution_count": null,
   "metadata": {
    "id": "zX97WtGPVpl5"
   },
   "outputs": [],
   "source": [
    "def home(x):\n",
    "    if x in ['MORTGAGE', 'OWN']:\n",
    "        return 1\n",
    "    else:\n",
    "        return 0"
   ]
  },
  {
   "cell_type": "code",
   "execution_count": null,
   "metadata": {
    "id": "uLMuD2zFVHAm"
   },
   "outputs": [],
   "source": [
    "np.mean(accepted[\"home_ownership\"].apply(home))"
   ]
  },
  {
   "cell_type": "code",
   "execution_count": null,
   "metadata": {
    "id": "ms6a7WcKWP47"
   },
   "outputs": [],
   "source": [
    "accepted[\"home_ownership\"] = accepted[\"home_ownership\"].apply(home)\n",
    "accepted[\"home_ownership\"]"
   ]
  },
  {
   "cell_type": "code",
   "execution_count": null,
   "metadata": {
    "id": "Ymt83zz2WVrL"
   },
   "outputs": [],
   "source": [
    "potential_features = accepted[[\"addr_state\", \"annual_inc_joint\", \"indiv_app\", \"dti\", \"days_from_1st_cr_line\", \"emp_length\", \"fico_range_high\", \"fico_range_low\", \"funded_amnt\", \n",
    "                               \"home_ownership\", \"inq_fi\", \"inq_last_12m\", \"installment\", \"int_rate\", \"loan_amnt\", \"open_acc\", \"pub_rec\", \"pub_rec_bankruptcies\", \"purpose\", \n",
    "                               \"total_acc\", \"revol_bal\", \"revol_util\", \"delinq_amnt\", \"delinq_2yrs\", \"mths_since_last_delinq\", \"mths_since_last_major_derog\"]]\n",
    "\n",
    "potential_features.isnull().sum()"
   ]
  },
  {
   "cell_type": "code",
   "execution_count": null,
   "metadata": {
    "id": "OGSHaZjHWm2W"
   },
   "outputs": [],
   "source": [
    "potential_features.info()"
   ]
  },
  {
   "cell_type": "code",
   "execution_count": null,
   "metadata": {
    "id": "6y4MPKhVWrsF"
   },
   "outputs": [],
   "source": [
    "accepted[\"emp_length\"] = accepted[\"emp_length\"].apply(int)\n",
    "accepted[\"emp_length\"]"
   ]
  },
  {
   "cell_type": "code",
   "execution_count": null,
   "metadata": {
    "id": "7ZVch3Z1XZhI"
   },
   "outputs": [],
   "source": [
    "potential_features = accepted[[\"addr_state\", \"annual_inc_joint\", \"indiv_app\", \"dti_joint\", \"days_from_1st_cr_line\", \"emp_length\", \"fico_range_high\", \"fico_range_low\", \"funded_amnt\", \n",
    "                               \"home_ownership\", \"inq_fi\", \"inq_last_12m\", \"installment\", \"int_rate\", \"loan_amnt\", \"open_acc\", \"pub_rec\", \"pub_rec_bankruptcies\", \"purpose\", \n",
    "                               \"total_acc\", \"revol_bal\", \"revol_util\", \"delinq_amnt\", \"delinq_2yrs\", \"mths_since_last_delinq\", \"mths_since_last_major_derog\"]]\n",
    "\n",
    "potential_features.isnull().sum()"
   ]
  },
  {
   "cell_type": "code",
   "execution_count": null,
   "metadata": {
    "id": "71yoP9K-Xenn"
   },
   "outputs": [],
   "source": [
    "potential_features.info()"
   ]
  },
  {
   "cell_type": "code",
   "execution_count": null,
   "metadata": {
    "id": "qb03D7CJYw-L"
   },
   "outputs": [],
   "source": [
    "len(accepted[\"addr_state\"].unique())"
   ]
  },
  {
   "cell_type": "code",
   "execution_count": null,
   "metadata": {
    "id": "P60Kx76zY6ho"
   },
   "outputs": [],
   "source": [
    "accepted[\"addr_state\"].unique()"
   ]
  },
  {
   "cell_type": "code",
   "execution_count": null,
   "metadata": {
    "id": "iYHl1JUsZF_8"
   },
   "outputs": [],
   "source": [
    "pd.options.display.max_rows = 51\n",
    "med_inc_by_state = pd.DataFrame(accepted.groupby([\"addr_state\"])[\"annual_inc_joint\"].median()).sort_values(by = \"annual_inc_joint\", ascending = False).reset_index()\n",
    "med_inc_by_state = med_inc_by_state.rename(columns = {\"addr_state\":\"state\", \"annual_inc_joint\":\"income\"})\n",
    "med_inc_by_state"
   ]
  },
  {
   "cell_type": "code",
   "execution_count": null,
   "metadata": {
    "id": "rrhcdwv6btdI"
   },
   "outputs": [],
   "source": [
    "# try:\n",
    "#     if math.isnan(x.dti):\n",
    "#         return median_dti_by_subgrade.loc[median_dti_by_subgrade.sub_grade == x.sub_grade, \"median_dti\"].values[0]\n",
    "#     else:\n",
    "#         return x.dti\n",
    "# except:\n",
    "#     print(x.loc[\"index\"])"
   ]
  },
  {
   "cell_type": "code",
   "execution_count": null,
   "metadata": {
    "id": "zifGYh99lo_0"
   },
   "outputs": [],
   "source": [
    "# accepted.reset_index().apply(impute_dti, axis = 1)"
   ]
  },
  {
   "cell_type": "code",
   "execution_count": null,
   "metadata": {
    "id": "VF8Wjaj6lnLF"
   },
   "outputs": [],
   "source": [
    "med_inc_by_state.loc[(5e4 < med_inc_by_state[\"income\"]) & (med_inc_by_state[\"income\"] < 6e4)][\"state\"].to_list()"
   ]
  },
  {
   "cell_type": "code",
   "execution_count": null,
   "metadata": {
    "id": "BaBxOyj4og5h"
   },
   "outputs": [],
   "source": [
    "group4 = med_inc_by_state.loc[(med_inc_by_state[\"income\"] > 8e4)][\"state\"].to_list()\n",
    "print(group4)\n",
    "\n",
    "group3 = med_inc_by_state.loc[(7e4 < med_inc_by_state[\"income\"]) & (med_inc_by_state[\"income\"] < 8e4)][\"state\"].to_list()\n",
    "print(group3)\n",
    "\n",
    "group2 = med_inc_by_state.loc[(6e4 < med_inc_by_state[\"income\"]) & (med_inc_by_state[\"income\"] < 7e4)][\"state\"].to_list()\n",
    "print(group2)\n",
    "\n",
    "group1 = med_inc_by_state.loc[(5e4 < med_inc_by_state[\"income\"]) & (med_inc_by_state[\"income\"] < 6e4)][\"state\"].to_list()\n",
    "print(group1)\n",
    "\n",
    "group0 = med_inc_by_state.loc[(med_inc_by_state[\"income\"] < 5e4)][\"state\"].to_list()\n",
    "print(group0)"
   ]
  },
  {
   "cell_type": "code",
   "execution_count": null,
   "metadata": {
    "id": "orvmdz6qnLwm"
   },
   "outputs": [],
   "source": [
    "def state(x):\n",
    "    if x in group4:\n",
    "        return 4\n",
    "    elif x in group3:\n",
    "        return 3\n",
    "    elif x in group2:\n",
    "        return 2\n",
    "    elif x in group1:\n",
    "        return 1\n",
    "    else:\n",
    "        return 0"
   ]
  },
  {
   "cell_type": "code",
   "execution_count": null,
   "metadata": {
    "id": "-qrxj_9lswlE"
   },
   "outputs": [],
   "source": [
    "# %%time\n",
    "# accepted.to_csv(\"/content/gdrive/MyDrive/NYC DSA Capstone Project/Data/accepted_2007_to_2018q4.csv/accepted.csv\")"
   ]
  },
  {
   "cell_type": "code",
   "execution_count": null,
   "metadata": {
    "id": "I7cA_6Gspa-6"
   },
   "outputs": [],
   "source": [
    "%%time\n",
    "accepted[\"state_income\"] = accepted[\"addr_state\"].apply(state)\n",
    "accepted[\"state_income\"]"
   ]
  },
  {
   "cell_type": "code",
   "execution_count": null,
   "metadata": {
    "id": "tLzW6jFk9Lyv"
   },
   "outputs": [],
   "source": [
    "potential_features = accepted[[\"state_income\", \"annual_inc_joint\", \"indiv_app\", \"dti_joint\", \"days_from_1st_cr_line\", \"emp_length\", \"fico_range_high\", \"fico_range_low\", \"funded_amnt\", \n",
    "                               \"home_ownership\", \"inq_fi\", \"inq_last_12m\", \"installment\", \"int_rate\", \"loan_amnt\", \"open_acc\", \"pub_rec\", \"pub_rec_bankruptcies\", \"purpose\", \n",
    "                               \"total_acc\", \"revol_bal\", \"revol_util\", \"delinq_amnt\", \"delinq_2yrs\", \"mths_since_last_delinq\", \"mths_since_last_major_derog\"]]\n",
    "\n",
    "potential_features.isnull().sum()"
   ]
  },
  {
   "cell_type": "code",
   "execution_count": null,
   "metadata": {
    "id": "H31H3MHo9RCp"
   },
   "outputs": [],
   "source": [
    "potential_features.info()"
   ]
  },
  {
   "cell_type": "code",
   "execution_count": null,
   "metadata": {
    "id": "RYyJdyrH9n8I"
   },
   "outputs": [],
   "source": [
    "accepted.purpose.unique()"
   ]
  },
  {
   "cell_type": "code",
   "execution_count": null,
   "metadata": {
    "id": "IbMNC3i_Dc5K"
   },
   "outputs": [],
   "source": [
    "def purpose(x):\n",
    "    if x == 'debt_consolidation':\n",
    "        return 1\n",
    "    else:\n",
    "        return 0"
   ]
  },
  {
   "cell_type": "code",
   "execution_count": null,
   "metadata": {
    "id": "gLQUJOa-D8mF"
   },
   "outputs": [],
   "source": [
    "accepted[\"for_debt_consol\"] = accepted.purpose.apply(purpose)\n",
    "accepted[\"for_debt_consol\"]"
   ]
  },
  {
   "cell_type": "code",
   "execution_count": null,
   "metadata": {
    "id": "5KER1cgrEdsn"
   },
   "outputs": [],
   "source": [
    "potential_features = accepted[[\"loan_status_trim\", \"state_income\", \"annual_inc_joint\", \"indiv_app\", \"dti_joint\", \"days_from_1st_cr_line\", \"emp_length\", \"fico_range_high\", \"fico_range_low\", \"funded_amnt\", \n",
    "                               \"home_ownership\", \"inq_fi\", \"inq_last_12m\", \"installment\", \"int_rate\", \"loan_amnt\", \"open_acc\", \"pub_rec\", \"pub_rec_bankruptcies\", \"for_debt_consol\", \n",
    "                               \"total_acc\", \"revol_bal\", \"revol_util\", \"delinq_amnt\", \"delinq_2yrs\", \"mths_since_last_delinq\", \"mths_since_last_major_derog\", \"grade\"]]\n",
    "\n",
    "potential_features.isnull().sum()"
   ]
  },
  {
   "cell_type": "code",
   "execution_count": null,
   "metadata": {
    "id": "JaCMjdyTRLL0"
   },
   "outputs": [],
   "source": [
    "%%time\n",
    "num_grade = {\"G\":0, \"F\":1, \"E\":2, \"D\":3, \"C\":4, \"B\":5, \"A\":6}\n",
    "accepted.replace({\"grade\":num_grade}, inplace = True)"
   ]
  },
  {
   "cell_type": "code",
   "execution_count": null,
   "metadata": {
    "id": "E5F0ydD4SpCi"
   },
   "outputs": [],
   "source": [
    "accepted.grade"
   ]
  },
  {
   "cell_type": "code",
   "execution_count": null,
   "metadata": {
    "id": "aXE0SS5XS2T8"
   },
   "outputs": [],
   "source": [
    "features = accepted[[\"loan_status_trim\", \"state_income\", \"annual_inc_joint\", \"indiv_app\", \"dti_joint\", \"days_from_1st_cr_line\", \"emp_length\", \"fico_range_high\", \"fico_range_low\", \"funded_amnt\", \n",
    "                               \"home_ownership\", \"inq_fi\", \"inq_last_12m\", \"installment\", \"int_rate\", \"loan_amnt\", \"open_acc\", \"pub_rec\", \"pub_rec_bankruptcies\", \"for_debt_consol\", \n",
    "                               \"total_acc\", \"revol_bal\", \"revol_util\", \"delinq_amnt\", \"delinq_2yrs\", \"mths_since_last_delinq\", \"mths_since_last_major_derog\", \"grade\"]]\n",
    "\n",
    "features.isnull().sum()"
   ]
  },
  {
   "cell_type": "code",
   "execution_count": null,
   "metadata": {
    "id": "Jw5RRETnFhFG"
   },
   "outputs": [],
   "source": [
    "potential_features.info()"
   ]
  },
  {
   "cell_type": "code",
   "execution_count": null,
   "metadata": {
    "id": "4V_virNuFpdX"
   },
   "outputs": [],
   "source": [
    "#features = potential_features\n",
    "features.drop(\"Unnamed: 0\", axis = 1, inplace = True)"
   ]
  },
  {
   "cell_type": "code",
   "execution_count": null,
   "metadata": {
    "id": "RyyXzeWpP_IW"
   },
   "outputs": [],
   "source": [
    "features"
   ]
  },
  {
   "cell_type": "code",
   "execution_count": null,
   "metadata": {
    "id": "jc78RvFZFzvC"
   },
   "outputs": [],
   "source": [
    "# %%time\n",
    "# accepted.to_csv(\"/content/gdrive/MyDrive/NYC DSA Capstone Project/Data/accepted_2007_to_2018q4.csv/accepted.csv\")"
   ]
  },
  {
   "cell_type": "code",
   "execution_count": null,
   "metadata": {
    "id": "081KlZ0LHoCJ"
   },
   "outputs": [],
   "source": [
    "# %%time\n",
    "# features.to_csv(\"/content/gdrive/MyDrive/NYC DSA Capstone Project/Data/features.csv\")"
   ]
  },
  {
   "cell_type": "code",
   "execution_count": null,
   "metadata": {
    "id": "QMqZPuITIYaG"
   },
   "outputs": [],
   "source": [
    "features.loan_status_trim.unique()"
   ]
  },
  {
   "cell_type": "code",
   "execution_count": null,
   "metadata": {
    "id": "BZzucE7_TOqN"
   },
   "outputs": [],
   "source": [
    "status = pd.DataFrame(features.groupby(\"loan_status_trim\")[\"pub_rec\"].count()).sort_values(by = \"pub_rec\", ascending = False).reset_index()\n",
    "status = status.rename(columns = {\"pub_rec\":\"count\"})\n",
    "status[\"count\"] = status[\"count\"] / sum(status[\"count\"])\n",
    "status"
   ]
  },
  {
   "cell_type": "code",
   "execution_count": null,
   "metadata": {
    "id": "_7fvWuKt_WkC"
   },
   "outputs": [],
   "source": [
    "#features = features.loc[(features[\"loan_status_trim\"] == \"Fully Paid\") | (features[\"loan_status_trim\"] == \"Charged Off\") | (features[\"loan_status_trim\"] == \"Default\")]\n",
    "features"
   ]
  },
  {
   "cell_type": "code",
   "execution_count": null,
   "metadata": {
    "id": "w3MchvejAZ0q"
   },
   "outputs": [],
   "source": [
    "features.isnull().sum()"
   ]
  },
  {
   "cell_type": "code",
   "execution_count": null,
   "metadata": {
    "id": "Bl9P7oy7-f1K"
   },
   "outputs": [],
   "source": [
    "default = [\"Charged Off\", \"Default\"]"
   ]
  },
  {
   "cell_type": "code",
   "execution_count": null,
   "metadata": {
    "id": "r22RFyMKUu-T"
   },
   "outputs": [],
   "source": [
    "def status(x):\n",
    "    if x in default:\n",
    "        return 1\n",
    "    else:\n",
    "        return 0    "
   ]
  },
  {
   "cell_type": "code",
   "execution_count": null,
   "metadata": {
    "id": "rqDbDrdAAvUM"
   },
   "outputs": [],
   "source": [
    "features[\"loan_status_trim\"] = features[\"loan_status_trim\"].apply(status)\n",
    "features[\"loan_status_trim\"]"
   ]
  },
  {
   "cell_type": "code",
   "execution_count": null,
   "metadata": {
    "id": "rgFI0_PIA87L"
   },
   "outputs": [],
   "source": [
    "status = pd.DataFrame(features.groupby(\"loan_status_trim\")[\"pub_rec\"].count()).sort_values(by = \"pub_rec\", ascending = False).reset_index()\n",
    "status = status.rename(columns = {\"pub_rec\":\"count\"})\n",
    "status[\"count\"] = status[\"count\"] / sum(status[\"count\"])\n",
    "status"
   ]
  },
  {
   "cell_type": "code",
   "execution_count": null,
   "metadata": {
    "id": "-zbVx1O7TJ7_"
   },
   "outputs": [],
   "source": [
    "features.info()"
   ]
  },
  {
   "cell_type": "code",
   "execution_count": null,
   "metadata": {
    "id": "r4w8-_-ATfbq"
   },
   "outputs": [],
   "source": [
    "features.isnull().sum()"
   ]
  },
  {
   "cell_type": "code",
   "execution_count": null,
   "metadata": {
    "id": "by56cS_3WIN-"
   },
   "outputs": [],
   "source": [
    "featuresCD = features.loc[(features.grade == 3) | (features.grade == 4)]\n",
    "featuresCD"
   ]
  },
  {
   "cell_type": "code",
   "execution_count": null,
   "metadata": {
    "id": "fC6N_pjpW8Nn"
   },
   "outputs": [],
   "source": [
    "status = pd.DataFrame(featuresCD.groupby(\"loan_status_trim\")[\"pub_rec\"].count()).sort_values(by = \"pub_rec\", ascending = False).reset_index()\n",
    "status = status.rename(columns = {\"pub_rec\":\"count\"})\n",
    "#status[\"count\"] = status[\"count\"] / sum(status[\"count\"])\n",
    "status"
   ]
  },
  {
   "cell_type": "code",
   "execution_count": null,
   "metadata": {
    "id": "QhFap1j45JLk"
   },
   "outputs": [],
   "source": [
    "len(featuresCD[featuresCD.loan_status_trim == 0])"
   ]
  },
  {
   "cell_type": "code",
   "execution_count": null,
   "metadata": {
    "id": "ALudd-M3XH4P"
   },
   "outputs": [],
   "source": [
    "featuresCD.drop(\"Unnamed: 0\", axis = 1, inplace = True)"
   ]
  },
  {
   "cell_type": "code",
   "execution_count": null,
   "metadata": {
    "id": "k2KHDg1RYsML"
   },
   "outputs": [],
   "source": [
    "featuresCD"
   ]
  },
  {
   "cell_type": "code",
   "execution_count": null,
   "metadata": {
    "id": "ajOOpC2hV3Np"
   },
   "outputs": [],
   "source": [
    "%%time\n",
    "featuresCD.to_csv(\"/content/gdrive/MyDrive/NYC DSA Capstone Project/Data/featuresCD.csv\")"
   ]
  },
  {
   "cell_type": "code",
   "execution_count": null,
   "metadata": {
    "id": "Xmd_fGfvFWbc"
   },
   "outputs": [],
   "source": [
    "# %%time\n",
    "# features.to_csv(\"/content/gdrive/MyDrive/NYC DSA Capstone Project/Data/features.csv\")"
   ]
  },
  {
   "cell_type": "code",
   "execution_count": null,
   "metadata": {
    "id": "JzQNGEowB6Tn"
   },
   "outputs": [],
   "source": [
    "import sklearn.model_selection as ms\n",
    "from sklearn.model_selection import train_test_split"
   ]
  },
  {
   "cell_type": "code",
   "execution_count": null,
   "metadata": {
    "id": "3G3c4zuaDe7c"
   },
   "outputs": [],
   "source": [
    "data = featuresCD.iloc[:, 1:27]\n",
    "target = featuresCD.iloc[:, 0]"
   ]
  },
  {
   "cell_type": "code",
   "execution_count": null,
   "metadata": {
    "id": "qyoxj3UhbrVS"
   },
   "outputs": [],
   "source": [
    "data"
   ]
  },
  {
   "cell_type": "code",
   "execution_count": null,
   "metadata": {
    "id": "F6IfJcMaMqnj"
   },
   "outputs": [],
   "source": [
    "target"
   ]
  },
  {
   "cell_type": "code",
   "execution_count": null,
   "metadata": {
    "id": "bJHhi05cEBO4"
   },
   "outputs": [],
   "source": [
    "X_train, X_test, y_train, y_test = train_test_split(data, target, test_size=0.2, random_state=0)"
   ]
  },
  {
   "cell_type": "code",
   "execution_count": null,
   "metadata": {
    "id": "WtC_IQVIEMi2"
   },
   "outputs": [],
   "source": [
    "def get_score(X_train, y_train, X_test, y_test, model, show = True):\n",
    "    model.fit(X_train, y_train)\n",
    "    train_score = model.score(X_train, y_train)\n",
    "    test_score  = model.score(X_test, y_test)\n",
    "    if show:\n",
    "        print(\"The training score is: %.5f\" %train_score)\n",
    "        print(\"The test     score is: %.5f\" %test_score)\n",
    "    return [train_score, test_score]"
   ]
  },
  {
   "cell_type": "code",
   "execution_count": null,
   "metadata": {
    "id": "Rnh6sJVzESDo"
   },
   "outputs": [],
   "source": [
    "%%time\n",
    "from sklearn import tree\n",
    "tree_model = tree.DecisionTreeClassifier()\n",
    "tree_model.fit(X_train, y_train)\n",
    "print(\"Training score: \" + str(tree_model.score(X_train, y_train)))\n",
    "print(\"Test score: \" + str(tree_model.score(X_test, y_test)))"
   ]
  },
  {
   "cell_type": "code",
   "execution_count": null,
   "metadata": {
    "id": "fWP4BWEFGX3V"
   },
   "outputs": [],
   "source": [
    "%%time\n",
    "from sklearn import tree\n",
    "tree_model = tree.DecisionTreeClassifier()\n",
    "get_score(X_train, y_train, X_test, y_test, tree_model)"
   ]
  },
  {
   "cell_type": "code",
   "execution_count": null,
   "metadata": {
    "id": "BEy67K-tGu3h"
   },
   "outputs": [],
   "source": [
    "grid_para_forest = {\n",
    "    'criterion':    ['entropy'],\n",
    "    'max_depth':    [30],\n",
    "    'n_estimators': [100]\n",
    "}"
   ]
  },
  {
   "cell_type": "code",
   "execution_count": null,
   "metadata": {
    "id": "KT_Ijg7XHRCD"
   },
   "outputs": [],
   "source": [
    "%%time\n",
    "from sklearn import ensemble\n",
    "\n",
    "class_weight = dict({0:1, 1:(len(featuresCD[featuresCD.loan_status_trim == 0]) / len(featuresCD[featuresCD.loan_status_trim == 1]))})\n",
    "\n",
    "randomForest = ensemble.RandomForestClassifier(class_weight = class_weight, \n",
    "                                               criterion = \"entropy\", \n",
    "                                               n_estimators = 10,\n",
    "                                               max_depth = 10,\n",
    "                                               n_jobs = -1) \n",
    "                                            \n",
    "\n",
    "# fit RF model on training set\n",
    "randomForest.set_params(random_state = 0)\n",
    "\n",
    "randomForest.fit(X_train, y_train) \n",
    "\n",
    "print(\"The training score is: %.5f\" % (randomForest.score(X_train, y_train)))\n",
    "print(\"The test     score is: %.5f\" % (randomForest.score(X_test, y_test)))"
   ]
  },
  {
   "cell_type": "code",
   "execution_count": null,
   "metadata": {
    "id": "ninQ0DDjajKP"
   },
   "outputs": [],
   "source": [
    "randomForest = ensemble.RandomForestClassifier(class_weight = class_weight, random_state = 0) \n",
    "                                            \n",
    "\n",
    "#fit RF model on training set\n",
    "randomForest.set_params(random_state = 0)\n",
    "\n",
    "randomForest.fit(X_train, y_train) \n",
    "\n",
    "print(\"The training score is: %.5f\" % (randomForest.score(X_train, y_train)))\n",
    "print(\"The test     score is: %.5f\" % (randomForest.score(X_test, y_test)))"
   ]
  },
  {
   "cell_type": "code",
   "execution_count": null,
   "metadata": {
    "id": "dYVuD2WoHL9L"
   },
   "outputs": [],
   "source": [
    "%%time\n",
    "grid_search_forest = ms.GridSearchCV(randomForest, grid_para_forest, scoring = 'accuracy', cv = 2, n_jobs = -1)\n",
    "grid_search_forest.fit(X_train, y_train)"
   ]
  },
  {
   "cell_type": "code",
   "execution_count": null,
   "metadata": {
    "id": "qiNIOZiZU-cN"
   },
   "outputs": [],
   "source": [
    "grid_search_forest.best_params_"
   ]
  },
  {
   "cell_type": "code",
   "execution_count": null,
   "metadata": {
    "id": "G5OFA5rwVA7u"
   },
   "outputs": [],
   "source": [
    "grid_search_forest.best_score_"
   ]
  },
  {
   "cell_type": "code",
   "execution_count": null,
   "metadata": {
    "id": "ccXEzLLe-7Oj"
   },
   "outputs": [],
   "source": [
    "confusion_matrix(y_true = y_test, y_pred = grid_search_forest.best_estimator_.predict(X_test))"
   ]
  },
  {
   "cell_type": "code",
   "execution_count": null,
   "metadata": {
    "id": "Rz5EVKcZVEN2"
   },
   "outputs": [],
   "source": [
    "print(\"The training score is: %.5f\" % (grid_search_forest.best_estimator_.score(X_train, y_train)))\n",
    "print(\"The test     score is: %.5f\" % (grid_search_forest.best_estimator_.score(X_test, y_test)))"
   ]
  },
  {
   "cell_type": "code",
   "execution_count": null,
   "metadata": {
    "id": "5NTu7AhEVH2T"
   },
   "outputs": [],
   "source": [
    "feature_importance = list(zip(data.columns, randomForest.feature_importances_))\n",
    "dtype = [('feature', 'S10'), ('importance', 'float')]\n",
    "feature_importance = np.array(feature_importance, dtype=dtype)\n",
    "feature_sort = np.sort(feature_importance, order='importance')[::-1]\n",
    "[i for (i, j) in feature_sort[0:5]]"
   ]
  },
  {
   "cell_type": "code",
   "execution_count": null,
   "metadata": {
    "id": "JExNxALlVLh9"
   },
   "outputs": [],
   "source": [
    "plt.figure(figsize = (20,10))\n",
    "featureNames, featureScores = zip(*list(feature_sort))\n",
    "plt.barh(range(len(featureScores)), featureScores, tick_label=featureNames)\n",
    "plt.title('feature importance')"
   ]
  },
  {
   "cell_type": "markdown",
   "metadata": {
    "id": "SX_KOyVdT4v4"
   },
   "source": [
    "XGBoost time"
   ]
  },
  {
   "cell_type": "code",
   "execution_count": null,
   "metadata": {
    "id": "GPFKD-TOT3Yv"
   },
   "outputs": [],
   "source": [
    "from sklearn.ensemble import GradientBoostingClassifier"
   ]
  },
  {
   "cell_type": "code",
   "execution_count": null,
   "metadata": {
    "id": "5Rj9lV7aVnoM"
   },
   "outputs": [],
   "source": [
    "gbm = GradientBoostingClassifier(random_state = 0)"
   ]
  },
  {
   "cell_type": "code",
   "execution_count": null,
   "metadata": {
    "id": "PS69D2rlWkX_"
   },
   "outputs": [],
   "source": [
    "param_grid = {\n",
    "    \"learning_rate\" : [0.001, 0.1, 1],\n",
    "    \"max_depth\"     : [3, 5, 10],\n",
    "    \"subsample\"     : [0.1, 0.9, 1],\n",
    "    \"n_estimators\"  : [100]\n",
    "}"
   ]
  },
  {
   "cell_type": "code",
   "execution_count": null,
   "metadata": {
    "id": "ObB-Am0IPxU4"
   },
   "outputs": [],
   "source": [
    "sample(data)"
   ]
  },
  {
   "cell_type": "code",
   "execution_count": null,
   "metadata": {
    "id": "_oAW2lEBdkE6"
   },
   "outputs": [],
   "source": [
    "%%time\n",
    "grid_search_gbm = ms.GridSearchCV(gbm, param_grid, scoring = 'accuracy', cv = 2, n_jobs = -1)\n",
    "grid_search_gbm.fit(, )"
   ]
  },
  {
   "cell_type": "code",
   "execution_count": null,
   "metadata": {
    "id": "tSWKoRL8fKrc"
   },
   "outputs": [],
   "source": [
    "grid_search_gbm.best_params_"
   ]
  },
  {
   "cell_type": "code",
   "execution_count": null,
   "metadata": {
    "id": "qlgCI5ySfe2-"
   },
   "outputs": [],
   "source": [
    "grid_search_gbm.best_score_"
   ]
  },
  {
   "cell_type": "code",
   "execution_count": null,
   "metadata": {
    "id": "Z2DqksBsfnYJ"
   },
   "outputs": [],
   "source": [
    "confusion_matrix(y_true = y_test, y_pred = grid_search_gbm.best_estimator_.predict(X_test))"
   ]
  },
  {
   "cell_type": "code",
   "execution_count": null,
   "metadata": {
    "id": "-FH3s3iGfvis"
   },
   "outputs": [],
   "source": [
    "print(\"The training score is: %.5f\" % (grid_search_gbm.best_estimator_.score(X_train, y_train)))\n",
    "print(\"The test     score is: %.5f\" % (grid_search_gbm.best_estimator_.score(X_test, y_test)))"
   ]
  },
  {
   "cell_type": "markdown",
   "metadata": {
    "id": "B-AxLH_-O3jX"
   },
   "source": [
    "Second Try at Gradient Boosting"
   ]
  },
  {
   "cell_type": "code",
   "execution_count": null,
   "metadata": {
    "id": "rTF_RUZjO159"
   },
   "outputs": [],
   "source": [
    "param_grid = {\n",
    "    \"learning_rate\" : [0.01, 0.1],\n",
    "    \"max_depth\"     : [5],\n",
    "    \"subsample\"     : [0.9],\n",
    "    \"n_estimators\"  : [100, 200, 300]\n",
    "}"
   ]
  },
  {
   "cell_type": "code",
   "execution_count": null,
   "metadata": {
    "id": "l-3zElPPPO4M"
   },
   "outputs": [],
   "source": [
    "%%time\n",
    "grid_search_gbm = ms.GridSearchCV(gbm, param_grid, scoring = 'accuracy', cv = 3, n_jobs = -1)\n",
    "grid_search_gbm.fit(X_train, y_train)"
   ]
  },
  {
   "cell_type": "code",
   "execution_count": null,
   "metadata": {
    "id": "xa51kHCPPUhB"
   },
   "outputs": [],
   "source": [
    "grid_search_gbm.best_params_"
   ]
  },
  {
   "cell_type": "code",
   "execution_count": null,
   "metadata": {
    "id": "dFl765NCPbZc"
   },
   "outputs": [],
   "source": [
    "grid_search_gbm.best_score_"
   ]
  },
  {
   "cell_type": "code",
   "execution_count": null,
   "metadata": {
    "id": "mHREEXwxPcUn"
   },
   "outputs": [],
   "source": []
  },
  {
   "cell_type": "markdown",
   "metadata": {
    "id": "GM3q7Vp5CEAr"
   },
   "source": [
    "Support Vector Machines"
   ]
  },
  {
   "cell_type": "code",
   "execution_count": null,
   "metadata": {
    "id": "5Ccg0YXPCK3X"
   },
   "outputs": [],
   "source": [
    "from sklearn.svm import SVC"
   ]
  },
  {
   "cell_type": "code",
   "execution_count": null,
   "metadata": {
    "id": "ot3OXkRiDizg"
   },
   "outputs": [],
   "source": [
    "%%time \n",
    "svm = SVC(class_weight = class_weight, random_state = 0, )\n",
    "svm.fit(X_train, y_train)\n",
    "print(svm.score(X_train, y_train))\n",
    "print(svm.score(X_test, y_test))\n",
    "confusion_matrix(y_true = y_test, y_pred = grid_search_gbm.best_estimator_.predict(X_test))"
   ]
  },
  {
   "cell_type": "code",
   "execution_count": null,
   "metadata": {
    "id": "sHl_hd7TV2JT"
   },
   "outputs": [],
   "source": []
  }
 ],
 "metadata": {
  "colab": {
   "authorship_tag": "ABX9TyOPcKkPRPEwAbsCCYWhwOSl",
   "collapsed_sections": [],
   "history_visible": true,
   "machine_shape": "hm",
   "mount_file_id": "1q8gFoUnjj7NxvieQb0eV7GRH8ZZ7BH49",
   "name": "Capstone.ipynb",
   "provenance": []
  },
  "kernelspec": {
   "display_name": "Python 3",
   "language": "python",
   "name": "python3"
  },
  "language_info": {
   "codemirror_mode": {
    "name": "ipython",
    "version": 3
   },
   "file_extension": ".py",
   "mimetype": "text/x-python",
   "name": "python",
   "nbconvert_exporter": "python",
   "pygments_lexer": "ipython3",
   "version": "3.7.6"
  }
 },
 "nbformat": 4,
 "nbformat_minor": 1
}
