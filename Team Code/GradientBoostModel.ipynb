{
 "cells": [
  {
   "cell_type": "code",
   "execution_count": 3,
   "metadata": {
    "id": "JXtoDw-XlvsR"
   },
   "outputs": [],
   "source": [
    "import pandas as pd \n",
    "import numpy as np \n",
    "import matplotlib.pyplot as plt \n",
    "import seaborn as sns \n",
    "%matplotlib inline"
   ]
  },
  {
   "cell_type": "code",
   "execution_count": 4,
   "metadata": {
    "colab": {
     "base_uri": "https://localhost:8080/"
    },
    "id": "ToyH-ClImIpC",
    "outputId": "cdde0928-fe9e-4e7d-8e60-3d959c3e1312"
   },
   "outputs": [
    {
     "name": "stdout",
     "output_type": "stream",
     "text": [
      "Mounted at /content/gdrive\n"
     ]
    }
   ],
   "source": [
    "from google.colab import drive \n",
    "drive.mount(\"/content/gdrive\")"
   ]
  },
  {
   "cell_type": "code",
   "execution_count": 5,
   "metadata": {
    "colab": {
     "base_uri": "https://localhost:8080/"
    },
    "id": "ABkZO7DdmkV4",
    "outputId": "94f9d963-7fee-4c55-ce7c-0f75a315c683"
   },
   "outputs": [
    {
     "name": "stderr",
     "output_type": "stream",
     "text": [
      "/usr/local/lib/python3.6/dist-packages/IPython/core/interactiveshell.py:2718: DtypeWarning: Columns (0,19,49,59,118,129,130,131,134,135,136,139,145,146,147) have mixed types.Specify dtype option on import or set low_memory=False.\n",
      "  interactivity=interactivity, compiler=compiler, result=result)\n"
     ]
    }
   ],
   "source": [
    "loans = pd.read_csv('/content/gdrive/My Drive/Lending Capstone Project/accepted_2007_to_2018Q4.csv.gz')  "
   ]
  },
  {
   "cell_type": "code",
   "execution_count": 6,
   "metadata": {
    "id": "bfwvqx2JnKeO"
   },
   "outputs": [],
   "source": [
    "#making the column transformations  \n",
    "\n",
    "years = loans['emp_length'] \n",
    "years = years.str.extract(r'(\\d+)') \n",
    "loans['emp_length'] = [float(x) for x in years[0]]\n",
    "loans['year_issued'] = pd.to_datetime(loans['issue_d']).dt.year\n",
    "loans['month_issued'] = pd.to_datetime(loans['issue_d']).dt.month  \n",
    "loans['loan_status'] = loans['loan_status'].str.replace('Does not meet the credit policy. Status:', '') \n",
    "terms = loans['term'] \n",
    "terms = terms.str.extract(r'(\\d+)')\n",
    "loans['term'] = [float(x) for x in terms[0]] \n",
    "times = (pd.to_datetime(loans['last_pymnt_d']) - pd.to_datetime(loans['issue_d'])) / np.timedelta64(1, 'M') \n",
    "loans['loan_duration'] = times.round()\n",
    "loans['profits'] = (loans['total_pymnt'] - loans['loan_amnt']) / loans['loan_amnt'] "
   ]
  },
  {
   "cell_type": "code",
   "execution_count": 7,
   "metadata": {
    "id": "_DK1jEap3KcK"
   },
   "outputs": [],
   "source": [
    "finished_loans = loans.loc[(loans.loan_status == 'Charged Off') | (loans.loan_status == 'Fully Paid') | (loans.loan_status == 'Default')] "
   ]
  },
  {
   "cell_type": "code",
   "execution_count": 62,
   "metadata": {
    "id": "QO3Z6yEeMmbn"
   },
   "outputs": [],
   "source": [
    "AB_loans = finished_loans.loc[(finished_loans.grade == 'A') | (finished_loans.grade == 'B')]"
   ]
  },
  {
   "cell_type": "code",
   "execution_count": 65,
   "metadata": {
    "colab": {
     "base_uri": "https://localhost:8080/"
    },
    "id": "FYeIKmQp1sw0",
    "outputId": "6c388e63-0f61-4e36-f4e4-44fb7a986614"
   },
   "outputs": [
    {
     "data": {
      "text/plain": [
       "B4    83276\n",
       "B5    82639\n",
       "B3    81901\n",
       "B2    74080\n",
       "B1    71206\n",
       "A5    64056\n",
       "A4    52255\n",
       "A1    43682\n",
       "A3    38010\n",
       "A2    37190\n",
       "Name: sub_grade, dtype: int64"
      ]
     },
     "execution_count": 65,
     "metadata": {
      "tags": []
     },
     "output_type": "execute_result"
    }
   ],
   "source": [
    "CD_loans['sub_grade'].value_counts()"
   ]
  },
  {
   "cell_type": "code",
   "execution_count": 10,
   "metadata": {
    "colab": {
     "base_uri": "https://localhost:8080/",
     "height": 297
    },
    "id": "tn8J2sFgEDU8",
    "outputId": "ea18aeda-6ab4-4b52-d93f-e3324718d2c9"
   },
   "outputs": [
    {
     "data": {
      "text/plain": [
       "<matplotlib.axes._subplots.AxesSubplot at 0x7f0b8bcd3cf8>"
      ]
     },
     "execution_count": 10,
     "metadata": {
      "tags": []
     },
     "output_type": "execute_result"
    },
    {
     "data": {
      "image/png": "[encoded data removed]",
      "text/plain": [
       "<Figure size 432x288 with 1 Axes>"
      ]
     },
     "metadata": {
      "needs_background": "light",
      "tags": []
     },
     "output_type": "display_data"
    }
   ],
   "source": [
    "CD_loans['term'].value_counts().plot(kind = 'bar')"
   ]
  },
  {
   "cell_type": "code",
   "execution_count": 11,
   "metadata": {
    "id": "tOKHb70a36bX"
   },
   "outputs": [],
   "source": [
    "#begin importing the sklearn modules for transforming & feature scaling here \n",
    "#columns we are not looking at are issued date \n",
    "CD_loans = CD_loans[['annual_inc', 'application_type', 'dti', 'issue_d', 'earliest_cr_line', 'emp_length', 'fico_range_high', 'fico_range_low', 'funded_amnt', 'home_ownership', 'inq_fi', 'inq_last_12m', 'installment', 'int_rate', 'loan_amnt', 'open_acc', 'percent_bc_gt_75', 'pub_rec', 'pub_rec_bankruptcies', 'purpose', 'sub_grade', 'tax_liens', 'total_acc', 'revol_bal', 'delinq_amnt', 'delinq_2yrs', 'mths_since_last_delinq', 'mths_since_last_major_derog', 'loan_status']]"
   ]
  },
  {
   "cell_type": "code",
   "execution_count": 12,
   "metadata": {
    "colab": {
     "base_uri": "https://localhost:8080/"
    },
    "id": "0BYelEKW2IeY",
    "outputId": "fb05f68f-3ce2-4101-be5b-c9088a7d0f6c"
   },
   "outputs": [
    {
     "data": {
      "text/plain": [
       "annual_inc                     0.000006\n",
       "application_type               0.000000\n",
       "dti                            0.000202\n",
       "issue_d                        0.000000\n",
       "earliest_cr_line               0.000033\n",
       "emp_length                     0.056375\n",
       "fico_range_high                0.000000\n",
       "fico_range_low                 0.000000\n",
       "funded_amnt                    0.000000\n",
       "home_ownership                 0.000000\n",
       "inq_fi                         0.602951\n",
       "inq_last_12m                   0.602952\n",
       "installment                    0.000000\n",
       "int_rate                       0.000000\n",
       "loan_amnt                      0.000000\n",
       "open_acc                       0.000033\n",
       "percent_bc_gt_75               0.050621\n",
       "pub_rec                        0.000033\n",
       "pub_rec_bankruptcies           0.000734\n",
       "purpose                        0.000000\n",
       "sub_grade                      0.000000\n",
       "tax_liens                      0.000083\n",
       "total_acc                      0.000033\n",
       "revol_bal                      0.000000\n",
       "delinq_amnt                    0.000033\n",
       "delinq_2yrs                    0.000033\n",
       "mths_since_last_delinq         0.539490\n",
       "mths_since_last_major_derog    0.771193\n",
       "loan_status                    0.000000\n",
       "dtype: float64"
      ]
     },
     "execution_count": 12,
     "metadata": {
      "tags": []
     },
     "output_type": "execute_result"
    }
   ],
   "source": [
    "CD_loans.isna().mean()"
   ]
  },
  {
   "cell_type": "code",
   "execution_count": 13,
   "metadata": {
    "id": "xa46f9CpYEEk"
   },
   "outputs": [],
   "source": [
    "D = (pd.to_datetime(CD_loans['issue_d']) - pd.to_datetime(CD_loans['earliest_cr_line'])) / np.timedelta64(1, 'Y') \n",
    "CD_loans['cr_yeargap'] = D.round() "
   ]
  },
  {
   "cell_type": "code",
   "execution_count": 14,
   "metadata": {
    "id": "K4uwEWfdfaUW"
   },
   "outputs": [],
   "source": [
    "CD_loans['loan_status'] = CD_loans['loan_status'].str.replace(\"Default\", \"Charged Off\")"
   ]
  },
  {
   "cell_type": "code",
   "execution_count": 15,
   "metadata": {
    "id": "ys7W09y6f0Zh"
   },
   "outputs": [],
   "source": [
    "CD_loans['avg_fico_score'] = (CD_loans['fico_range_low'] + CD_loans['fico_range_high']) / 2"
   ]
  },
  {
   "cell_type": "code",
   "execution_count": 16,
   "metadata": {
    "id": "-giXzrCd6wU4"
   },
   "outputs": [],
   "source": [
    "CD_loans['mths_since_last_delinq'].fillna(-999, inplace = True) \n",
    "CD_loans['mths_since_last_major_derog'].fillna(-999, inplace = True) \n",
    "CD_loans['inq_fi'].fillna(-999, inplace = True)  \n",
    "CD_loans['inq_last_12m'].fillna(-999, inplace = True) \n",
    "CD_loans['percent_bc_gt_75'].fillna(-999, inplace = True)\n",
    "CD_loans['emp_length'].fillna(-999, inplace = True) \n",
    "CD_loans['dti'].fillna(-999, inplace = True) \n",
    "CD_loans['delinq_amnt'].fillna(-999, inplace = True) \n",
    "CD_loans['delinq_2yrs'].fillna(-999, inplace = True) \n",
    "CD_loans['cr_yeargap'].fillna(-999, inplace = True)\n",
    "CD_loans['tax_liens'].fillna(-999, inplace = True) \n",
    "CD_loans['pub_rec'].fillna(-999, inplace = True) \n",
    "CD_loans['pub_rec_bankruptcies'].fillna(-999, inplace = True) \n",
    "CD_loans['open_acc'].fillna(-999, inplace = True)"
   ]
  },
  {
   "cell_type": "code",
   "execution_count": 17,
   "metadata": {
    "id": "VPqLBC91-3pQ"
   },
   "outputs": [],
   "source": [
    "#CD_loans = CD_loans.drop('title', axis = 1)\n",
    "CD_loans['total_acc'].fillna(-999, inplace = True) \n",
    "CD_loans['earliest_cr_line'].fillna(-999, inplace = True) \n"
   ]
  },
  {
   "cell_type": "code",
   "execution_count": 18,
   "metadata": {
    "colab": {
     "base_uri": "https://localhost:8080/"
    },
    "id": "tWPf6kuO_GlW",
    "outputId": "bd464ae3-9d9c-47e7-a9c1-7262f2d920d1"
   },
   "outputs": [
    {
     "data": {
      "text/plain": [
       "annual_inc                     0\n",
       "application_type               0\n",
       "dti                            0\n",
       "issue_d                        0\n",
       "earliest_cr_line               0\n",
       "emp_length                     0\n",
       "fico_range_high                0\n",
       "fico_range_low                 0\n",
       "funded_amnt                    0\n",
       "home_ownership                 0\n",
       "inq_fi                         0\n",
       "inq_last_12m                   0\n",
       "installment                    0\n",
       "int_rate                       0\n",
       "loan_amnt                      0\n",
       "open_acc                       0\n",
       "percent_bc_gt_75               0\n",
       "pub_rec                        0\n",
       "pub_rec_bankruptcies           0\n",
       "purpose                        0\n",
       "sub_grade                      0\n",
       "tax_liens                      0\n",
       "total_acc                      0\n",
       "revol_bal                      0\n",
       "delinq_amnt                    0\n",
       "delinq_2yrs                    0\n",
       "mths_since_last_delinq         0\n",
       "mths_since_last_major_derog    0\n",
       "loan_status                    0\n",
       "cr_yeargap                     0\n",
       "avg_fico_score                 0\n",
       "dtype: int64"
      ]
     },
     "execution_count": 18,
     "metadata": {
      "tags": []
     },
     "output_type": "execute_result"
    }
   ],
   "source": [
    "CD_loans = CD_loans.dropna(subset= ['annual_inc'])\n",
    "CD_loans.isna().sum()"
   ]
  },
  {
   "cell_type": "code",
   "execution_count": 19,
   "metadata": {
    "id": "WO46HNm0fY0n"
   },
   "outputs": [],
   "source": [
    "CD_loans[['home_ownership', 'application_type', 'purpose', 'sub_grade']] =  CD_loans[['home_ownership', 'application_type', 'purpose', 'sub_grade']].astype('category')\n"
   ]
  },
  {
   "cell_type": "code",
   "execution_count": 20,
   "metadata": {
    "id": "wXAsaUxci2D-"
   },
   "outputs": [],
   "source": [
    "CD_loans['home_ownership_cat'] =  CD_loans['home_ownership'].cat.codes \n",
    "CD_loans['application_type_cat'] = CD_loans['application_type'].cat.codes \n",
    "CD_loans['purpose_cat'] = CD_loans['purpose'].cat.codes \n",
    "CD_loans['sub_grade_cat'] = CD_loans['sub_grade'].cat.codes"
   ]
  },
  {
   "cell_type": "code",
   "execution_count": 21,
   "metadata": {
    "colab": {
     "base_uri": "https://localhost:8080/",
     "height": 300
    },
    "id": "1YZ79evJp4sO",
    "outputId": "c4de6477-81bf-42f3-97e7-3a1972b07432"
   },
   "outputs": [
    {
     "data": {
      "text/html": [
       "<div>\n",
       "<style scoped>\n",
       "    .dataframe tbody tr th:only-of-type {\n",
       "        vertical-align: middle;\n",
       "    }\n",
       "\n",
       "    .dataframe tbody tr th {\n",
       "        vertical-align: top;\n",
       "    }\n",
       "\n",
       "    .dataframe thead th {\n",
       "        text-align: right;\n",
       "    }\n",
       "</style>\n",
       "<table border=\"1\" class=\"dataframe\">\n",
       "  <thead>\n",
       "    <tr style=\"text-align: right;\">\n",
       "      <th></th>\n",
       "      <th>annual_inc</th>\n",
       "      <th>application_type</th>\n",
       "      <th>dti</th>\n",
       "      <th>issue_d</th>\n",
       "      <th>earliest_cr_line</th>\n",
       "      <th>emp_length</th>\n",
       "      <th>fico_range_high</th>\n",
       "      <th>fico_range_low</th>\n",
       "      <th>funded_amnt</th>\n",
       "      <th>home_ownership</th>\n",
       "      <th>inq_fi</th>\n",
       "      <th>inq_last_12m</th>\n",
       "      <th>installment</th>\n",
       "      <th>int_rate</th>\n",
       "      <th>loan_amnt</th>\n",
       "      <th>open_acc</th>\n",
       "      <th>percent_bc_gt_75</th>\n",
       "      <th>pub_rec</th>\n",
       "      <th>pub_rec_bankruptcies</th>\n",
       "      <th>purpose</th>\n",
       "      <th>sub_grade</th>\n",
       "      <th>tax_liens</th>\n",
       "      <th>total_acc</th>\n",
       "      <th>revol_bal</th>\n",
       "      <th>delinq_amnt</th>\n",
       "      <th>delinq_2yrs</th>\n",
       "      <th>mths_since_last_delinq</th>\n",
       "      <th>mths_since_last_major_derog</th>\n",
       "      <th>loan_status</th>\n",
       "      <th>cr_yeargap</th>\n",
       "      <th>avg_fico_score</th>\n",
       "      <th>home_ownership_cat</th>\n",
       "      <th>application_type_cat</th>\n",
       "      <th>purpose_cat</th>\n",
       "      <th>sub_grade_cat</th>\n",
       "    </tr>\n",
       "  </thead>\n",
       "  <tbody>\n",
       "    <tr>\n",
       "      <th>2</th>\n",
       "      <td>63000.0</td>\n",
       "      <td>Joint App</td>\n",
       "      <td>10.78</td>\n",
       "      <td>Dec-2015</td>\n",
       "      <td>Aug-2000</td>\n",
       "      <td>10.0</td>\n",
       "      <td>699.0</td>\n",
       "      <td>695.0</td>\n",
       "      <td>20000.0</td>\n",
       "      <td>MORTGAGE</td>\n",
       "      <td>2.0</td>\n",
       "      <td>1.0</td>\n",
       "      <td>432.66</td>\n",
       "      <td>10.78</td>\n",
       "      <td>20000.0</td>\n",
       "      <td>6.0</td>\n",
       "      <td>50.0</td>\n",
       "      <td>0.0</td>\n",
       "      <td>0.0</td>\n",
       "      <td>home_improvement</td>\n",
       "      <td>B4</td>\n",
       "      <td>0.0</td>\n",
       "      <td>18.0</td>\n",
       "      <td>7869.0</td>\n",
       "      <td>0.0</td>\n",
       "      <td>0.0</td>\n",
       "      <td>-999.0</td>\n",
       "      <td>-999.0</td>\n",
       "      <td>Fully Paid</td>\n",
       "      <td>15.0</td>\n",
       "      <td>697.0</td>\n",
       "      <td>1</td>\n",
       "      <td>1</td>\n",
       "      <td>4</td>\n",
       "      <td>8</td>\n",
       "    </tr>\n",
       "    <tr>\n",
       "      <th>6</th>\n",
       "      <td>180000.0</td>\n",
       "      <td>Individual</td>\n",
       "      <td>14.67</td>\n",
       "      <td>Dec-2015</td>\n",
       "      <td>Jun-1990</td>\n",
       "      <td>10.0</td>\n",
       "      <td>684.0</td>\n",
       "      <td>680.0</td>\n",
       "      <td>20000.0</td>\n",
       "      <td>MORTGAGE</td>\n",
       "      <td>1.0</td>\n",
       "      <td>1.0</td>\n",
       "      <td>637.58</td>\n",
       "      <td>9.17</td>\n",
       "      <td>20000.0</td>\n",
       "      <td>12.0</td>\n",
       "      <td>100.0</td>\n",
       "      <td>0.0</td>\n",
       "      <td>0.0</td>\n",
       "      <td>debt_consolidation</td>\n",
       "      <td>B2</td>\n",
       "      <td>0.0</td>\n",
       "      <td>27.0</td>\n",
       "      <td>87329.0</td>\n",
       "      <td>0.0</td>\n",
       "      <td>0.0</td>\n",
       "      <td>49.0</td>\n",
       "      <td>-999.0</td>\n",
       "      <td>Fully Paid</td>\n",
       "      <td>26.0</td>\n",
       "      <td>682.0</td>\n",
       "      <td>1</td>\n",
       "      <td>0</td>\n",
       "      <td>2</td>\n",
       "      <td>6</td>\n",
       "    </tr>\n",
       "    <tr>\n",
       "      <th>7</th>\n",
       "      <td>85000.0</td>\n",
       "      <td>Individual</td>\n",
       "      <td>17.61</td>\n",
       "      <td>Dec-2015</td>\n",
       "      <td>Feb-1999</td>\n",
       "      <td>10.0</td>\n",
       "      <td>709.0</td>\n",
       "      <td>705.0</td>\n",
       "      <td>20000.0</td>\n",
       "      <td>MORTGAGE</td>\n",
       "      <td>1.0</td>\n",
       "      <td>2.0</td>\n",
       "      <td>631.26</td>\n",
       "      <td>8.49</td>\n",
       "      <td>20000.0</td>\n",
       "      <td>8.0</td>\n",
       "      <td>0.0</td>\n",
       "      <td>0.0</td>\n",
       "      <td>0.0</td>\n",
       "      <td>major_purchase</td>\n",
       "      <td>B1</td>\n",
       "      <td>0.0</td>\n",
       "      <td>15.0</td>\n",
       "      <td>826.0</td>\n",
       "      <td>0.0</td>\n",
       "      <td>1.0</td>\n",
       "      <td>3.0</td>\n",
       "      <td>3.0</td>\n",
       "      <td>Fully Paid</td>\n",
       "      <td>17.0</td>\n",
       "      <td>707.0</td>\n",
       "      <td>1</td>\n",
       "      <td>0</td>\n",
       "      <td>6</td>\n",
       "      <td>5</td>\n",
       "    </tr>\n",
       "    <tr>\n",
       "      <th>8</th>\n",
       "      <td>85000.0</td>\n",
       "      <td>Individual</td>\n",
       "      <td>13.07</td>\n",
       "      <td>Dec-2015</td>\n",
       "      <td>Apr-2002</td>\n",
       "      <td>6.0</td>\n",
       "      <td>689.0</td>\n",
       "      <td>685.0</td>\n",
       "      <td>10000.0</td>\n",
       "      <td>RENT</td>\n",
       "      <td>2.0</td>\n",
       "      <td>1.0</td>\n",
       "      <td>306.45</td>\n",
       "      <td>6.49</td>\n",
       "      <td>10000.0</td>\n",
       "      <td>14.0</td>\n",
       "      <td>28.6</td>\n",
       "      <td>1.0</td>\n",
       "      <td>1.0</td>\n",
       "      <td>credit_card</td>\n",
       "      <td>A2</td>\n",
       "      <td>0.0</td>\n",
       "      <td>23.0</td>\n",
       "      <td>10464.0</td>\n",
       "      <td>0.0</td>\n",
       "      <td>0.0</td>\n",
       "      <td>-999.0</td>\n",
       "      <td>-999.0</td>\n",
       "      <td>Fully Paid</td>\n",
       "      <td>14.0</td>\n",
       "      <td>687.0</td>\n",
       "      <td>5</td>\n",
       "      <td>0</td>\n",
       "      <td>1</td>\n",
       "      <td>1</td>\n",
       "    </tr>\n",
       "    <tr>\n",
       "      <th>9</th>\n",
       "      <td>42000.0</td>\n",
       "      <td>Individual</td>\n",
       "      <td>34.80</td>\n",
       "      <td>Dec-2015</td>\n",
       "      <td>Nov-1994</td>\n",
       "      <td>10.0</td>\n",
       "      <td>704.0</td>\n",
       "      <td>700.0</td>\n",
       "      <td>8000.0</td>\n",
       "      <td>MORTGAGE</td>\n",
       "      <td>0.0</td>\n",
       "      <td>1.0</td>\n",
       "      <td>263.74</td>\n",
       "      <td>11.48</td>\n",
       "      <td>8000.0</td>\n",
       "      <td>8.0</td>\n",
       "      <td>33.3</td>\n",
       "      <td>0.0</td>\n",
       "      <td>0.0</td>\n",
       "      <td>credit_card</td>\n",
       "      <td>B5</td>\n",
       "      <td>0.0</td>\n",
       "      <td>18.0</td>\n",
       "      <td>7034.0</td>\n",
       "      <td>0.0</td>\n",
       "      <td>0.0</td>\n",
       "      <td>75.0</td>\n",
       "      <td>75.0</td>\n",
       "      <td>Fully Paid</td>\n",
       "      <td>21.0</td>\n",
       "      <td>702.0</td>\n",
       "      <td>1</td>\n",
       "      <td>0</td>\n",
       "      <td>1</td>\n",
       "      <td>9</td>\n",
       "    </tr>\n",
       "  </tbody>\n",
       "</table>\n",
       "</div>"
      ],
      "text/plain": [
       "   annual_inc application_type  ...  purpose_cat sub_grade_cat\n",
       "2     63000.0        Joint App  ...            4             8\n",
       "6    180000.0       Individual  ...            2             6\n",
       "7     85000.0       Individual  ...            6             5\n",
       "8     85000.0       Individual  ...            1             1\n",
       "9     42000.0       Individual  ...            1             9\n",
       "\n",
       "[5 rows x 35 columns]"
      ]
     },
     "execution_count": 21,
     "metadata": {
      "tags": []
     },
     "output_type": "execute_result"
    }
   ],
   "source": [
    "CD_loans.head()"
   ]
  },
  {
   "cell_type": "code",
   "execution_count": 22,
   "metadata": {
    "id": "-DCdZmkJZJQR"
   },
   "outputs": [],
   "source": [
    "CD_loans['loan_status'] = (CD_loans[\"loan_status\"] == \"Charged Off\").astype(np.int)\n",
    "#CD_loans = CD_loans.drop(['issue_d', 'earliest_cr_line', 'loan_status', 'fico_range_high', 'fico_range_low', \n",
    "#                        'home_ownership', 'application_type', 'purpose', 'sub_grade'], axis = 1) "
   ]
  },
  {
   "cell_type": "code",
   "execution_count": 23,
   "metadata": {
    "colab": {
     "base_uri": "https://localhost:8080/",
     "height": 300
    },
    "id": "Ga0CkNcGuZGs",
    "outputId": "e45823db-9dda-4d1b-b013-64470a720f39"
   },
   "outputs": [
    {
     "data": {
      "text/html": [
       "<div>\n",
       "<style scoped>\n",
       "    .dataframe tbody tr th:only-of-type {\n",
       "        vertical-align: middle;\n",
       "    }\n",
       "\n",
       "    .dataframe tbody tr th {\n",
       "        vertical-align: top;\n",
       "    }\n",
       "\n",
       "    .dataframe thead th {\n",
       "        text-align: right;\n",
       "    }\n",
       "</style>\n",
       "<table border=\"1\" class=\"dataframe\">\n",
       "  <thead>\n",
       "    <tr style=\"text-align: right;\">\n",
       "      <th></th>\n",
       "      <th>annual_inc</th>\n",
       "      <th>application_type</th>\n",
       "      <th>dti</th>\n",
       "      <th>issue_d</th>\n",
       "      <th>earliest_cr_line</th>\n",
       "      <th>emp_length</th>\n",
       "      <th>fico_range_high</th>\n",
       "      <th>fico_range_low</th>\n",
       "      <th>funded_amnt</th>\n",
       "      <th>home_ownership</th>\n",
       "      <th>inq_fi</th>\n",
       "      <th>inq_last_12m</th>\n",
       "      <th>installment</th>\n",
       "      <th>int_rate</th>\n",
       "      <th>loan_amnt</th>\n",
       "      <th>open_acc</th>\n",
       "      <th>percent_bc_gt_75</th>\n",
       "      <th>pub_rec</th>\n",
       "      <th>pub_rec_bankruptcies</th>\n",
       "      <th>purpose</th>\n",
       "      <th>sub_grade</th>\n",
       "      <th>tax_liens</th>\n",
       "      <th>total_acc</th>\n",
       "      <th>revol_bal</th>\n",
       "      <th>delinq_amnt</th>\n",
       "      <th>delinq_2yrs</th>\n",
       "      <th>mths_since_last_delinq</th>\n",
       "      <th>mths_since_last_major_derog</th>\n",
       "      <th>loan_status</th>\n",
       "      <th>cr_yeargap</th>\n",
       "      <th>avg_fico_score</th>\n",
       "      <th>home_ownership_cat</th>\n",
       "      <th>application_type_cat</th>\n",
       "      <th>purpose_cat</th>\n",
       "      <th>sub_grade_cat</th>\n",
       "    </tr>\n",
       "  </thead>\n",
       "  <tbody>\n",
       "    <tr>\n",
       "      <th>2</th>\n",
       "      <td>63000.0</td>\n",
       "      <td>Joint App</td>\n",
       "      <td>10.78</td>\n",
       "      <td>Dec-2015</td>\n",
       "      <td>Aug-2000</td>\n",
       "      <td>10.0</td>\n",
       "      <td>699.0</td>\n",
       "      <td>695.0</td>\n",
       "      <td>20000.0</td>\n",
       "      <td>MORTGAGE</td>\n",
       "      <td>2.0</td>\n",
       "      <td>1.0</td>\n",
       "      <td>432.66</td>\n",
       "      <td>10.78</td>\n",
       "      <td>20000.0</td>\n",
       "      <td>6.0</td>\n",
       "      <td>50.0</td>\n",
       "      <td>0.0</td>\n",
       "      <td>0.0</td>\n",
       "      <td>home_improvement</td>\n",
       "      <td>B4</td>\n",
       "      <td>0.0</td>\n",
       "      <td>18.0</td>\n",
       "      <td>7869.0</td>\n",
       "      <td>0.0</td>\n",
       "      <td>0.0</td>\n",
       "      <td>-999.0</td>\n",
       "      <td>-999.0</td>\n",
       "      <td>0</td>\n",
       "      <td>15.0</td>\n",
       "      <td>697.0</td>\n",
       "      <td>1</td>\n",
       "      <td>1</td>\n",
       "      <td>4</td>\n",
       "      <td>8</td>\n",
       "    </tr>\n",
       "    <tr>\n",
       "      <th>6</th>\n",
       "      <td>180000.0</td>\n",
       "      <td>Individual</td>\n",
       "      <td>14.67</td>\n",
       "      <td>Dec-2015</td>\n",
       "      <td>Jun-1990</td>\n",
       "      <td>10.0</td>\n",
       "      <td>684.0</td>\n",
       "      <td>680.0</td>\n",
       "      <td>20000.0</td>\n",
       "      <td>MORTGAGE</td>\n",
       "      <td>1.0</td>\n",
       "      <td>1.0</td>\n",
       "      <td>637.58</td>\n",
       "      <td>9.17</td>\n",
       "      <td>20000.0</td>\n",
       "      <td>12.0</td>\n",
       "      <td>100.0</td>\n",
       "      <td>0.0</td>\n",
       "      <td>0.0</td>\n",
       "      <td>debt_consolidation</td>\n",
       "      <td>B2</td>\n",
       "      <td>0.0</td>\n",
       "      <td>27.0</td>\n",
       "      <td>87329.0</td>\n",
       "      <td>0.0</td>\n",
       "      <td>0.0</td>\n",
       "      <td>49.0</td>\n",
       "      <td>-999.0</td>\n",
       "      <td>0</td>\n",
       "      <td>26.0</td>\n",
       "      <td>682.0</td>\n",
       "      <td>1</td>\n",
       "      <td>0</td>\n",
       "      <td>2</td>\n",
       "      <td>6</td>\n",
       "    </tr>\n",
       "    <tr>\n",
       "      <th>7</th>\n",
       "      <td>85000.0</td>\n",
       "      <td>Individual</td>\n",
       "      <td>17.61</td>\n",
       "      <td>Dec-2015</td>\n",
       "      <td>Feb-1999</td>\n",
       "      <td>10.0</td>\n",
       "      <td>709.0</td>\n",
       "      <td>705.0</td>\n",
       "      <td>20000.0</td>\n",
       "      <td>MORTGAGE</td>\n",
       "      <td>1.0</td>\n",
       "      <td>2.0</td>\n",
       "      <td>631.26</td>\n",
       "      <td>8.49</td>\n",
       "      <td>20000.0</td>\n",
       "      <td>8.0</td>\n",
       "      <td>0.0</td>\n",
       "      <td>0.0</td>\n",
       "      <td>0.0</td>\n",
       "      <td>major_purchase</td>\n",
       "      <td>B1</td>\n",
       "      <td>0.0</td>\n",
       "      <td>15.0</td>\n",
       "      <td>826.0</td>\n",
       "      <td>0.0</td>\n",
       "      <td>1.0</td>\n",
       "      <td>3.0</td>\n",
       "      <td>3.0</td>\n",
       "      <td>0</td>\n",
       "      <td>17.0</td>\n",
       "      <td>707.0</td>\n",
       "      <td>1</td>\n",
       "      <td>0</td>\n",
       "      <td>6</td>\n",
       "      <td>5</td>\n",
       "    </tr>\n",
       "    <tr>\n",
       "      <th>8</th>\n",
       "      <td>85000.0</td>\n",
       "      <td>Individual</td>\n",
       "      <td>13.07</td>\n",
       "      <td>Dec-2015</td>\n",
       "      <td>Apr-2002</td>\n",
       "      <td>6.0</td>\n",
       "      <td>689.0</td>\n",
       "      <td>685.0</td>\n",
       "      <td>10000.0</td>\n",
       "      <td>RENT</td>\n",
       "      <td>2.0</td>\n",
       "      <td>1.0</td>\n",
       "      <td>306.45</td>\n",
       "      <td>6.49</td>\n",
       "      <td>10000.0</td>\n",
       "      <td>14.0</td>\n",
       "      <td>28.6</td>\n",
       "      <td>1.0</td>\n",
       "      <td>1.0</td>\n",
       "      <td>credit_card</td>\n",
       "      <td>A2</td>\n",
       "      <td>0.0</td>\n",
       "      <td>23.0</td>\n",
       "      <td>10464.0</td>\n",
       "      <td>0.0</td>\n",
       "      <td>0.0</td>\n",
       "      <td>-999.0</td>\n",
       "      <td>-999.0</td>\n",
       "      <td>0</td>\n",
       "      <td>14.0</td>\n",
       "      <td>687.0</td>\n",
       "      <td>5</td>\n",
       "      <td>0</td>\n",
       "      <td>1</td>\n",
       "      <td>1</td>\n",
       "    </tr>\n",
       "    <tr>\n",
       "      <th>9</th>\n",
       "      <td>42000.0</td>\n",
       "      <td>Individual</td>\n",
       "      <td>34.80</td>\n",
       "      <td>Dec-2015</td>\n",
       "      <td>Nov-1994</td>\n",
       "      <td>10.0</td>\n",
       "      <td>704.0</td>\n",
       "      <td>700.0</td>\n",
       "      <td>8000.0</td>\n",
       "      <td>MORTGAGE</td>\n",
       "      <td>0.0</td>\n",
       "      <td>1.0</td>\n",
       "      <td>263.74</td>\n",
       "      <td>11.48</td>\n",
       "      <td>8000.0</td>\n",
       "      <td>8.0</td>\n",
       "      <td>33.3</td>\n",
       "      <td>0.0</td>\n",
       "      <td>0.0</td>\n",
       "      <td>credit_card</td>\n",
       "      <td>B5</td>\n",
       "      <td>0.0</td>\n",
       "      <td>18.0</td>\n",
       "      <td>7034.0</td>\n",
       "      <td>0.0</td>\n",
       "      <td>0.0</td>\n",
       "      <td>75.0</td>\n",
       "      <td>75.0</td>\n",
       "      <td>0</td>\n",
       "      <td>21.0</td>\n",
       "      <td>702.0</td>\n",
       "      <td>1</td>\n",
       "      <td>0</td>\n",
       "      <td>1</td>\n",
       "      <td>9</td>\n",
       "    </tr>\n",
       "  </tbody>\n",
       "</table>\n",
       "</div>"
      ],
      "text/plain": [
       "   annual_inc application_type  ...  purpose_cat sub_grade_cat\n",
       "2     63000.0        Joint App  ...            4             8\n",
       "6    180000.0       Individual  ...            2             6\n",
       "7     85000.0       Individual  ...            6             5\n",
       "8     85000.0       Individual  ...            1             1\n",
       "9     42000.0       Individual  ...            1             9\n",
       "\n",
       "[5 rows x 35 columns]"
      ]
     },
     "execution_count": 23,
     "metadata": {
      "tags": []
     },
     "output_type": "execute_result"
    }
   ],
   "source": [
    "CD_loans.head()"
   ]
  },
  {
   "cell_type": "code",
   "execution_count": 24,
   "metadata": {
    "id": "WbPpC6ZMLjIB"
   },
   "outputs": [],
   "source": [
    "CD_loans = CD_loans.drop(['issue_d', 'earliest_cr_line', 'fico_range_high', 'fico_range_low', \n",
    "                        'home_ownership', 'application_type', 'purpose', 'sub_grade'], axis = 1) "
   ]
  },
  {
   "cell_type": "code",
   "execution_count": 25,
   "metadata": {
    "id": "Rhp1U8ZvSM_O"
   },
   "outputs": [],
   "source": [
    "from sklearn.model_selection import train_test_split, cross_val_score  \n",
    "\n",
    "train_data, test_data = train_test_split(CD_loans, train_size = 0.7, test_size= 0.3, random_state = 42, stratify= CD_loans['sub_grade_cat'])"
   ]
  },
  {
   "cell_type": "code",
   "execution_count": 26,
   "metadata": {
    "colab": {
     "base_uri": "https://localhost:8080/"
    },
    "id": "vA2ydux5YKXI",
    "outputId": "23641e56-5ddc-4156-d29f-f485d8d20b55"
   },
   "outputs": [
    {
     "data": {
      "text/plain": [
       "46785"
      ]
     },
     "execution_count": 26,
     "metadata": {
      "tags": []
     },
     "output_type": "execute_result"
    }
   ],
   "source": [
    "train_data['loan_status'].sum()"
   ]
  },
  {
   "cell_type": "code",
   "execution_count": 27,
   "metadata": {
    "colab": {
     "base_uri": "https://localhost:8080/"
    },
    "id": "aU22SbXNYrtf",
    "outputId": "d435eb1f-1c26-43dc-b957-79d62965b5da"
   },
   "outputs": [
    {
     "data": {
      "text/plain": [
       "(439803, 27)"
      ]
     },
     "execution_count": 27,
     "metadata": {
      "tags": []
     },
     "output_type": "execute_result"
    }
   ],
   "source": [
    "train_data.shape"
   ]
  },
  {
   "cell_type": "code",
   "execution_count": 71,
   "metadata": {
    "colab": {
     "base_uri": "https://localhost:8080/"
    },
    "id": "gUei39xiKv6U",
    "outputId": "f598745c-d805-4d44-fc87-fd237a18fe8a"
   },
   "outputs": [
    {
     "data": {
      "text/plain": [
       "9    20000\n",
       "8    20000\n",
       "7    20000\n",
       "6    20000\n",
       "5    20000\n",
       "4    20000\n",
       "3    20000\n",
       "2    20000\n",
       "1    20000\n",
       "0    20000\n",
       "Name: sub_grade_cat, dtype: int64"
      ]
     },
     "execution_count": 71,
     "metadata": {
      "tags": []
     },
     "output_type": "execute_result"
    }
   ],
   "source": [
    "from sklearn.utils import resample \n",
    "\n",
    "train_0 = train_data[train_data.sub_grade_cat == 0]\n",
    "train_1 = train_data[train_data.sub_grade_cat == 1]\n",
    "train_2 = train_data[train_data.sub_grade_cat == 2]\n",
    "train_3 = train_data[train_data.sub_grade_cat == 3]\n",
    "train_4 = train_data[train_data.sub_grade_cat == 4]\n",
    "train_5 = train_data[train_data.sub_grade_cat == 5]\n",
    "train_6 = train_data[train_data.sub_grade_cat == 6]\n",
    "train_7 = train_data[train_data.sub_grade_cat == 7]\n",
    "train_8 = train_data[train_data.sub_grade_cat == 8]\n",
    "train_9 = train_data[train_data.sub_grade_cat == 9]\n",
    "\n",
    "train_0_re = resample(train_0, replace = False, n_samples = 20000, random_state = 42)\n",
    "train_1_re = resample(train_1, replace = False, n_samples = 20000, random_state = 42)\n",
    "train_2_re = resample(train_2, replace = False, n_samples = 20000, random_state = 42)\n",
    "train_3_re = resample(train_3, replace = False, n_samples = 20000, random_state = 42)\n",
    "train_4_re = resample(train_4, replace = False, n_samples = 20000, random_state = 42)\n",
    "train_5_re = resample(train_5, replace = False, n_samples = 20000, random_state = 42)\n",
    "train_6_re = resample(train_6, replace = False, n_samples = 20000, random_state = 42)\n",
    "train_7_re = resample(train_7, replace = False, n_samples = 20000, random_state = 42)\n",
    "train_8_re = resample(train_8, replace = False, n_samples = 20000, random_state = 42)\n",
    "train_9_re = resample(train_9, replace = False, n_samples = 20000, random_state = 42)  \n",
    "\n",
    "train_0_re['loan_status']\n",
    "\n",
    "train_data_re = pd.concat([train_0_re, train_1_re, train_2_re, train_3_re, train_4_re, train_5_re, train_6_re, train_7_re, train_8_re, train_9_re])\n",
    "\n",
    "train_data_re['sub_grade_cat'].value_counts()"
   ]
  },
  {
   "cell_type": "code",
   "execution_count": 84,
   "metadata": {
    "colab": {
     "base_uri": "https://localhost:8080/"
    },
    "id": "03nXsyIVW-cs",
    "outputId": "5dffd71e-7993-48d0-a6fa-089643bc90dc"
   },
   "outputs": [
    {
     "data": {
      "text/plain": [
       "19364"
      ]
     },
     "execution_count": 84,
     "metadata": {
      "tags": []
     },
     "output_type": "execute_result"
    }
   ],
   "source": [
    "train_0_re['loan_status'].value_counts()[0] "
   ]
  },
  {
   "cell_type": "code",
   "execution_count": 87,
   "metadata": {
    "colab": {
     "base_uri": "https://localhost:8080/"
    },
    "id": "aJefBgomULsF",
    "outputId": "7ab7cee6-3c46-4f54-ec42-a2fcbbb6312d"
   },
   "outputs": [
    {
     "data": {
      "text/plain": [
       "(38728, 27)"
      ]
     },
     "execution_count": 87,
     "metadata": {
      "tags": []
     },
     "output_type": "execute_result"
    }
   ],
   "source": [
    "train_0_re['loan_status'].value_counts() \n",
    "prac_D = train_0_re.loc[train_0_re.loan_status == 1] \n",
    "prac_F = train_0_re.loc[train_0_re.loan_status == 0] \n",
    "D = resample(prac_D, replace = True, n_samples = train_0_re['loan_status'].value_counts()[0]) \n",
    "DF = pd.concat([D, prac_F]) \n",
    "DF['loan_status'].value_counts"
   ]
  },
  {
   "cell_type": "code",
   "execution_count": 147,
   "metadata": {
    "id": "sdDBCbrobcYa"
   },
   "outputs": [],
   "source": [
    "train_0_min = train_0_re.loc[train_0_re.loan_status == 1] \n",
    "train_0_maj = train_0_re.loc[train_0_re.loan_status == 0] \n",
    "train_0_min_up = resample(train_0_min, replace = True, n_samples = train_0_re['loan_status'].value_counts()[0]) \n",
    "train_0_reup = pd.concat([train_0_min_up, train_0_maj])  \n",
    "\n",
    "train_1_min = train_1_re.loc[train_1_re.loan_status == 1] \n",
    "train_1_maj = train_1_re.loc[train_1_re.loan_status == 0] \n",
    "train_1_min_up = resample(train_1_min, replace = True, n_samples = train_1_re['loan_status'].value_counts()[0]) \n",
    "train_1_reup = pd.concat([train_1_min_up, train_1_maj])\n",
    "\n",
    "train_2_min = train_2_re.loc[train_2_re.loan_status == 1] \n",
    "train_2_maj = train_2_re.loc[train_2_re.loan_status == 0] \n",
    "train_2_min_up = resample(train_2_min, replace = True, n_samples = train_2_re['loan_status'].value_counts()[0]) \n",
    "train_2_reup = pd.concat([train_2_min_up, train_2_maj])\n",
    "\n",
    "train_3_min = train_3_re.loc[train_3_re.loan_status == 1] \n",
    "train_3_maj = train_3_re.loc[train_3_re.loan_status == 0] \n",
    "train_3_min_up = resample(train_3_min, replace = True, n_samples = train_3_re['loan_status'].value_counts()[0]) \n",
    "train_3_reup = pd.concat([train_3_min_up, train_3_maj])\n",
    "\n",
    "train_4_min = train_4_re.loc[train_4_re.loan_status == 1] \n",
    "train_4_maj = train_4_re.loc[train_4_re.loan_status == 0] \n",
    "train_4_min_up = resample(train_4_min, replace = True, n_samples = train_4_re['loan_status'].value_counts()[0]) \n",
    "train_4_reup = pd.concat([train_4_min_up, train_4_maj])\n",
    "\n",
    "train_5_min = train_5_re.loc[train_5_re.loan_status == 1] \n",
    "train_5_maj = train_5_re.loc[train_5_re.loan_status == 0] \n",
    "train_5_min_up = resample(train_5_min, replace = True, n_samples = train_5_re['loan_status'].value_counts()[0]) \n",
    "train_5_reup = pd.concat([train_5_min_up, train_5_maj]) \n",
    "\n",
    "\n",
    "train_6_min = train_6_re.loc[train_6_re.loan_status == 1] \n",
    "train_6_maj = train_6_re.loc[train_6_re.loan_status == 0] \n",
    "train_6_min_up = resample(train_6_min, replace = True, n_samples = train_6_re['loan_status'].value_counts()[0]) \n",
    "train_6_reup = pd.concat([train_6_min_up, train_6_maj])\n",
    "\n",
    "train_7_min = train_7_re.loc[train_7_re.loan_status == 1] \n",
    "train_7_maj = train_7_re.loc[train_7_re.loan_status == 0] \n",
    "train_7_min_up = resample(train_7_min, replace = True, n_samples = train_7_re['loan_status'].value_counts()[0]) \n",
    "train_7_reup = pd.concat([train_7_min_up, train_7_maj])\n",
    "\n",
    "train_8_min = train_8_re.loc[train_8_re.loan_status == 1] \n",
    "train_8_maj = train_8_re.loc[train_8_re.loan_status == 0] \n",
    "train_8_min_up = resample(train_8_min, replace = True, n_samples = train_8_re['loan_status'].value_counts()[0]) \n",
    "train_8_reup = pd.concat([train_8_min_up, train_8_maj])\n",
    "\n",
    "train_9_min = train_9_re.loc[train_9_re.loan_status == 1] \n",
    "train_9_maj = train_9_re.loc[train_9_re.loan_status == 0] \n",
    "train_9_min_up = resample(train_9_min, replace = True, n_samples = train_9_re['loan_status'].value_counts()[0]) \n",
    "train_9_reup = pd.concat([train_9_min_up, train_9_maj])"
   ]
  },
  {
   "cell_type": "code",
   "execution_count": 148,
   "metadata": {
    "id": "yeo_zYPS4Q5d"
   },
   "outputs": [],
   "source": [
    "train_data_upd = pd.concat([train_0_reup, train_1_reup, train_2_reup, train_3_reup, train_4_reup, train_5_reup, train_6_reup, train_7_reup, train_8_reup, train_9_reup])"
   ]
  },
  {
   "cell_type": "code",
   "execution_count": 149,
   "metadata": {
    "colab": {
     "base_uri": "https://localhost:8080/"
    },
    "id": "ZGYUNpVh5lvP",
    "outputId": "ed228fdf-270c-4229-e032-1156608dc228"
   },
   "outputs": [
    {
     "data": {
      "text/plain": [
       "sub_grade_cat  loan_status\n",
       "0              0              19364\n",
       "               1              19364\n",
       "1              0              19063\n",
       "               1              19063\n",
       "2              0              18901\n",
       "               1              18901\n",
       "3              0              18691\n",
       "               1              18691\n",
       "4              0              18279\n",
       "               1              18279\n",
       "5              0              17880\n",
       "               1              17880\n",
       "6              0              17704\n",
       "               1              17704\n",
       "7              0              17419\n",
       "               1              17419\n",
       "8              0              16968\n",
       "               1              16968\n",
       "9              0              16650\n",
       "               1              16650\n",
       "Name: loan_status, dtype: int64"
      ]
     },
     "execution_count": 149,
     "metadata": {
      "tags": []
     },
     "output_type": "execute_result"
    }
   ],
   "source": [
    "train_data_upd.groupby('sub_grade_cat')['loan_status'].value_counts()"
   ]
  },
  {
   "cell_type": "code",
   "execution_count": 150,
   "metadata": {
    "colab": {
     "base_uri": "https://localhost:8080/"
    },
    "id": "6BQlfltvIDXB",
    "outputId": "a204e1a9-b7c1-4e6b-a0eb-3f25f2dda606"
   },
   "outputs": [
    {
     "data": {
      "text/plain": [
       "1    17419\n",
       "0    17419\n",
       "Name: loan_status, dtype: int64"
      ]
     },
     "execution_count": 150,
     "metadata": {
      "tags": []
     },
     "output_type": "execute_result"
    }
   ],
   "source": [
    "train_7_reup['loan_status'].value_counts()"
   ]
  },
  {
   "cell_type": "code",
   "execution_count": 146,
   "metadata": {
    "colab": {
     "base_uri": "https://localhost:8080/"
    },
    "id": "aviLaS0QInaU",
    "outputId": "7f083d3b-0cbc-42bd-c1df-d982bec613c2"
   },
   "outputs": [
    {
     "data": {
      "text/plain": [
       "2581"
      ]
     },
     "execution_count": 146,
     "metadata": {
      "tags": []
     },
     "output_type": "execute_result"
    }
   ],
   "source": [
    "train_7_min['loan_status'].sum()"
   ]
  },
  {
   "cell_type": "code",
   "execution_count": 102,
   "metadata": {
    "colab": {
     "base_uri": "https://localhost:8080/"
    },
    "id": "Xp1Wk0CC4vkR",
    "outputId": "8952f5b6-f661-41c4-bbf3-aea8f64fdc4f"
   },
   "outputs": [
    {
     "data": {
      "text/plain": [
       "1    180919\n",
       "0    180919\n",
       "Name: loan_status, dtype: int64"
      ]
     },
     "execution_count": 102,
     "metadata": {
      "tags": []
     },
     "output_type": "execute_result"
    }
   ],
   "source": [
    "D['loan_status'].value_counts()"
   ]
  },
  {
   "cell_type": "code",
   "execution_count": 151,
   "metadata": {
    "id": "5GDsEqfk6F1t"
   },
   "outputs": [],
   "source": [
    "#Final resampling \n",
    "#We have made the upsampled dataset now we have to go about resampling again with respect to each sub grade to ensure the same amount \n",
    "\n",
    "#making the sub_group datasets\n",
    "train_0_upd = train_data_upd.loc[train_data_upd.sub_grade_cat == 0]\n",
    "train_1_upd = train_data_upd.loc[train_data_upd.sub_grade_cat == 1]\n",
    "train_2_upd = train_data_upd.loc[train_data_upd.sub_grade_cat == 2]\n",
    "train_3_upd = train_data_upd.loc[train_data_upd.sub_grade_cat == 3]\n",
    "train_4_upd = train_data_upd.loc[train_data_upd.sub_grade_cat == 4]\n",
    "train_5_upd = train_data_upd.loc[train_data_upd.sub_grade_cat == 5]\n",
    "train_6_upd = train_data_upd.loc[train_data_upd.sub_grade_cat == 6]\n",
    "train_7_upd = train_data_upd.loc[train_data_upd.sub_grade_cat == 7]\n",
    "train_8_upd = train_data_upd.loc[train_data_upd.sub_grade_cat == 8]\n",
    "train_9_upd = train_data_upd.loc[train_data_upd.sub_grade_cat == 9] \n",
    "\n",
    "\n",
    "\n",
    "#Taking 15000 samples from each sub grade group from each loan status \n",
    "train_0_min = train_0_upd.loc[train_0_upd.loan_status == 1] \n",
    "train_0_maj = train_0_upd.loc[train_0_upd.loan_status == 0] \n",
    "train_0_mins = resample(train_0_min, replace = False, n_samples = 15000)  \n",
    "train_0_majs = resample(train_0_maj, replace = False, n_samples = 15000 )\n",
    "train_0_scaled = pd.concat([train_0_mins, train_0_majs])   \n",
    "\n",
    "train_1_min = train_1_upd.loc[train_1_upd.loan_status == 1] \n",
    "train_1_maj = train_1_upd.loc[train_1_upd.loan_status == 0] \n",
    "train_1_mins = resample(train_1_min, replace = False, n_samples = 15000)  \n",
    "train_1_majs = resample(train_1_maj, replace = False, n_samples = 15000 )\n",
    "train_1_scaled = pd.concat([train_1_mins, train_1_majs]) \n",
    "\n",
    "train_2_min = train_2_upd.loc[train_2_upd.loan_status == 1] \n",
    "train_2_maj = train_2_upd.loc[train_2_upd.loan_status == 0] \n",
    "train_2_mins = resample(train_2_min, replace = False, n_samples = 15000)  \n",
    "train_2_majs = resample(train_2_maj, replace = False, n_samples = 15000 )\n",
    "train_2_scaled = pd.concat([train_2_mins, train_2_majs]) \n",
    "\n",
    "train_3_min = train_3_upd.loc[train_3_upd.loan_status == 1] \n",
    "train_3_maj = train_3_upd.loc[train_3_upd.loan_status == 0] \n",
    "train_3_mins = resample(train_3_min, replace = False, n_samples = 15000)  \n",
    "train_3_majs = resample(train_3_maj, replace = False, n_samples = 15000 )\n",
    "train_3_scaled = pd.concat([train_3_mins, train_3_majs]) \n",
    "\n",
    "train_4_min = train_4_upd.loc[train_4_upd.loan_status == 1] \n",
    "train_4_maj = train_4_upd.loc[train_4_upd.loan_status == 0] \n",
    "train_4_mins = resample(train_4_min, replace = False, n_samples = 15000)  \n",
    "train_4_majs = resample(train_4_maj, replace = False, n_samples = 15000 )\n",
    "train_4_scaled = pd.concat([train_4_mins, train_4_majs]) \n",
    "\n",
    "train_5_min = train_5_upd.loc[train_5_upd.loan_status == 1] \n",
    "train_5_maj = train_5_upd.loc[train_5_upd.loan_status == 0] \n",
    "train_5_mins = resample(train_5_min, replace = False, n_samples = 15000)  \n",
    "train_5_majs = resample(train_5_maj, replace = False, n_samples = 15000 )\n",
    "train_5_scaled = pd.concat([train_5_mins, train_5_majs]) \n",
    "\n",
    "train_6_min = train_6_upd.loc[train_6_upd.loan_status == 1] \n",
    "train_6_maj = train_6_upd.loc[train_6_upd.loan_status == 0] \n",
    "train_6_mins = resample(train_6_min, replace = False, n_samples = 15000)  \n",
    "train_6_majs = resample(train_6_maj, replace = False, n_samples = 15000 )\n",
    "train_6_scaled = pd.concat([train_6_mins, train_6_majs]) \n",
    "\n",
    "train_7_min = train_7_upd.loc[train_7_upd.loan_status == 1] \n",
    "train_7_maj = train_7_upd.loc[train_7_upd.loan_status == 0] \n",
    "train_7_mins = resample(train_7_min, replace = False, n_samples = 15000)  \n",
    "train_7_majs = resample(train_7_maj, replace = False, n_samples = 15000 )\n",
    "train_7_scaled = pd.concat([train_7_mins, train_7_majs]) \n",
    "\n",
    "train_8_min = train_8_upd.loc[train_8_upd.loan_status == 1] \n",
    "train_8_maj = train_8_upd.loc[train_8_upd.loan_status == 0] \n",
    "train_8_mins = resample(train_8_min, replace = False, n_samples = 15000)  \n",
    "train_8_majs = resample(train_8_maj, replace = False, n_samples = 15000 )\n",
    "train_8_scaled = pd.concat([train_8_mins, train_8_majs]) \n",
    "\n",
    "train_9_min = train_9_upd.loc[train_9_upd.loan_status == 1] \n",
    "train_9_maj = train_9_upd.loc[train_9_upd.loan_status == 0] \n",
    "train_9_mins = resample(train_9_min, replace = False, n_samples = 15000)  \n",
    "train_9_majs = resample(train_9_maj, replace = False, n_samples = 15000 )\n",
    "train_9_scaled = pd.concat([train_9_mins, train_9_majs]) \n",
    "\n",
    "train_data_scaled = pd.concat([train_0_scaled, train_1_scaled, train_2_scaled, train_3_scaled, train_4_scaled, train_5_scaled, train_6_scaled, train_7_scaled, train_8_scaled, train_9_scaled])"
   ]
  },
  {
   "cell_type": "code",
   "execution_count": 153,
   "metadata": {
    "colab": {
     "base_uri": "https://localhost:8080/"
    },
    "id": "Eg3yoV5I7e0h",
    "outputId": "b1dbb528-eb97-4948-996c-598920cebb30"
   },
   "outputs": [
    {
     "data": {
      "text/plain": [
       "9    30000\n",
       "8    30000\n",
       "7    30000\n",
       "6    30000\n",
       "5    30000\n",
       "4    30000\n",
       "3    30000\n",
       "2    30000\n",
       "1    30000\n",
       "0    30000\n",
       "Name: sub_grade_cat, dtype: int64"
      ]
     },
     "execution_count": 153,
     "metadata": {
      "tags": []
     },
     "output_type": "execute_result"
    }
   ],
   "source": [
    "train_data_scaled['sub_grade_cat'].value_counts()"
   ]
  },
  {
   "cell_type": "code",
   "execution_count": 154,
   "metadata": {
    "id": "QwScllzHJ32D"
   },
   "outputs": [],
   "source": [
    "train_feats = train_data_scaled.drop('loan_status', axis = 1)\n",
    "train_labels = train_data_scaled['loan_status']"
   ]
  },
  {
   "cell_type": "code",
   "execution_count": 156,
   "metadata": {
    "colab": {
     "base_uri": "https://localhost:8080/"
    },
    "id": "kjq6va96kNfj",
    "outputId": "38e6d6fb-b6b1-406b-8847-dee9afdda39a"
   },
   "outputs": [
    {
     "name": "stdout",
     "output_type": "stream",
     "text": [
      "CPU times: user 3min 9s, sys: 149 ms, total: 3min 9s\n",
      "Wall time: 3min 10s\n"
     ]
    },
    {
     "data": {
      "text/plain": [
       "array([0.63972766, 0.5803009 , 0.57195929])"
      ]
     },
     "execution_count": 156,
     "metadata": {
      "tags": []
     },
     "output_type": "execute_result"
    }
   ],
   "source": [
    "from sklearn.ensemble import GradientBoostingClassifier \n",
    "from sklearn.model_selection import cross_val_score \n",
    "GBC = GradientBoostingClassifier() \n",
    "%time cross_val_score(GBC, train_feats, train_labels, cv = 3, scoring='precision')"
   ]
  },
  {
   "cell_type": "code",
   "execution_count": 160,
   "metadata": {
    "colab": {
     "base_uri": "https://localhost:8080/"
    },
    "id": "1c3rJpAskdck",
    "outputId": "e01035f7-dbef-4e86-ff36-78399d7ee4a2"
   },
   "outputs": [
    {
     "name": "stdout",
     "output_type": "stream",
     "text": [
      "CPU times: user 5min 45s, sys: 591 ms, total: 5min 46s\n",
      "Wall time: 5min 47s\n"
     ]
    },
    {
     "data": {
      "text/plain": [
       "array([0.52824667, 0.5295    ])"
      ]
     },
     "execution_count": 160,
     "metadata": {
      "tags": []
     },
     "output_type": "execute_result"
    }
   ],
   "source": [
    "GBC = GradientBoostingClassifier(learning_rate=0.2, n_estimators=500, max_depth=4, subsample=0.5) \n",
    "\n",
    "%time cross_val_score(GBC, train_feats, train_labels, cv = 2, scoring='accuracy')"
   ]
  },
  {
   "cell_type": "code",
   "execution_count": 50,
   "metadata": {
    "colab": {
     "base_uri": "https://localhost:8080/"
    },
    "id": "epZp1LkLNIuc",
    "outputId": "665605a1-3ab7-462a-abb2-6edb7fbcb515"
   },
   "outputs": [
    {
     "name": "stdout",
     "output_type": "stream",
     "text": [
      "CPU times: user 13min 16s, sys: 3.85 s, total: 13min 20s\n",
      "Wall time: 13min 21s\n"
     ]
    },
    {
     "data": {
      "text/plain": [
       "array([0.63142033, 0.62725232, 0.62949663])"
      ]
     },
     "execution_count": 50,
     "metadata": {
      "tags": []
     },
     "output_type": "execute_result"
    }
   ],
   "source": [
    "GBC = GradientBoostingClassifier(learning_rate=0.1, n_estimators=8000, max_depth=2, subsample=0.3, max_features=10) \n",
    "%time cross_val_score(GBC, train_feats, train_labels, cv = 3, scoring='recall')"
   ]
  },
  {
   "cell_type": "code",
   "execution_count": null,
   "metadata": {
    "id": "6RswKmt-Cuxm"
   },
   "outputs": [],
   "source": [
    "test_feats = test_data.drop('loan_status', axis = 1) \n",
    "test_labels = test_data['loan_status']"
   ]
  },
  {
   "cell_type": "code",
   "execution_count": 162,
   "metadata": {
    "colab": {
     "base_uri": "https://localhost:8080/"
    },
    "id": "6ELyY5vfLPZJ",
    "outputId": "44cc2eaf-573e-407b-bdc6-2a0f4909ae5c"
   },
   "outputs": [
    {
     "name": "stdout",
     "output_type": "stream",
     "text": [
      "CPU times: user 3min 6s, sys: 475 ms, total: 3min 6s\n",
      "Wall time: 3min 7s\n"
     ]
    },
    {
     "data": {
      "text/plain": [
       "GradientBoostingClassifier(ccp_alpha=0.0, criterion='friedman_mse', init=None,\n",
       "                           learning_rate=0.2, loss='deviance', max_depth=2,\n",
       "                           max_features=15, max_leaf_nodes=None,\n",
       "                           min_impurity_decrease=0.0, min_impurity_split=None,\n",
       "                           min_samples_leaf=1, min_samples_split=2,\n",
       "                           min_weight_fraction_leaf=0.0, n_estimators=500,\n",
       "                           n_iter_no_change=None, presort='deprecated',\n",
       "                           random_state=None, subsample=0.8, tol=0.0001,\n",
       "                           validation_fraction=0.1, verbose=0,\n",
       "                           warm_start=False)"
      ]
     },
     "execution_count": 162,
     "metadata": {
      "tags": []
     },
     "output_type": "execute_result"
    }
   ],
   "source": [
    "GBC = GradientBoostingClassifier(learning_rate=0.2, n_estimators=500, max_depth=2, subsample=0.8, max_features=15) \n",
    "%time GBC.fit(train_feats, train_labels) "
   ]
  },
  {
   "cell_type": "code",
   "execution_count": 165,
   "metadata": {
    "colab": {
     "base_uri": "https://localhost:8080/"
    },
    "id": "u6M2scqBhWvZ",
    "outputId": "e9ec3142-9ca3-453a-b5ef-2db540fcd88d"
   },
   "outputs": [
    {
     "data": {
      "text/plain": [
       "0.6131477865964942"
      ]
     },
     "execution_count": 165,
     "metadata": {
      "tags": []
     },
     "output_type": "execute_result"
    }
   ],
   "source": [
    "GBC.score(train_feats, train_labels)\n",
    "GBC.score(test_feats, test_labels)"
   ]
  },
  {
   "cell_type": "code",
   "execution_count": 56,
   "metadata": {
    "id": "QMy5iSAoKMpC"
   },
   "outputs": [],
   "source": [
    "#Looking at XGBoost"
   ]
  },
  {
   "cell_type": "code",
   "execution_count": 169,
   "metadata": {
    "colab": {
     "base_uri": "https://localhost:8080/"
    },
    "id": "yww9Jx46nCHa",
    "outputId": "fd634e36-6e63-47c2-864d-b9cf9c6fef61"
   },
   "outputs": [
    {
     "name": "stdout",
     "output_type": "stream",
     "text": [
      "CPU times: user 4min 38s, sys: 192 ms, total: 4min 39s\n",
      "Wall time: 4min 39s\n"
     ]
    },
    {
     "data": {
      "text/plain": [
       "array([0.53083333, 0.54286   ])"
      ]
     },
     "execution_count": 169,
     "metadata": {
      "tags": []
     },
     "output_type": "execute_result"
    }
   ],
   "source": [
    "import xgboost as xgb \n",
    "xgb_clf = xgb.XGBClassifier(n_estimators = 1000, learning_rate= 0.15, random_state= 42)  \n",
    "\n",
    "%time cross_val_score(xgb_clf, train_feats, train_labels, cv = 2, scoring= 'accuracy')"
   ]
  }
 ],
 "metadata": {
  "colab": {
   "collapsed_sections": [],
   "name": "GradientBoostModel.ipynb",
   "provenance": []
  },
  "kernelspec": {
   "display_name": "Python 3",
   "language": "python",
   "name": "python3"
  },
  "language_info": {
   "codemirror_mode": {
    "name": "ipython",
    "version": 3
   },
   "file_extension": ".py",
   "mimetype": "text/x-python",
   "name": "python",
   "nbconvert_exporter": "python",
   "pygments_lexer": "ipython3",
   "version": "3.7.6"
  }
 },
 "nbformat": 4,
 "nbformat_minor": 1
}
