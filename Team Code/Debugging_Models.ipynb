{
 "cells": [
  {
   "cell_type": "code",
   "execution_count": null,
   "metadata": {
    "id": "j8_bIMLt_cC3"
   },
   "outputs": [],
   "source": [
    "import pandas as pd\n",
    "from sklearn.model_selection import train_test_split\n",
    "from sklearn import tree\n",
    "from sklearn.metrics import confusion_matrix, SCORERS, classification_report\n",
    "import numpy as np"
   ]
  },
  {
   "cell_type": "code",
   "execution_count": null,
   "metadata": {
    "id": "ZU0X5_PG_qt0"
   },
   "outputs": [],
   "source": [
    "featuresCD = pd.read_csv(\"/content/drive/MyDrive/NYC DSA Capstone Project/Data/featuresCD.csv\", low_memory = False)\n",
    "featuresCD.drop([\"Unnamed: 0\"], axis = 1, inplace = True)\n",
    "featuresCD"
   ]
  },
  {
   "cell_type": "code",
   "execution_count": null,
   "metadata": {
    "id": "PbmBqZDGJakc"
   },
   "outputs": [],
   "source": [
    "featuresCD.columns"
   ]
  },
  {
   "cell_type": "code",
   "execution_count": null,
   "metadata": {
    "id": "oQFXtNaP_x8z"
   },
   "outputs": [],
   "source": [
    "data = featuresCD.iloc[:, 1:]\n",
    "target = featuresCD.iloc[:, 0]"
   ]
  },
  {
   "cell_type": "code",
   "execution_count": null,
   "metadata": {
    "id": "TLIp2No7_3RH"
   },
   "outputs": [],
   "source": [
    "data"
   ]
  },
  {
   "cell_type": "code",
   "execution_count": null,
   "metadata": {
    "id": "owjQIWnO_4o0"
   },
   "outputs": [],
   "source": [
    "target"
   ]
  },
  {
   "cell_type": "code",
   "execution_count": null,
   "metadata": {
    "id": "N_z1CpIt_77F"
   },
   "outputs": [],
   "source": [
    "X_train, X_test, y_train, y_test = train_test_split(data, target, test_size = 0.3, stratify = target, shuffle = True)"
   ]
  },
  {
   "cell_type": "code",
   "execution_count": null,
   "metadata": {
    "id": "0_wl8DFWADtG"
   },
   "outputs": [],
   "source": [
    "%%time\n",
    "\n",
    "print(\"-\"*60)\n",
    "tree_model = tree.DecisionTreeClassifier(criterion = \"entropy\",\n",
    "                                         class_weight = {0:2e-8, 1:1},\n",
    "                                         #min_sample \n",
    "                                         random_state = 0)\n",
    "\n",
    "tree_model.fit(X_train, y_train)\n",
    "\n",
    "print(f\"Training score: {tree_model.score(X_train, y_train)}\")\n",
    "print(f\"Test score:     {tree_model.score(X_test, y_test)}\")\n",
    "\n",
    "print(\"-\"*60)\n",
    "\n",
    "print(f\"Training Confusion Matrix\")\n",
    "print(confusion_matrix(y_true = y_train,\n",
    "                       y_pred = tree_model.predict(X_train)))\n",
    "\n",
    "print(\"-\"*60)\n",
    "\n",
    "print(f\"Testing Confusion Matrix\")\n",
    "print(confusion_matrix(y_true = y_test,\n",
    "                       y_pred = tree_model.predict(X_test)))\n",
    "\n",
    "print(\"-\"*60)"
   ]
  },
  {
   "cell_type": "code",
   "execution_count": null,
   "metadata": {
    "id": "0U2yA2FcAwcP"
   },
   "outputs": [],
   "source": [
    "pd.DataFrame(list(zip(featuresCD.columns, tree_model.feature_importances_)), columns = [\"feature\", \"importance\"]).sort_values(by = \"importance\", ascending = False)"
   ]
  },
  {
   "cell_type": "markdown",
   "metadata": {
    "id": "BQ2MbdGiRNCn"
   },
   "source": [
    "Look at Gradient Boosting again"
   ]
  },
  {
   "cell_type": "code",
   "execution_count": null,
   "metadata": {
    "id": "iO1qu1I4RKUf"
   },
   "outputs": [],
   "source": [
    "X_train, X_test, y_train, y_test = train_test_split(data, target, train_size = 0.01, test_size = 0.01, stratify = target, shuffle = True)"
   ]
  },
  {
   "cell_type": "code",
   "execution_count": null,
   "metadata": {
    "id": "Cbscwaa0Rk-0"
   },
   "outputs": [],
   "source": [
    "from sklearn.ensemble import GradientBoostingClassifier\n",
    "import sklearn.model_selection as ms"
   ]
  },
  {
   "cell_type": "code",
   "execution_count": null,
   "metadata": {
    "id": "fvf3sguHRmbj"
   },
   "outputs": [],
   "source": [
    "param_grid = {\n",
    "    \"learning_rate\" : [0.01],\n",
    "    \"max_depth\"     : [5, 10, 15],\n",
    "    \"subsample\"     : [0.9],\n",
    "    \"n_estimators\"  : [300,]\n",
    "}"
   ]
  },
  {
   "cell_type": "code",
   "execution_count": null,
   "metadata": {
    "id": "OdZcDK0CRwAC"
   },
   "outputs": [],
   "source": [
    "%%time\n",
    "gbm = GradientBoostingClassifier()\n",
    "grid_search_gbm = ms.GridSearchCV(gbm, param_grid, scoring = 'recall', cv = 3, n_jobs = -1)\n",
    "grid_search_gbm.fit(X_train, y_train)"
   ]
  },
  {
   "cell_type": "code",
   "execution_count": null,
   "metadata": {
    "id": "s2IMEM84R1Vn"
   },
   "outputs": [],
   "source": [
    "grid_search_gbm.best_params_"
   ]
  },
  {
   "cell_type": "code",
   "execution_count": null,
   "metadata": {
    "id": "w_qbG7ytR3NJ"
   },
   "outputs": [],
   "source": [
    "grid_search_gbm.best_score_"
   ]
  },
  {
   "cell_type": "code",
   "execution_count": null,
   "metadata": {
    "id": "ZfPtbKZkW5B9"
   },
   "outputs": [],
   "source": [
    "print(\"-\"*60)\n",
    "\n",
    "print(f\"Training Confusion Matrix\")\n",
    "print(confusion_matrix(y_true = y_train,\n",
    "                       y_pred = grid_search_gbm.best_estimator_.predict(X_train)))\n",
    "\n",
    "print(\"-\"*60)\n",
    "\n",
    "print(f\"Testing Confusion Matrix\")\n",
    "print(confusion_matrix(y_true = y_test,\n",
    "                       y_pred = grid_search_gbm.best_estimator_.predict(X_test)))\n",
    "\n",
    "print(\"-\"*60)"
   ]
  },
  {
   "cell_type": "code",
   "execution_count": null,
   "metadata": {
    "id": "utXfV6KaZHcv"
   },
   "outputs": [],
   "source": [
    "grid_search_gbm.cv_results_"
   ]
  },
  {
   "cell_type": "code",
   "execution_count": null,
   "metadata": {
    "id": "jSSkosmaaX99"
   },
   "outputs": [],
   "source": [
    "# Can't use class_weight for Gradient Boosting\n",
    "\n",
    "class_weight = {0:1, \n",
    "                1: len(featuresCD[featuresCD[\"loan_status_trim\"] == 0]) / len(featuresCD[featuresCD[\"loan_status_trim\"] == 1])\n",
    "                }"
   ]
  },
  {
   "cell_type": "code",
   "execution_count": null,
   "metadata": {
    "id": "R6ubbCecaeuV"
   },
   "outputs": [],
   "source": [
    "from sklearn.svm import SVC"
   ]
  },
  {
   "cell_type": "code",
   "execution_count": null,
   "metadata": {
    "id": "Yf8-G7JIdnBL"
   },
   "outputs": [],
   "source": [
    "%%time \n",
    "\n",
    "X_train, X_test, y_train, y_test = train_test_split(data, target, train_size = 0.01, test_size = 0.01, stratify = target, shuffle = True)\n",
    "\n",
    "svm = SVC()\n",
    "\n",
    "weights = np.linspace(2e-16, 3, 11)\n",
    "\n",
    "param_grid_svm = {\n",
    "    \"kernel\": [\"sigmoid\"],\n",
    "    \"class_weight\" : [{0:x, 1:3-x} for x in weights]\n",
    "    }\n",
    "\n",
    "grid_search_svm = ms.GridSearchCV(svm, \n",
    "                                  param_grid_svm, \n",
    "                                  scoring = \"f1_macro\", \n",
    "                                  cv = 2, \n",
    "                                  n_jobs = -1)\n",
    "\n",
    "grid_search_svm.fit(X_train, y_train)\n",
    "print(grid_search_svm.best_estimator_.score(X_train, y_train))\n",
    "print(grid_search_svm.best_estimator_.score(X_test, y_test))\n",
    "print(confusion_matrix(y_true = y_train, y_pred = grid_search_svm.best_estimator_.predict(X_train)))\n",
    "print(confusion_matrix(y_true = y_test, y_pred = grid_search_svm.best_estimator_.predict(X_test)))\n",
    "print(classification_report(y_test, y_pred = grid_search_svm.best_estimator_.predict(X_test)))\n",
    "print(grid_search_svm.best_params_)"
   ]
  },
  {
   "cell_type": "code",
   "execution_count": null,
   "metadata": {
    "id": "6tJ1q6Dc0XY2"
   },
   "outputs": [],
   "source": [
    "%%time \n",
    "\n",
    "X_train, X_test, y_train, y_test = train_test_split(data, target, train_size = 0.01, test_size = 0.01, stratify = target, shuffle = True)\n",
    "\n",
    "svm = SVC(class_weight = {0:1.2, 1:1.8}, kernel = \"sigmoid\", C = 33)\n",
    "\n",
    "param_grid_svm = {\n",
    "    \"C\":[33]\n",
    "    }\n",
    "\n",
    "grid_search_svm = ms.GridSearchCV(svm, \n",
    "                                  param_grid_svm, \n",
    "                                  scoring = \"f1_macro\", \n",
    "                                  cv = 2, \n",
    "                                  n_jobs = -1)\n",
    "\n",
    "grid_search_svm.fit(X_train, y_train)\n",
    "print(grid_search_svm.best_estimator_.score(X_train, y_train))\n",
    "print(grid_search_svm.best_estimator_.score(X_test, y_test))\n",
    "print(confusion_matrix(y_true = y_train, y_pred = grid_search_svm.best_estimator_.predict(X_train)))\n",
    "print(confusion_matrix(y_true = y_test, y_pred = grid_search_svm.best_estimator_.predict(X_test)))\n",
    "print(classification_report(y_test, y_pred = grid_search_svm.best_estimator_.predict(X_test)))\n",
    "print(grid_search_svm.best_params_)\n",
    "print(grid_search_svm.cv_results_)"
   ]
  },
  {
   "cell_type": "code",
   "execution_count": null,
   "metadata": {
    "id": "HPxm3F8uVubV"
   },
   "outputs": [],
   "source": [
    "import imblearn\n",
    "from imblearn.over_sampling import SVMSMOTE\n",
    "from imblearn.pipeline import make_pipeline"
   ]
  },
  {
   "cell_type": "code",
   "execution_count": null,
   "metadata": {
    "id": "dmLf4iXI5Ecl"
   },
   "outputs": [],
   "source": [
    "%%time \n",
    "\n",
    "X_train, X_test, y_train, y_test = train_test_split(data, target, train_size = 0.01, test_size = 0.01, stratify = target, shuffle = True)\n",
    "\n",
    "svm = SVC(#class_weight = {0:1.2, 1:1.8},\n",
    "          kernel = \"sigmoid\", \n",
    "          C = 33)\n",
    "          #tol = 2e-16, \n",
    "          #shrinking = False\n",
    "          #break_ties = True)\n",
    "\n",
    "pipe = make_pipeline(\n",
    "    SVMSMOTE(svm_estimator = svm,\n",
    "             sampling_strategy = {0:4369, 1:4369},\n",
    "             n_jobs = -1,\n",
    "             m_neighbors = 1,\n",
    "             k_neighbors = 2),\n",
    "    svm\n",
    ")\n",
    "\n",
    "param_grid_svm = {\n",
    "    \n",
    "    }\n",
    "\n",
    "pipe_grid_search_svm = ms.GridSearchCV(pipe, \n",
    "                                  param_grid_svm, \n",
    "                                  scoring = \"f1_macro\", \n",
    "                                  cv = 2, \n",
    "                                  n_jobs = -1)\n",
    "\n",
    "pipe_grid_search_svm.fit(X_train, y_train)\n",
    "print(pipe_grid_search_svm.best_estimator_.score(X_train, y_train))\n",
    "print(pipe_grid_search_svm.best_estimator_.score(X_test, y_test))\n",
    "print(confusion_matrix(y_true = y_train, y_pred = pipe_grid_search_svm.best_estimator_.predict(X_train)))\n",
    "print(confusion_matrix(y_true = y_test, y_pred = pipe_grid_search_svm.best_estimator_.predict(X_test)))\n",
    "print(classification_report(y_test, y_pred = pipe_grid_search_svm.best_estimator_.predict(X_test)))\n",
    "#print(pipe_grid_search_svm.best_params_)\n",
    "print(pipe_grid_search_svm.cv_results_)"
   ]
  },
  {
   "cell_type": "code",
   "execution_count": null,
   "metadata": {
    "id": "mEwCtk3PelTo"
   },
   "outputs": [],
   "source": [
    "print(\"Imbalanced-Learn\", imblearn.__version__)"
   ]
  },
  {
   "cell_type": "code",
   "execution_count": null,
   "metadata": {
    "id": "2rJa3JJ2FLkD"
   },
   "outputs": [],
   "source": [
    "sorted(SCORERS.keys())"
   ]
  },
  {
   "cell_type": "markdown",
   "metadata": {
    "id": "NCl8x_cpzlC7"
   },
   "source": []
  },
  {
   "cell_type": "code",
   "execution_count": null,
   "metadata": {
    "id": "d5LTfGmKqpEk"
   },
   "outputs": [],
   "source": [
    "grid_search_svm.get_params().keys()"
   ]
  },
  {
   "cell_type": "code",
   "execution_count": null,
   "metadata": {
    "id": "9O5u8s6aBs4l"
   },
   "outputs": [],
   "source": [
    "dir(grid_search_svm)"
   ]
  },
  {
   "cell_type": "code",
   "execution_count": null,
   "metadata": {
    "id": "_67z485sB8R9"
   },
   "outputs": [],
   "source": [
    "grid_search_svm.cv_results_"
   ]
  }
 ],
 "metadata": {
  "colab": {
   "authorship_tag": "ABX9TyMG+oN/duVZ6VgiPW25bWOy",
   "collapsed_sections": [],
   "mount_file_id": "1xP3myHlyERpdUHwM86f5WVMA8JFdAlCO",
   "name": "Debugging Models.ipynb",
   "provenance": []
  },
  "kernelspec": {
   "display_name": "Python 3",
   "language": "python",
   "name": "python3"
  },
  "language_info": {
   "codemirror_mode": {
    "name": "ipython",
    "version": 3
   },
   "file_extension": ".py",
   "mimetype": "text/x-python",
   "name": "python",
   "nbconvert_exporter": "python",
   "pygments_lexer": "ipython3",
   "version": "3.7.6"
  }
 },
 "nbformat": 4,
 "nbformat_minor": 1
}
